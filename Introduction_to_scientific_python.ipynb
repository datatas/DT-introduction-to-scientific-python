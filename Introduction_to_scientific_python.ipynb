{
  "nbformat": 4,
  "nbformat_minor": 0,
  "metadata": {
    "colab": {
      "name": "Introduction_to_scientific_python.ipynb",
      "provenance": [],
      "collapsed_sections": [],
      "authorship_tag": "ABX9TyMvaTwIHOv5M38fVWWjR1Uj",
      "include_colab_link": true
    },
    "kernelspec": {
      "name": "python3",
      "display_name": "Python 3"
    },
    "language_info": {
      "name": "python"
    }
  },
  "cells": [
    {
      "cell_type": "markdown",
      "metadata": {
        "id": "view-in-github",
        "colab_type": "text"
      },
      "source": [
        "<a href=\"https://colab.research.google.com/github/nicpittman/DT-introduction-to-scientific-python/blob/main/Introduction_to_scientific_python.ipynb\" target=\"_parent\"><img src=\"https://colab.research.google.com/assets/colab-badge.svg\" alt=\"Open In Colab\"/></a>"
      ]
    },
    {
      "cell_type": "markdown",
      "metadata": {
        "id": "rMNQKt5xAZH1"
      },
      "source": [
        "## Introduction to Scientific Programming in Python\n",
        "#### Presented by Nic Pittman, 08/04/2021\n"
      ]
    },
    {
      "cell_type": "markdown",
      "metadata": {
        "id": "YK7h2Y6nAsVU"
      },
      "source": [
        "### Key lessons for today\n",
        "- Scientific Python packages and dependencies\n",
        "- Getting started on google colab rather than using Anaconda or Miniconda locally\n",
        "- Basic data structures\n",
        "- Introduction to Numpy\n",
        "- Introduction to Matplotlib\n",
        "- Introduction to Pandas\n",
        "- Introduction to Xarray\n",
        "- Intermediate and advanced data processing\n",
        "\n",
        "\n",
        "You can more complete resources here. There is a huge amount of information online and python and libraries have good help documentation.\n",
        "\n",
        "Basic Data Structures:\n",
        "https://github.com/jrjohansson/scientific-python-lectures/blob/master/Lecture-1-Introduction-to-Python-Programming.ipynb\n",
        "\n",
        "Numpy:\n",
        "https://github.com/jrjohansson/scientific-python-lectures/blob/master/Lecture-2-Numpy.ipynb\n",
        "\n",
        "Pandas: https://github.com/dlab-berkeley/introduction-to-pandas/blob/master/introduction-to-pandas.ipynb\n",
        "https://github.com/guiwitz/NumpyPandas_course \n",
        "\n",
        "\n",
        "Other: https://github.com/jrjohansson/scientific-python-lectures (Including SciPy and Matplotlib+ Advanced topics)\n",
        "\n",
        "CLEX Python and programming videos (Highly recommend) https://www.youtube.com/user/COECSSCMS/videos\n",
        "\n",
        "Lots of beginner to advanced posts on a variety of scientific python \n",
        "topics here: https://climate-cms.org/\n",
        "\n",
        "\n",
        "Sample Matplotlib library https://matplotlib.org/stable/tutorials/introductory/sample_plots.html \n"
      ]
    },
    {
      "cell_type": "markdown",
      "metadata": {
        "id": "d_mShdQmFkHr"
      },
      "source": [
        "## Part 1: Getting started on Conda\n",
        "\n",
        "I am not going to go into lots of detail about Anaconda.\n",
        "Basically, its similar to what you are running here (Google colab has something similar set up).\n",
        "You can have different environments and install different packages.\n",
        "\n",
        "Look at https://docs.anaconda.com/anaconda/install/\n",
        "Miniconda is a liteweight alternative\n",
        "\n",
        "Pangeo is a set of open source library of packages for reproducible research https://pangeo.io/\n",
        "\n",
        "\n",
        "Many people recommend using Jupyter (This is a Jupyter notebook). I use it sometimes, but prefer to use Spyder, an IDE (Interactive Development Environment) very similar to Matlab and R. "
      ]
    },
    {
      "cell_type": "markdown",
      "metadata": {
        "id": "BTMk2M4JAUs6"
      },
      "source": [
        "# Part 2: Scientific Python Packages and Dependencies\n",
        "\n",
        "Python is open source software, that has the core libaries, and then many additional libraries available to use.\n",
        "\n",
        "We will be using Python version 3.7. Please don't try learn 2.x as it is depreciated.\n",
        "\n",
        "The libraries we will focus on today for scientific analysis are as below. \n",
        "\n",
        "We can use them using their conventional short names. Later, we will be able to call functions within numpy, for example, np.array()\n",
        "\n",
        "Convention says we put these imports at the top of our document"
      ]
    },
    {
      "cell_type": "code",
      "metadata": {
        "id": "3h7AxyPlm_5I"
      },
      "source": [
        "\n",
        "\n",
        "#https://numpy.org/\n",
        "import numpy as np                  #Numpy is a useful scientific package for large datasets. It is different to the core python array system.\n",
        "\n",
        "#https://pandas.pydata.org/\n",
        "import pandas as pd                 #Pandas is built on top of numpy, but uses labels, much like a table in excel. This can make it easier to access certain attributes,\n",
        "                                    #rather than remembering which dimension they are on.\n",
        "\n",
        "#http://xarray.pydata.org/en/stable/                                \n",
        "import xarray as xr                 #Xarray is a combination of numpy and pandas, but for n-dimensional data. It uses computational efficiencies and can load very large datasets.\n",
        "\n",
        "#https://matplotlib.org/\n",
        "import matplotlib.pyplot as plt     #Matplotlib is how we will be plotting all of our data. \n",
        "\n",
        "#https://seaborn.pydata.org/\n",
        "import seaborn                      #A wrapper for matplotlib and statistics packages to make nice R-like plots\n",
        "\n",
        "#https://www.scipy.org/\n",
        "import scipy                        #Has loads of advanced and useful statistical, machine learning and other packages (If you want machine learning though, I recommend Keras or PyTorch)"
      ],
      "execution_count": null,
      "outputs": []
    },
    {
      "cell_type": "markdown",
      "metadata": {
        "id": "R_WehFiR-IW6"
      },
      "source": [
        "## Part 3: Basic python data structures\n",
        "Great! Even though we are on collab and don't need the other two points, you will need them when working locally.\n",
        "\n",
        "Lets get started!\n",
        "\n"
      ]
    },
    {
      "cell_type": "code",
      "metadata": {
        "id": "VXBqHj4jLQma"
      },
      "source": [
        "#First of all, you can check the help of any thing in namespace (what python can see) in iPython (interactive python used by Jupyter) by using\n",
        "?str"
      ],
      "execution_count": null,
      "outputs": []
    },
    {
      "cell_type": "code",
      "metadata": {
        "colab": {
          "base_uri": "https://localhost:8080/"
        },
        "id": "NQH-W5LLEk5D",
        "outputId": "93e49283-7bfc-41a0-92c2-7e5938e3e642"
      },
      "source": [
        "#You do not need to define types explicitely in python as it will do it automagically, but it can sometimes help:\n",
        "print(3+1)\n",
        "print('Three'+'One')"
      ],
      "execution_count": null,
      "outputs": [
        {
          "output_type": "stream",
          "text": [
            "4\n",
            "ThreeOne\n"
          ],
          "name": "stdout"
        }
      ]
    },
    {
      "cell_type": "code",
      "metadata": {
        "colab": {
          "base_uri": "https://localhost:8080/",
          "height": 189
        },
        "id": "m2U3jiHiE7pw",
        "outputId": "9d88af4b-5f1b-4b8a-c5ea-4259dbdccf49"
      },
      "source": [
        "#For example:\n",
        "print('Three'+1) #Oops"
      ],
      "execution_count": null,
      "outputs": [
        {
          "output_type": "error",
          "ename": "TypeError",
          "evalue": "ignored",
          "traceback": [
            "\u001b[0;31m---------------------------------------------------------------------------\u001b[0m",
            "\u001b[0;31mTypeError\u001b[0m                                 Traceback (most recent call last)",
            "\u001b[0;32m<ipython-input-44-6efce901f1de>\u001b[0m in \u001b[0;36m<module>\u001b[0;34m()\u001b[0m\n\u001b[1;32m      1\u001b[0m \u001b[0;31m#For example:\u001b[0m\u001b[0;34m\u001b[0m\u001b[0;34m\u001b[0m\u001b[0;34m\u001b[0m\u001b[0m\n\u001b[0;32m----> 2\u001b[0;31m \u001b[0mprint\u001b[0m\u001b[0;34m(\u001b[0m\u001b[0;34m'Three'\u001b[0m\u001b[0;34m+\u001b[0m\u001b[0;36m1\u001b[0m\u001b[0;34m)\u001b[0m \u001b[0;31m#Oops\u001b[0m\u001b[0;34m\u001b[0m\u001b[0;34m\u001b[0m\u001b[0m\n\u001b[0m",
            "\u001b[0;31mTypeError\u001b[0m: can only concatenate str (not \"int\") to str"
          ]
        }
      ]
    },
    {
      "cell_type": "code",
      "metadata": {
        "colab": {
          "base_uri": "https://localhost:8080/"
        },
        "id": "yBdeVj8PE_ty",
        "outputId": "8eb66709-c2ea-41de-b718-324949a692a1"
      },
      "source": [
        "#So we need to either define them like:\n",
        "print(int('3')+1)\n",
        "#or\n",
        "print('three'+str(1))"
      ],
      "execution_count": null,
      "outputs": [
        {
          "output_type": "stream",
          "text": [
            "4\n",
            "three1\n"
          ],
          "name": "stdout"
        }
      ]
    },
    {
      "cell_type": "markdown",
      "metadata": {
        "id": "umrF2660El3w"
      },
      "source": [
        "#### Now lets look at arrays. "
      ]
    },
    {
      "cell_type": "code",
      "metadata": {
        "colab": {
          "base_uri": "https://localhost:8080/"
        },
        "id": "y6Gs2TDYDJyl",
        "outputId": "19e9c962-35c3-4e23-99c4-aa3360b816fa"
      },
      "source": [
        "my_array=['Element 1','Element 2'] \n",
        "\n",
        "#We an add new elements to the array like:\n",
        "my_array.append('Element 3')\n",
        "my_array.append('Element 4')\n",
        "print(my_array)"
      ],
      "execution_count": null,
      "outputs": [
        {
          "output_type": "stream",
          "text": [
            "['Element 1', 'Element 2', 'Element 3', 'Element 4']\n"
          ],
          "name": "stdout"
        }
      ]
    },
    {
      "cell_type": "code",
      "metadata": {
        "colab": {
          "base_uri": "https://localhost:8080/"
        },
        "id": "rGx4yyIdDvhQ",
        "outputId": "3fcc27db-556c-42ec-9a97-0e5f490a7bee"
      },
      "source": [
        "#But remember, Python indexing starts at 0, not 1 like in other languages\n",
        "print(my_array[1])\n",
        "#so we need to do this instead:\n",
        "print(my_array[0])\n"
      ],
      "execution_count": null,
      "outputs": [
        {
          "output_type": "stream",
          "text": [
            "Element 2\n",
            "Element 1\n"
          ],
          "name": "stdout"
        }
      ]
    },
    {
      "cell_type": "code",
      "metadata": {
        "colab": {
          "base_uri": "https://localhost:8080/"
        },
        "id": "weVEIk0eDH4H",
        "outputId": "fc9a15df-2f30-47d8-8a5d-2ea47206e786"
      },
      "source": [
        "#You can also go backwards\n",
        "print(my_array[-1])\n",
        "\n",
        "#or select a small component\n",
        "print(my_array[1:3])\n",
        "\n",
        "#or even reverse the whole thing\n",
        "print(my_array[::-1])"
      ],
      "execution_count": null,
      "outputs": [
        {
          "output_type": "stream",
          "text": [
            "Element 4\n",
            "['Element 2', 'Element 3']\n",
            "['Element 4', 'Element 3', 'Element 2', 'Element 1']\n"
          ],
          "name": "stdout"
        }
      ]
    },
    {
      "cell_type": "code",
      "metadata": {
        "colab": {
          "base_uri": "https://localhost:8080/"
        },
        "id": "1y4JYFCZII3k",
        "outputId": "9c008522-1a27-4507-d188-01047df2d40c"
      },
      "source": [
        "#There are also python functions like this (I'm not going to talk about all of them)\n",
        "print(len(my_array)) #Can you work out what this is?\n",
        "#how about\n",
        "print(range(len(my_array)))\n",
        "#This could be useful later. "
      ],
      "execution_count": null,
      "outputs": [
        {
          "output_type": "stream",
          "text": [
            "4\n",
            "range(0, 4)\n"
          ],
          "name": "stdout"
        }
      ]
    },
    {
      "cell_type": "markdown",
      "metadata": {
        "id": "QlMwgqKaEHYj"
      },
      "source": [
        "####We can make two dimensional arrays like:"
      ]
    },
    {
      "cell_type": "code",
      "metadata": {
        "colab": {
          "base_uri": "https://localhost:8080/"
        },
        "id": "LlK4OhULB8cr",
        "outputId": "b157f466-336c-4640-93be-f2927456a17b"
      },
      "source": [
        "my2d_array=[[1,2,3,4,5,6,7,8,9,10],[100,200,300,400,500,600,700],[1000,2000,3000,4000,5000]]\n",
        "print(my2d_array)\n",
        "#But if I only want the thousand I need to remember:\n",
        "print(my2d_array[2]) \n",
        "#or even\n",
        "print(my2d_array[2][0])"
      ],
      "execution_count": null,
      "outputs": [
        {
          "output_type": "stream",
          "text": [
            "[[1, 2, 3, 4, 5, 6, 7, 8, 9, 10], [100, 200, 300, 400, 500, 600, 700], [1000, 2000, 3000, 4000, 5000]]\n",
            "[1000, 2000, 3000, 4000, 5000]\n",
            "1000\n"
          ],
          "name": "stdout"
        }
      ]
    },
    {
      "cell_type": "markdown",
      "metadata": {
        "id": "AbuwgMI4ESz5"
      },
      "source": [
        "#### Ok how about something that remembers something else: a dictionary"
      ]
    },
    {
      "cell_type": "code",
      "metadata": {
        "colab": {
          "base_uri": "https://localhost:8080/"
        },
        "id": "r0oiK9FQ-Vrw",
        "outputId": "67d51565-b5a6-4d2d-f312-f0af8aefc327"
      },
      "source": [
        "this_is_a_dictionary={'Key':'Data'}\n",
        "print(this_is_a_dictionary)\n",
        "print(this_is_a_dictionary['Key'])"
      ],
      "execution_count": null,
      "outputs": [
        {
          "output_type": "stream",
          "text": [
            "{'Key': 'Data'}\n",
            "Data\n"
          ],
          "name": "stdout"
        }
      ]
    },
    {
      "cell_type": "code",
      "metadata": {
        "colab": {
          "base_uri": "https://localhost:8080/"
        },
        "id": "0Wcw-RYJ-Y-I",
        "outputId": "abed4323-88fd-4748-c023-ab099ce7245e"
      },
      "source": [
        "#You can add extra keys and values like:\n",
        "this_is_a_dictionary['mynewkey'] = 'more data'\n",
        "this_is_a_dictionary['anotherkey'] = 'even more data'\n",
        "print(this_is_a_dictionary)\n",
        "#Very useful for lookups. But there are better tools for the job"
      ],
      "execution_count": null,
      "outputs": [
        {
          "output_type": "stream",
          "text": [
            "{'Key': 'Data', 'mynewkey': 'more data', 'anotherkey': 'even more data'}\n"
          ],
          "name": "stdout"
        }
      ]
    },
    {
      "cell_type": "markdown",
      "metadata": {
        "id": "p7TQ5bf0G_XP"
      },
      "source": [
        "#### Part 4: Numpy\n",
        "\n",
        "Lets use what we just learnt in a more practical way. \n",
        "\n",
        "Numpy does lots and lots of stuff and this is a very brief overview. \n",
        "\n",
        "Check here for more information: \n",
        "https://numpy.org/devdocs/user/absolute_beginners.html"
      ]
    },
    {
      "cell_type": "code",
      "metadata": {
        "colab": {
          "base_uri": "https://localhost:8080/"
        },
        "id": "G0QJ-ouNEcA3",
        "outputId": "f9be589b-9403-4934-dc15-1cefbf49550a"
      },
      "source": [
        "#Great. We understand basic python syntax and datatypes\n",
        "#How about this\n",
        "my_numpy_array=np.array([1,2,3,4,5])\n",
        "print(my_numpy_array)\n",
        "print(my_numpy_array[0])"
      ],
      "execution_count": null,
      "outputs": [
        {
          "output_type": "stream",
          "text": [
            "[1 2 3 4 5]\n",
            "1\n"
          ],
          "name": "stdout"
        }
      ]
    },
    {
      "cell_type": "code",
      "metadata": {
        "colab": {
          "base_uri": "https://localhost:8080/",
          "height": 207
        },
        "id": "O4yb9VtpHMMy",
        "outputId": "df210433-d7b5-4c69-ea09-f3cec7e959fa"
      },
      "source": [
        "#Ok so what is different?\n",
        "#First of all you can't do this\n",
        "my_numpy_array.append([6])"
      ],
      "execution_count": null,
      "outputs": [
        {
          "output_type": "error",
          "ename": "AttributeError",
          "evalue": "ignored",
          "traceback": [
            "\u001b[0;31m---------------------------------------------------------------------------\u001b[0m",
            "\u001b[0;31mAttributeError\u001b[0m                            Traceback (most recent call last)",
            "\u001b[0;32m<ipython-input-74-c46fe87d2766>\u001b[0m in \u001b[0;36m<module>\u001b[0;34m()\u001b[0m\n\u001b[1;32m      1\u001b[0m \u001b[0;31m#Ok so what is different?\u001b[0m\u001b[0;34m\u001b[0m\u001b[0;34m\u001b[0m\u001b[0;34m\u001b[0m\u001b[0m\n\u001b[1;32m      2\u001b[0m \u001b[0;31m#First of all you can't do this\u001b[0m\u001b[0;34m\u001b[0m\u001b[0;34m\u001b[0m\u001b[0;34m\u001b[0m\u001b[0m\n\u001b[0;32m----> 3\u001b[0;31m \u001b[0mmy_numpy_array\u001b[0m\u001b[0;34m.\u001b[0m\u001b[0mappend\u001b[0m\u001b[0;34m(\u001b[0m\u001b[0;34m[\u001b[0m\u001b[0;36m6\u001b[0m\u001b[0;34m]\u001b[0m\u001b[0;34m)\u001b[0m\u001b[0;34m\u001b[0m\u001b[0;34m\u001b[0m\u001b[0m\n\u001b[0m",
            "\u001b[0;31mAttributeError\u001b[0m: 'numpy.ndarray' object has no attribute 'append'"
          ]
        }
      ]
    },
    {
      "cell_type": "code",
      "metadata": {
        "colab": {
          "base_uri": "https://localhost:8080/"
        },
        "id": "ZwZa6WHVHX3Q",
        "outputId": "d63d07b4-ac88-486e-8ed9-43810edb184a"
      },
      "source": [
        "#Which I agree is a bit funny. But its all about the way the data is stored, and that Numpy uses objects. You'll need to do this instead which is a bit clunky\n",
        "my_numpy_array=np.append(my_numpy_array,6) #Dont forget = because this function only returns, not rewrite the array.\n",
        "print(my_numpy_array)"
      ],
      "execution_count": null,
      "outputs": [
        {
          "output_type": "stream",
          "text": [
            "[1 2 3 4 5 6]\n"
          ],
          "name": "stdout"
        }
      ]
    },
    {
      "cell_type": "code",
      "metadata": {
        "colab": {
          "base_uri": "https://localhost:8080/"
        },
        "id": "fUHbhB53HgO7",
        "outputId": "27cde19c-ddab-47d6-d427-6ebeaf2016db"
      },
      "source": [
        "#but we have modifiers like\n",
        "print(my_numpy_array.shape)\n",
        "#or even:\n",
        "my_new_numpy_array=my_numpy_array.reshape(3, 2)\n",
        "print(my_new_numpy_array)\n",
        "print(my_new_numpy_array.shape)\n",
        "#They have better info so lets go here: https://numpy.org/devdocs/user/absolute_beginners.html\n",
        "\n",
        "#Numpy also has inbuilt functions like (and many others, check their docs!):\n",
        "print(np.arange(0,10))\n"
      ],
      "execution_count": null,
      "outputs": [
        {
          "output_type": "stream",
          "text": [
            "(6,)\n",
            "[[1 2]\n",
            " [3 4]\n",
            " [5 6]]\n",
            "(3, 2)\n",
            "[0 1 2 3 4 5 6 7 8 9]\n"
          ],
          "name": "stdout"
        }
      ]
    },
    {
      "cell_type": "code",
      "metadata": {
        "colab": {
          "base_uri": "https://localhost:8080/"
        },
        "id": "oywGvNI2H-Jg",
        "outputId": "2edb4c94-32da-47b9-90f4-c4545060dc5e"
      },
      "source": [
        "# A cool example of why numpy really is better https://www.geeksforgeeks.org/why-numpy-is-faster-in-python/ (also https://towardsdatascience.com/how-fast-numpy-really-is-e9111df44347)\n",
        "# importing required packages\n",
        "import numpy\n",
        "import time\n",
        " \n",
        "# size of arrays and lists\n",
        "size = 1000000  \n",
        " \n",
        "# declaring lists\n",
        "list1 = range(size)\n",
        "list2 = range(size)\n",
        " \n",
        "# declaring arrays\n",
        "array1 = numpy.arange(size) \n",
        "array2 = numpy.arange(size)\n",
        " \n",
        "# list\n",
        "initialTime = time.time()\n",
        "resultantList = [(a * b) for a, b in zip(list1, list2)]\n",
        " \n",
        "# calculating execution time\n",
        "print(\"Time taken by Lists :\",\n",
        "      (time.time() - initialTime),\n",
        "      \"seconds\")\n",
        " \n",
        "# NumPy array\n",
        "initialTime = time.time()\n",
        "resultantArray = array1 * array2\n",
        " \n",
        "# calculating execution time\n",
        "print(\"Time taken by NumPy Arrays :\",\n",
        "      (time.time() - initialTime),\n",
        "      \"seconds\")\n"
      ],
      "execution_count": null,
      "outputs": [
        {
          "output_type": "stream",
          "text": [
            "Time taken by Lists : 0.11598372459411621 seconds\n",
            "Time taken by NumPy Arrays : 0.0037221908569335938 seconds\n"
          ],
          "name": "stdout"
        }
      ]
    },
    {
      "cell_type": "markdown",
      "metadata": {
        "id": "75GoIwiLLnRj"
      },
      "source": [
        "### Part 5: Pandas, now that we know numpy is the bees knees, how can we build on this knowledge"
      ]
    },
    {
      "cell_type": "markdown",
      "metadata": {
        "id": "svtCGTkvvCZn"
      },
      "source": [
        "#### Pandas Series"
      ]
    },
    {
      "cell_type": "code",
      "metadata": {
        "colab": {
          "base_uri": "https://localhost:8080/"
        },
        "id": "F5x_SdNHI-7S",
        "outputId": "57357b67-fe85-4c13-9761-3f90ed7865b2"
      },
      "source": [
        "my_pandas_series=pd.Series(this_is_a_dictionary)\n",
        "print(my_pandas_series)\n"
      ],
      "execution_count": null,
      "outputs": [
        {
          "output_type": "stream",
          "text": [
            "Key                     Data\n",
            "mynewkey           more data\n",
            "anotherkey    even more data\n",
            "dtype: object\n",
            "Key                     Data\n",
            "mynewkey           more data\n",
            "anotherkey    even more data\n",
            "dtype: object\n"
          ],
          "name": "stdout"
        }
      ]
    },
    {
      "cell_type": "markdown",
      "metadata": {
        "id": "oAN8GJxiOtSl"
      },
      "source": [
        "#### Pandas DataFrame"
      ]
    },
    {
      "cell_type": "code",
      "metadata": {
        "colab": {
          "base_uri": "https://localhost:8080/"
        },
        "id": "EZlfJvB8LMJ6",
        "outputId": "7de74f9c-7ae4-4ffe-944e-f8bc24a1f8c6"
      },
      "source": [
        "#And we can turn this into a nice 2d table\n",
        "\n",
        "my_dataframe=pd.Series(my_pandas_series).to_frame('ColumnName')\n",
        "print(my_dataframe)\n",
        "\n",
        "#print(my_dataframe.index)"
      ],
      "execution_count": null,
      "outputs": [
        {
          "output_type": "stream",
          "text": [
            "                ColumnName\n",
            "Key                   Data\n",
            "mynewkey         more data\n",
            "anotherkey  even more data\n"
          ],
          "name": "stdout"
        }
      ]
    },
    {
      "cell_type": "markdown",
      "metadata": {
        "id": "fsEt14XUww1J"
      },
      "source": [
        ""
      ]
    },
    {
      "cell_type": "code",
      "metadata": {
        "colab": {
          "base_uri": "https://localhost:8080/"
        },
        "id": "YotJqRaPvK0E",
        "outputId": "90946638-3d62-47bc-a93e-1b5abe230a93"
      },
      "source": [
        "#But now we could add more columns very easily\n",
        "my_dataframe['Score']=[9,5,1]\n",
        "print(my_dataframe)"
      ],
      "execution_count": null,
      "outputs": [
        {
          "output_type": "stream",
          "text": [
            "                ColumnName  Score\n",
            "Key                   Data      9\n",
            "mynewkey         more data      5\n",
            "anotherkey  even more data      1\n",
            "Key           9\n",
            "mynewkey      5\n",
            "anotherkey    1\n",
            "Name: Score, dtype: int64\n"
          ],
          "name": "stdout"
        }
      ]
    },
    {
      "cell_type": "code",
      "metadata": {
        "colab": {
          "base_uri": "https://localhost:8080/"
        },
        "id": "l50r8nlWw7aM",
        "outputId": "b7083529-32f8-4bca-c2cc-1ecfdfae5852"
      },
      "source": [
        "#Pandas will let us use dot notation for our column names.\n",
        "print(my_dataframe.Score)"
      ],
      "execution_count": null,
      "outputs": [
        {
          "output_type": "stream",
          "text": [
            "Key           9\n",
            "mynewkey      5\n",
            "anotherkey    1\n",
            "Name: Score, dtype: int64\n"
          ],
          "name": "stdout"
        }
      ]
    },
    {
      "cell_type": "markdown",
      "metadata": {
        "id": "gz1Ks5BQxBcY"
      },
      "source": [
        "This is a bad example so lets check what other people have done: https://www.geeksforgeeks.org/adding-new-column-to-existing-dataframe-in-pandas/ or even https://github.com/dlab-berkeley/introduction-to-pandas/blob/master/introduction-to-pandas.ipynb"
      ]
    },
    {
      "cell_type": "markdown",
      "metadata": {
        "id": "w-IbIvZFOnoW"
      },
      "source": [
        "#### Part 6: Introduction to xarray\n",
        "\n",
        "This one is probably the library I use the most, is probably the most powerful library but has the worst documentation/learning curve of everything.\n",
        "Basically creates a n-Dimensional pandas dataframe, but uses computational efficiencies (Dask) to be efficient and load massive datasets into memory. "
      ]
    },
    {
      "cell_type": "code",
      "metadata": {
        "id": "WSWACDl-v1Sp"
      },
      "source": [
        ""
      ],
      "execution_count": null,
      "outputs": []
    },
    {
      "cell_type": "markdown",
      "metadata": {
        "id": "srnYHTmJHUmp"
      },
      "source": [
        "### Part 7: Matplotlib and Advanced plotting\n",
        "Lots of good resources. I will provide a quick summary, but encourage you to watch these two videos from CLEX\n",
        "\n",
        "\n",
        "Intro: https://www.youtube.com/watch?v=5MoSx4GftK\n",
        "Advanced: https://www.youtube.com/watch?v=O3F2xrFHgKw "
      ]
    },
    {
      "cell_type": "code",
      "metadata": {
        "id": "y16IT6lXwEyi"
      },
      "source": [
        ""
      ],
      "execution_count": null,
      "outputs": []
    },
    {
      "cell_type": "markdown",
      "metadata": {
        "id": "HkzgQs5CPMfS"
      },
      "source": [
        "### Part 8: Seaborn statistical plotting"
      ]
    },
    {
      "cell_type": "markdown",
      "metadata": {
        "id": "OraZLbwkXO7x"
      },
      "source": [
        "#### Part 9: Defensive programming\n",
        "Overview of testing your code and handling errors"
      ]
    },
    {
      "cell_type": "code",
      "metadata": {
        "colab": {
          "base_uri": "https://localhost:8080/"
        },
        "id": "QdFTvNPFHUKw",
        "outputId": "176e8430-107d-4544-a4db-3e2221d84977"
      },
      "source": [
        "try:\n",
        "  thisisgointofail \n",
        "except:a\n",
        "  print('This will not fail, and will occur because the other one did fail')  "
      ],
      "execution_count": 2,
      "outputs": [
        {
          "output_type": "stream",
          "text": [
            "This will not fail, and will occur because the other one did fail\n"
          ],
          "name": "stdout"
        }
      ]
    },
    {
      "cell_type": "code",
      "metadata": {
        "id": "ji0A9C1sXtS3",
        "outputId": "4de58d12-aef9-4492-8c6b-0a807bbfecfe",
        "colab": {
          "base_uri": "https://localhost:8080/",
          "height": 189
        }
      },
      "source": [
        "assert 1==1\n",
        "assert 1==2 #But one does not equal two"
      ],
      "execution_count": 4,
      "outputs": [
        {
          "output_type": "error",
          "ename": "AssertionError",
          "evalue": "ignored",
          "traceback": [
            "\u001b[0;31m---------------------------------------------------------------------------\u001b[0m",
            "\u001b[0;31mAssertionError\u001b[0m                            Traceback (most recent call last)",
            "\u001b[0;32m<ipython-input-4-b6956f59a25d>\u001b[0m in \u001b[0;36m<module>\u001b[0;34m()\u001b[0m\n\u001b[1;32m      1\u001b[0m \u001b[0;32massert\u001b[0m \u001b[0;36m1\u001b[0m\u001b[0;34m==\u001b[0m\u001b[0;36m1\u001b[0m\u001b[0;34m\u001b[0m\u001b[0;34m\u001b[0m\u001b[0m\n\u001b[0;32m----> 2\u001b[0;31m \u001b[0;32massert\u001b[0m \u001b[0;36m1\u001b[0m\u001b[0;34m==\u001b[0m\u001b[0;36m2\u001b[0m \u001b[0;31m#But one does not equal two\u001b[0m\u001b[0;34m\u001b[0m\u001b[0;34m\u001b[0m\u001b[0m\n\u001b[0m",
            "\u001b[0;31mAssertionError\u001b[0m: "
          ]
        }
      ]
    },
    {
      "cell_type": "code",
      "metadata": {
        "id": "EjiycsUKXuyA"
      },
      "source": [
        ""
      ],
      "execution_count": null,
      "outputs": []
    }
  ]
}