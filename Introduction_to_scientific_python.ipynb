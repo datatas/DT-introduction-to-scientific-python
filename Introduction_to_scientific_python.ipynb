{
  "nbformat": 4,
  "nbformat_minor": 0,
  "metadata": {
    "colab": {
      "name": "Introduction_to_scientific_python.ipynb",
      "provenance": [],
      "collapsed_sections": [],
      "authorship_tag": "ABX9TyMMTjz+2+fm4kS6t4kZy0a5",
      "include_colab_link": true
    },
    "kernelspec": {
      "name": "python3",
      "display_name": "Python 3"
    },
    "language_info": {
      "name": "python"
    }
  },
  "cells": [
    {
      "cell_type": "markdown",
      "metadata": {
        "id": "view-in-github",
        "colab_type": "text"
      },
      "source": [
        "<a href=\"https://colab.research.google.com/github/nicpittman/DT-introduction-to-scientific-python/blob/main/Introduction_to_scientific_python.ipynb\" target=\"_parent\"><img src=\"https://colab.research.google.com/assets/colab-badge.svg\" alt=\"Open In Colab\"/></a>"
      ]
    },
    {
      "cell_type": "markdown",
      "metadata": {
        "id": "rMNQKt5xAZH1"
      },
      "source": [
        "## Introduction to Scientific Programming in Python\n",
        "#### Presented by Nic Pittman, 08/04/2021\n"
      ]
    },
    {
      "cell_type": "markdown",
      "metadata": {
        "id": "YK7h2Y6nAsVU"
      },
      "source": [
        "### Key lessons for today\n",
        "- Scientific Python packages and dependencies\n",
        "- Getting started on google colab rather than using Anaconda or Miniconda locally\n",
        "- Basic data structures\n",
        "- Introduction to Numpy\n",
        "- Introduction to Matplotlib\n",
        "- Introduction to Pandas\n",
        "- Introduction to Xarray\n",
        "- Intermediate and advanced data processing\n",
        "\n",
        "\n",
        "You can more complete resources here. There is a huge amount of information online and python and libraries have good help documentation.\n",
        "\n",
        "Basic Data Structures:\n",
        "https://github.com/jrjohansson/scientific-python-lectures/blob/master/Lecture-1-Introduction-to-Python-Programming.ipynb\n",
        "\n",
        "Numpy:\n",
        "https://github.com/jrjohansson/scientific-python-lectures/blob/master/Lecture-2-Numpy.ipynb\n",
        "\n",
        "Pandas: https://github.com/dlab-berkeley/introduction-to-pandas/blob/master/introduction-to-pandas.ipynb\n",
        "https://github.com/guiwitz/NumpyPandas_course \n",
        "\n",
        "\n",
        "Other: https://github.com/jrjohansson/scientific-python-lectures (Including SciPy and Matplotlib+ Advanced topics)\n",
        "\n",
        "CLEX Python and programming videos (Highly recommend) https://www.youtube.com/user/COECSSCMS/videos\n",
        "\n",
        "Lots of beginner to advanced posts on a variety of scientific python \n",
        "topics here: https://climate-cms.org/\n",
        "\n",
        "\n",
        "Sample Matplotlib library https://matplotlib.org/stable/tutorials/introductory/sample_plots.html \n"
      ]
    },
    {
      "cell_type": "markdown",
      "metadata": {
        "id": "d_mShdQmFkHr"
      },
      "source": [
        "## Part 1: Getting started on Conda\n",
        "\n",
        "I am not going to go into lots of detail about Anaconda.\n",
        "Basically, its similar to what you are running here (Google colab has something similar set up).\n",
        "You can have different environments and install different packages.\n",
        "\n",
        "Look at https://docs.anaconda.com/anaconda/install/\n",
        "Miniconda is a liteweight alternative\n",
        "\n",
        "Pangeo is a standard set of open source library of packages for reproducible research https://pangeo.io/. Semi-advanced use, but generally refers to the suite of packages used in this tutorial.\n",
        "\n",
        "Many people recommend using Jupyter (This is a Jupyter notebook). I use it sometimes, but prefer to use Spyder, an IDE (Interactive Development Environment) very similar to Matlab and R. "
      ]
    },
    {
      "cell_type": "markdown",
      "metadata": {
        "id": "BTMk2M4JAUs6"
      },
      "source": [
        "# Part 2: Scientific Python Packages and Dependencies\n",
        "\n",
        "Python is open source software, that has the core libaries, and then many additional libraries available to use.\n",
        "\n",
        "We will be using Python version 3.7. Please don't try learn 2.x as it is depreciated.\n",
        "\n",
        "The libraries we will focus on today for scientific analysis are as below. \n",
        "\n",
        "We can use them using their conventional short names. Later, we will be able to call functions within numpy, for example, np.array()\n",
        "\n",
        "Convention says we put these imports at the top of our document"
      ]
    },
    {
      "cell_type": "code",
      "metadata": {
        "id": "FZtnY4IPtOqf",
        "outputId": "0d9d4166-8161-4dd0-8eb3-ceeb67c150bd",
        "colab": {
          "base_uri": "https://localhost:8080/"
        }
      },
      "source": [
        "#Lets get these installations out of the way so we can use certain extra packages not included in \n",
        "!pip install erddapy\n",
        "!pip install xarray\n",
        "!pip install netcdf4\n",
        "!pip install cmocean"
      ],
      "execution_count": 20,
      "outputs": [
        {
          "output_type": "stream",
          "text": [
            "Collecting erddapy\n",
            "  Downloading https://files.pythonhosted.org/packages/f9/cf/ed3c64c016e0d71cad8e27b4472647ba66033cd8c79fed7b409e9e50a989/erddapy-0.9.0-py3-none-any.whl\n",
            "Requirement already satisfied: pandas>=0.20.3 in /usr/local/lib/python3.7/dist-packages (from erddapy) (1.1.5)\n",
            "Requirement already satisfied: requests in /usr/local/lib/python3.7/dist-packages (from erddapy) (2.23.0)\n",
            "Requirement already satisfied: python-dateutil>=2.7.3 in /usr/local/lib/python3.7/dist-packages (from pandas>=0.20.3->erddapy) (2.8.1)\n",
            "Requirement already satisfied: pytz>=2017.2 in /usr/local/lib/python3.7/dist-packages (from pandas>=0.20.3->erddapy) (2018.9)\n",
            "Requirement already satisfied: numpy>=1.15.4 in /usr/local/lib/python3.7/dist-packages (from pandas>=0.20.3->erddapy) (1.19.5)\n",
            "Requirement already satisfied: urllib3!=1.25.0,!=1.25.1,<1.26,>=1.21.1 in /usr/local/lib/python3.7/dist-packages (from requests->erddapy) (1.24.3)\n",
            "Requirement already satisfied: idna<3,>=2.5 in /usr/local/lib/python3.7/dist-packages (from requests->erddapy) (2.10)\n",
            "Requirement already satisfied: chardet<4,>=3.0.2 in /usr/local/lib/python3.7/dist-packages (from requests->erddapy) (3.0.4)\n",
            "Requirement already satisfied: certifi>=2017.4.17 in /usr/local/lib/python3.7/dist-packages (from requests->erddapy) (2020.12.5)\n",
            "Requirement already satisfied: six>=1.5 in /usr/local/lib/python3.7/dist-packages (from python-dateutil>=2.7.3->pandas>=0.20.3->erddapy) (1.15.0)\n",
            "Installing collected packages: erddapy\n",
            "Successfully installed erddapy-0.9.0\n",
            "Requirement already satisfied: xarray in /usr/local/lib/python3.7/dist-packages (0.15.1)\n",
            "Requirement already satisfied: setuptools>=41.2 in /usr/local/lib/python3.7/dist-packages (from xarray) (54.2.0)\n",
            "Requirement already satisfied: numpy>=1.15 in /usr/local/lib/python3.7/dist-packages (from xarray) (1.19.5)\n",
            "Requirement already satisfied: pandas>=0.25 in /usr/local/lib/python3.7/dist-packages (from xarray) (1.1.5)\n",
            "Requirement already satisfied: pytz>=2017.2 in /usr/local/lib/python3.7/dist-packages (from pandas>=0.25->xarray) (2018.9)\n",
            "Requirement already satisfied: python-dateutil>=2.7.3 in /usr/local/lib/python3.7/dist-packages (from pandas>=0.25->xarray) (2.8.1)\n",
            "Requirement already satisfied: six>=1.5 in /usr/local/lib/python3.7/dist-packages (from python-dateutil>=2.7.3->pandas>=0.25->xarray) (1.15.0)\n",
            "Collecting netcdf4\n",
            "\u001b[?25l  Downloading https://files.pythonhosted.org/packages/37/56/f65978898fb8e7e5df9c67531d86eb24eb04938deae3b61dbcce12c98212/netCDF4-1.5.6-cp37-cp37m-manylinux2014_x86_64.whl (4.7MB)\n",
            "\u001b[K     |████████████████████████████████| 4.7MB 19.2MB/s \n",
            "\u001b[?25hCollecting cftime\n",
            "\u001b[?25l  Downloading https://files.pythonhosted.org/packages/41/e0/3e120cca16571c5ee3b35f1ed432c2aae5dc91e2b789e8b9c3a70e721ea0/cftime-1.4.1-cp37-cp37m-manylinux2014_x86_64.whl (313kB)\n",
            "\u001b[K     |████████████████████████████████| 317kB 38.3MB/s \n",
            "\u001b[?25hRequirement already satisfied: numpy>=1.9 in /usr/local/lib/python3.7/dist-packages (from netcdf4) (1.19.5)\n",
            "Installing collected packages: cftime, netcdf4\n",
            "Successfully installed cftime-1.4.1 netcdf4-1.5.6\n",
            "Collecting cmocean\n",
            "\u001b[?25l  Downloading https://files.pythonhosted.org/packages/48/02/d0f19b00b252fd972e3daec05be73aa811091528f21b90442a15d6a96d89/cmocean-2.0-py3-none-any.whl (223kB)\n",
            "\u001b[K     |████████████████████████████████| 225kB 22.2MB/s \n",
            "\u001b[?25hInstalling collected packages: cmocean\n",
            "Successfully installed cmocean-2.0\n"
          ],
          "name": "stdout"
        }
      ]
    },
    {
      "cell_type": "code",
      "metadata": {
        "id": "3h7AxyPlm_5I"
      },
      "source": [
        "\n",
        "\n",
        "#https://numpy.org/\n",
        "import numpy as np                  #Numpy is a useful scientific package for large datasets. It is different to the core python array system.\n",
        "\n",
        "#https://pandas.pydata.org/\n",
        "import pandas as pd                 #Pandas is built on top of numpy, but uses labels, much like a table in excel. This can make it easier to access certain attributes,\n",
        "                                    #rather than remembering which dimension they are on.\n",
        "\n",
        "#http://xarray.pydata.org/en/stable/                                \n",
        "import xarray as xr                 #Xarray is a combination of numpy and pandas, but for n-dimensional data. It uses computational efficiencies and can load very large datasets.\n",
        "\n",
        "#https://matplotlib.org/\n",
        "import matplotlib.pyplot as plt     #Matplotlib is how we will be plotting all of our data. \n",
        "\n",
        "#https://seaborn.pydata.org/\n",
        "import seaborn                      #A wrapper for matplotlib and statistics packages to make nice R-like plots\n",
        "\n",
        "#https://www.scipy.org/\n",
        "import scipy                        #Has loads of advanced and useful statistical, machine learning and other packages (If you want machine learning though, I recommend Keras or PyTorch)"
      ],
      "execution_count": 21,
      "outputs": []
    },
    {
      "cell_type": "markdown",
      "metadata": {
        "id": "R_WehFiR-IW6"
      },
      "source": [
        "## Part 3: Basic python data structures\n",
        "Great! Even though we are on collab and don't need the other two points, you will need them when working locally.\n",
        "\n",
        "Lets get started!\n",
        "\n"
      ]
    },
    {
      "cell_type": "code",
      "metadata": {
        "id": "VXBqHj4jLQma"
      },
      "source": [
        "#First of all, you can check the help of any thing in namespace (what python can see) in iPython (interactive python used by Jupyter) by using\n",
        "?str"
      ],
      "execution_count": 14,
      "outputs": []
    },
    {
      "cell_type": "code",
      "metadata": {
        "colab": {
          "base_uri": "https://localhost:8080/"
        },
        "id": "NQH-W5LLEk5D",
        "outputId": "1d3248d4-9407-41b3-f8ae-caf76946f812"
      },
      "source": [
        "#You do not need to define types explicitely in python as it will do it automagically, but it can sometimes help:\n",
        "print(3+1)\n",
        "print('Three'+'One')"
      ],
      "execution_count": 15,
      "outputs": [
        {
          "output_type": "stream",
          "text": [
            "4\n",
            "ThreeOne\n"
          ],
          "name": "stdout"
        }
      ]
    },
    {
      "cell_type": "code",
      "metadata": {
        "colab": {
          "base_uri": "https://localhost:8080/",
          "height": 189
        },
        "id": "m2U3jiHiE7pw",
        "outputId": "efea1f59-a7b7-4ce8-e514-ab567ca107c1"
      },
      "source": [
        "#For example:\n",
        "print('Three'+1) #Oops"
      ],
      "execution_count": 16,
      "outputs": [
        {
          "output_type": "error",
          "ename": "TypeError",
          "evalue": "ignored",
          "traceback": [
            "\u001b[0;31m---------------------------------------------------------------------------\u001b[0m",
            "\u001b[0;31mTypeError\u001b[0m                                 Traceback (most recent call last)",
            "\u001b[0;32m<ipython-input-16-6efce901f1de>\u001b[0m in \u001b[0;36m<module>\u001b[0;34m()\u001b[0m\n\u001b[1;32m      1\u001b[0m \u001b[0;31m#For example:\u001b[0m\u001b[0;34m\u001b[0m\u001b[0;34m\u001b[0m\u001b[0;34m\u001b[0m\u001b[0m\n\u001b[0;32m----> 2\u001b[0;31m \u001b[0mprint\u001b[0m\u001b[0;34m(\u001b[0m\u001b[0;34m'Three'\u001b[0m\u001b[0;34m+\u001b[0m\u001b[0;36m1\u001b[0m\u001b[0;34m)\u001b[0m \u001b[0;31m#Oops\u001b[0m\u001b[0;34m\u001b[0m\u001b[0;34m\u001b[0m\u001b[0m\n\u001b[0m",
            "\u001b[0;31mTypeError\u001b[0m: can only concatenate str (not \"int\") to str"
          ]
        }
      ]
    },
    {
      "cell_type": "code",
      "metadata": {
        "colab": {
          "base_uri": "https://localhost:8080/"
        },
        "id": "yBdeVj8PE_ty",
        "outputId": "d5a0398b-da05-4cb8-af62-8a10b0df737c"
      },
      "source": [
        "#So we need to either define them like:\n",
        "print(int('3')+1)\n",
        "#or\n",
        "print('three'+str(1))"
      ],
      "execution_count": 17,
      "outputs": [
        {
          "output_type": "stream",
          "text": [
            "4\n",
            "three1\n"
          ],
          "name": "stdout"
        }
      ]
    },
    {
      "cell_type": "markdown",
      "metadata": {
        "id": "umrF2660El3w"
      },
      "source": [
        "#### Now lets look at arrays. "
      ]
    },
    {
      "cell_type": "code",
      "metadata": {
        "id": "y6Gs2TDYDJyl"
      },
      "source": [
        "my_array=['Element 1','Element 2'] \n",
        "\n",
        "#We an add new elements to the array like:\n",
        "my_array.append('Element 3')\n",
        "my_array.append('Element 4')\n",
        "print(my_array)"
      ],
      "execution_count": null,
      "outputs": []
    },
    {
      "cell_type": "code",
      "metadata": {
        "id": "rGx4yyIdDvhQ"
      },
      "source": [
        "#But remember, Python indexing starts at 0, not 1 like in other languages\n",
        "print(my_array[1])\n",
        "#so we need to do this instead:\n",
        "print(my_array[0])\n"
      ],
      "execution_count": null,
      "outputs": []
    },
    {
      "cell_type": "code",
      "metadata": {
        "id": "weVEIk0eDH4H"
      },
      "source": [
        "#You can also go backwards\n",
        "print(my_array[-1])\n",
        "\n",
        "#or select a small component\n",
        "print(my_array[1:3])\n",
        "\n",
        "#or even reverse the whole thing\n",
        "print(my_array[::-1])"
      ],
      "execution_count": null,
      "outputs": []
    },
    {
      "cell_type": "code",
      "metadata": {
        "id": "1y4JYFCZII3k"
      },
      "source": [
        "#There are also python functions like this (I'm not going to talk about all of them)\n",
        "print(len(my_array)) #Can you work out what this is?\n",
        "#how about\n",
        "print(range(len(my_array)))\n",
        "#This could be useful later. "
      ],
      "execution_count": null,
      "outputs": []
    },
    {
      "cell_type": "markdown",
      "metadata": {
        "id": "QlMwgqKaEHYj"
      },
      "source": [
        "####We can make two dimensional arrays like:"
      ]
    },
    {
      "cell_type": "code",
      "metadata": {
        "id": "LlK4OhULB8cr"
      },
      "source": [
        "my2d_array=[[1,2,3,4,5,6,7,8,9,10],[100,200,300,400,500,600,700],[1000,2000,3000,4000,5000]]\n",
        "print(my2d_array)\n",
        "#But if I only want the thousand I need to remember:\n",
        "print(my2d_array[2]) \n",
        "#or even\n",
        "print(my2d_array[2][0])"
      ],
      "execution_count": null,
      "outputs": []
    },
    {
      "cell_type": "markdown",
      "metadata": {
        "id": "AbuwgMI4ESz5"
      },
      "source": [
        "#### Ok how about something that remembers something else: a dictionary"
      ]
    },
    {
      "cell_type": "code",
      "metadata": {
        "id": "r0oiK9FQ-Vrw"
      },
      "source": [
        "this_is_a_dictionary={'Key':'Data'}\n",
        "print(this_is_a_dictionary)\n",
        "print(this_is_a_dictionary['Key'])"
      ],
      "execution_count": null,
      "outputs": []
    },
    {
      "cell_type": "code",
      "metadata": {
        "id": "0Wcw-RYJ-Y-I"
      },
      "source": [
        "#You can add extra keys and values like:\n",
        "this_is_a_dictionary['mynewkey'] = 'more data'\n",
        "this_is_a_dictionary['anotherkey'] = 'even more data'\n",
        "print(this_is_a_dictionary)\n",
        "#Very useful for lookups. But there are better tools for the job"
      ],
      "execution_count": null,
      "outputs": []
    },
    {
      "cell_type": "markdown",
      "metadata": {
        "id": "p7TQ5bf0G_XP"
      },
      "source": [
        "## Part 4: Numpy\n",
        "\n",
        "Lets use what we just learnt in a more practical way. \n",
        "\n",
        "Numpy does lots and lots of stuff and this is a very brief overview. \n",
        "\n",
        "Check here for more information: \n",
        "https://numpy.org/devdocs/user/absolute_beginners.html"
      ]
    },
    {
      "cell_type": "code",
      "metadata": {
        "id": "G0QJ-ouNEcA3"
      },
      "source": [
        "#Great. We understand basic python syntax and datatypes\n",
        "#How about this\n",
        "my_numpy_array=np.array([1,2,3,4,5])\n",
        "print(my_numpy_array)\n",
        "print(my_numpy_array[0])"
      ],
      "execution_count": null,
      "outputs": []
    },
    {
      "cell_type": "code",
      "metadata": {
        "id": "O4yb9VtpHMMy"
      },
      "source": [
        "#Ok so what is different?\n",
        "#First of all you can't do this\n",
        "my_numpy_array.append([6])"
      ],
      "execution_count": null,
      "outputs": []
    },
    {
      "cell_type": "code",
      "metadata": {
        "id": "ZwZa6WHVHX3Q"
      },
      "source": [
        "#Which I agree is a bit funny. But its all about the way the data is stored, and that Numpy uses objects. You'll need to do this instead which is a bit clunky\n",
        "my_numpy_array=np.append(my_numpy_array,6) #Dont forget = because this function only returns, not rewrite the array.\n",
        "print(my_numpy_array)"
      ],
      "execution_count": null,
      "outputs": []
    },
    {
      "cell_type": "code",
      "metadata": {
        "id": "fUHbhB53HgO7"
      },
      "source": [
        "#but we have modifiers like\n",
        "print(my_numpy_array.shape)\n",
        "#or even:\n",
        "my_new_numpy_array=my_numpy_array.reshape(3, 2)\n",
        "print(my_new_numpy_array)\n",
        "print(my_new_numpy_array.shape)\n",
        "#They have better info so lets go here: https://numpy.org/devdocs/user/absolute_beginners.html\n",
        "\n",
        "#Numpy also has inbuilt functions like (and many others, check their docs!):\n",
        "print(np.arange(0,10))\n"
      ],
      "execution_count": null,
      "outputs": []
    },
    {
      "cell_type": "code",
      "metadata": {
        "id": "oywGvNI2H-Jg"
      },
      "source": [
        "# A cool example of why numpy really is better https://www.geeksforgeeks.org/why-numpy-is-faster-in-python/ (also https://towardsdatascience.com/how-fast-numpy-really-is-e9111df44347)\n",
        "# importing required packages\n",
        "import numpy\n",
        "import time\n",
        " \n",
        "# size of arrays and lists\n",
        "size = 1000000  \n",
        " \n",
        "# declaring lists\n",
        "list1 = range(size)\n",
        "list2 = range(size)\n",
        " \n",
        "# declaring arrays\n",
        "array1 = numpy.arange(size) \n",
        "array2 = numpy.arange(size)\n",
        " \n",
        "# list\n",
        "initialTime = time.time()\n",
        "resultantList = [(a * b) for a, b in zip(list1, list2)]\n",
        " \n",
        "# calculating execution time\n",
        "print(\"Time taken by Lists :\",\n",
        "      (time.time() - initialTime),\n",
        "      \"seconds\")\n",
        " \n",
        "# NumPy array\n",
        "initialTime = time.time()\n",
        "resultantArray = array1 * array2\n",
        " \n",
        "# calculating execution time\n",
        "print(\"Time taken by NumPy Arrays :\",\n",
        "      (time.time() - initialTime),\n",
        "      \"seconds\")\n"
      ],
      "execution_count": null,
      "outputs": []
    },
    {
      "cell_type": "markdown",
      "metadata": {
        "id": "75GoIwiLLnRj"
      },
      "source": [
        "### Part 5: Pandas\n",
        "Now that we know numpy is the bees knees, how can we build on this knowledge"
      ]
    },
    {
      "cell_type": "markdown",
      "metadata": {
        "id": "svtCGTkvvCZn"
      },
      "source": [
        "#### Pandas Series"
      ]
    },
    {
      "cell_type": "code",
      "metadata": {
        "id": "F5x_SdNHI-7S"
      },
      "source": [
        "my_pandas_series=pd.Series(this_is_a_dictionary)\n",
        "print(my_pandas_series)\n"
      ],
      "execution_count": null,
      "outputs": []
    },
    {
      "cell_type": "markdown",
      "metadata": {
        "id": "oAN8GJxiOtSl"
      },
      "source": [
        "#### Pandas DataFrame"
      ]
    },
    {
      "cell_type": "code",
      "metadata": {
        "id": "EZlfJvB8LMJ6"
      },
      "source": [
        "#And we can turn this into a nice 2d table\n",
        "\n",
        "my_dataframe=pd.Series(my_pandas_series).to_frame('ColumnName')\n",
        "print(my_dataframe)\n",
        "\n",
        "#print(my_dataframe.index)"
      ],
      "execution_count": null,
      "outputs": []
    },
    {
      "cell_type": "markdown",
      "metadata": {
        "id": "fsEt14XUww1J"
      },
      "source": [
        ""
      ]
    },
    {
      "cell_type": "code",
      "metadata": {
        "id": "YotJqRaPvK0E"
      },
      "source": [
        "#But now we could add more columns very easily\n",
        "my_dataframe['Score']=[9,5,1]\n",
        "print(my_dataframe)"
      ],
      "execution_count": null,
      "outputs": []
    },
    {
      "cell_type": "code",
      "metadata": {
        "id": "l50r8nlWw7aM"
      },
      "source": [
        "#Pandas will let us use dot notation for our column names.\n",
        "print(my_dataframe.Score)"
      ],
      "execution_count": null,
      "outputs": []
    },
    {
      "cell_type": "markdown",
      "metadata": {
        "id": "gz1Ks5BQxBcY"
      },
      "source": [
        "This is a bad example so lets check what other people have done: https://www.geeksforgeeks.org/adding-new-column-to-existing-dataframe-in-pandas/ or even https://github.com/dlab-berkeley/introduction-to-pandas/blob/master/introduction-to-pandas.ipynb"
      ]
    },
    {
      "cell_type": "markdown",
      "metadata": {
        "id": "w-IbIvZFOnoW"
      },
      "source": [
        "## Part 6: Introduction to xarray\n",
        "\n",
        "This one is probably the library I use the most, is probably the most powerful library but has the worst documentation/learning curve of everything.\n",
        "Basically creates a n-Dimensional pandas dataframe, but uses computational efficiencies (Dask) to be efficient and load massive datasets into memory. "
      ]
    },
    {
      "cell_type": "code",
      "metadata": {
        "id": "WSWACDl-v1Sp"
      },
      "source": [
        "#This comes straight off the xarray webpage, but lets use my dataset because we can\n",
        "#Nics Dataset: https://geonetwork.nci.org.au/geonetwork/srv/eng/catalog.search#/metadata/f3440_0961_0590_6154\n",
        "\n",
        "\n",
        "#2002 only starts in July. This is a small dataset, but may cause problems because large data tranfers via google colab. Example of how this can be expanded below\n",
        "nics_chlorophyll = xr.open_dataset(\n",
        "    \"http://dapds00.nci.org.au/thredds/dodsC/ks32/CLEX_Data/TPCA_reprocessing/v2019_01/MODIS-Aqua/tpca_modis_aqua_2002.nc\",\n",
        "    decode_times=True,\n",
        ")"
      ],
      "execution_count": 63,
      "outputs": []
    },
    {
      "cell_type": "code",
      "metadata": {
        "id": "76ilG1PfzshS",
        "outputId": "ed05e672-fec6-4e31-f443-4c3d70d6f2fe",
        "colab": {
          "base_uri": "https://localhost:8080/",
          "height": 245
        }
      },
      "source": [
        "nics_chlorophyll"
      ],
      "execution_count": 64,
      "outputs": [
        {
          "output_type": "execute_result",
          "data": {
            "text/html": [
              "<div><svg style=\"position: absolute; width: 0; height: 0; overflow: hidden\">\n",
              "<defs>\n",
              "<symbol id=\"icon-database\" viewBox=\"0 0 32 32\">\n",
              "<title>Show/Hide data repr</title>\n",
              "<path d=\"M16 0c-8.837 0-16 2.239-16 5v4c0 2.761 7.163 5 16 5s16-2.239 16-5v-4c0-2.761-7.163-5-16-5z\"></path>\n",
              "<path d=\"M16 17c-8.837 0-16-2.239-16-5v6c0 2.761 7.163 5 16 5s16-2.239 16-5v-6c0 2.761-7.163 5-16 5z\"></path>\n",
              "<path d=\"M16 26c-8.837 0-16-2.239-16-5v6c0 2.761 7.163 5 16 5s16-2.239 16-5v-6c0 2.761-7.163 5-16 5z\"></path>\n",
              "</symbol>\n",
              "<symbol id=\"icon-file-text2\" viewBox=\"0 0 32 32\">\n",
              "<title>Show/Hide attributes</title>\n",
              "<path d=\"M28.681 7.159c-0.694-0.947-1.662-2.053-2.724-3.116s-2.169-2.030-3.116-2.724c-1.612-1.182-2.393-1.319-2.841-1.319h-15.5c-1.378 0-2.5 1.121-2.5 2.5v27c0 1.378 1.122 2.5 2.5 2.5h23c1.378 0 2.5-1.122 2.5-2.5v-19.5c0-0.448-0.137-1.23-1.319-2.841zM24.543 5.457c0.959 0.959 1.712 1.825 2.268 2.543h-4.811v-4.811c0.718 0.556 1.584 1.309 2.543 2.268zM28 29.5c0 0.271-0.229 0.5-0.5 0.5h-23c-0.271 0-0.5-0.229-0.5-0.5v-27c0-0.271 0.229-0.5 0.5-0.5 0 0 15.499-0 15.5 0v7c0 0.552 0.448 1 1 1h7v19.5z\"></path>\n",
              "<path d=\"M23 26h-14c-0.552 0-1-0.448-1-1s0.448-1 1-1h14c0.552 0 1 0.448 1 1s-0.448 1-1 1z\"></path>\n",
              "<path d=\"M23 22h-14c-0.552 0-1-0.448-1-1s0.448-1 1-1h14c0.552 0 1 0.448 1 1s-0.448 1-1 1z\"></path>\n",
              "<path d=\"M23 18h-14c-0.552 0-1-0.448-1-1s0.448-1 1-1h14c0.552 0 1 0.448 1 1s-0.448 1-1 1z\"></path>\n",
              "</symbol>\n",
              "</defs>\n",
              "</svg>\n",
              "<style>/* CSS stylesheet for displaying xarray objects in jupyterlab.\n",
              " *\n",
              " */\n",
              "\n",
              ":root {\n",
              "  --xr-font-color0: var(--jp-content-font-color0, rgba(0, 0, 0, 1));\n",
              "  --xr-font-color2: var(--jp-content-font-color2, rgba(0, 0, 0, 0.54));\n",
              "  --xr-font-color3: var(--jp-content-font-color3, rgba(0, 0, 0, 0.38));\n",
              "  --xr-border-color: var(--jp-border-color2, #e0e0e0);\n",
              "  --xr-disabled-color: var(--jp-layout-color3, #bdbdbd);\n",
              "  --xr-background-color: var(--jp-layout-color0, white);\n",
              "  --xr-background-color-row-even: var(--jp-layout-color1, white);\n",
              "  --xr-background-color-row-odd: var(--jp-layout-color2, #eeeeee);\n",
              "}\n",
              "\n",
              ".xr-wrap {\n",
              "  min-width: 300px;\n",
              "  max-width: 700px;\n",
              "}\n",
              "\n",
              ".xr-header {\n",
              "  padding-top: 6px;\n",
              "  padding-bottom: 6px;\n",
              "  margin-bottom: 4px;\n",
              "  border-bottom: solid 1px var(--xr-border-color);\n",
              "}\n",
              "\n",
              ".xr-header > div,\n",
              ".xr-header > ul {\n",
              "  display: inline;\n",
              "  margin-top: 0;\n",
              "  margin-bottom: 0;\n",
              "}\n",
              "\n",
              ".xr-obj-type,\n",
              ".xr-array-name {\n",
              "  margin-left: 2px;\n",
              "  margin-right: 10px;\n",
              "}\n",
              "\n",
              ".xr-obj-type {\n",
              "  color: var(--xr-font-color2);\n",
              "}\n",
              "\n",
              ".xr-sections {\n",
              "  padding-left: 0 !important;\n",
              "  display: grid;\n",
              "  grid-template-columns: 150px auto auto 1fr 20px 20px;\n",
              "}\n",
              "\n",
              ".xr-section-item {\n",
              "  display: contents;\n",
              "}\n",
              "\n",
              ".xr-section-item input {\n",
              "  display: none;\n",
              "}\n",
              "\n",
              ".xr-section-item input + label {\n",
              "  color: var(--xr-disabled-color);\n",
              "}\n",
              "\n",
              ".xr-section-item input:enabled + label {\n",
              "  cursor: pointer;\n",
              "  color: var(--xr-font-color2);\n",
              "}\n",
              "\n",
              ".xr-section-item input:enabled + label:hover {\n",
              "  color: var(--xr-font-color0);\n",
              "}\n",
              "\n",
              ".xr-section-summary {\n",
              "  grid-column: 1;\n",
              "  color: var(--xr-font-color2);\n",
              "  font-weight: 500;\n",
              "}\n",
              "\n",
              ".xr-section-summary > span {\n",
              "  display: inline-block;\n",
              "  padding-left: 0.5em;\n",
              "}\n",
              "\n",
              ".xr-section-summary-in:disabled + label {\n",
              "  color: var(--xr-font-color2);\n",
              "}\n",
              "\n",
              ".xr-section-summary-in + label:before {\n",
              "  display: inline-block;\n",
              "  content: '►';\n",
              "  font-size: 11px;\n",
              "  width: 15px;\n",
              "  text-align: center;\n",
              "}\n",
              "\n",
              ".xr-section-summary-in:disabled + label:before {\n",
              "  color: var(--xr-disabled-color);\n",
              "}\n",
              "\n",
              ".xr-section-summary-in:checked + label:before {\n",
              "  content: '▼';\n",
              "}\n",
              "\n",
              ".xr-section-summary-in:checked + label > span {\n",
              "  display: none;\n",
              "}\n",
              "\n",
              ".xr-section-summary,\n",
              ".xr-section-inline-details {\n",
              "  padding-top: 4px;\n",
              "  padding-bottom: 4px;\n",
              "}\n",
              "\n",
              ".xr-section-inline-details {\n",
              "  grid-column: 2 / -1;\n",
              "}\n",
              "\n",
              ".xr-section-details {\n",
              "  display: none;\n",
              "  grid-column: 1 / -1;\n",
              "  margin-bottom: 5px;\n",
              "}\n",
              "\n",
              ".xr-section-summary-in:checked ~ .xr-section-details {\n",
              "  display: contents;\n",
              "}\n",
              "\n",
              ".xr-array-wrap {\n",
              "  grid-column: 1 / -1;\n",
              "  display: grid;\n",
              "  grid-template-columns: 20px auto;\n",
              "}\n",
              "\n",
              ".xr-array-wrap > label {\n",
              "  grid-column: 1;\n",
              "  vertical-align: top;\n",
              "}\n",
              "\n",
              ".xr-preview {\n",
              "  color: var(--xr-font-color3);\n",
              "}\n",
              "\n",
              ".xr-array-preview,\n",
              ".xr-array-data {\n",
              "  padding: 0 5px !important;\n",
              "  grid-column: 2;\n",
              "}\n",
              "\n",
              ".xr-array-data,\n",
              ".xr-array-in:checked ~ .xr-array-preview {\n",
              "  display: none;\n",
              "}\n",
              "\n",
              ".xr-array-in:checked ~ .xr-array-data,\n",
              ".xr-array-preview {\n",
              "  display: inline-block;\n",
              "}\n",
              "\n",
              ".xr-dim-list {\n",
              "  display: inline-block !important;\n",
              "  list-style: none;\n",
              "  padding: 0 !important;\n",
              "  margin: 0;\n",
              "}\n",
              "\n",
              ".xr-dim-list li {\n",
              "  display: inline-block;\n",
              "  padding: 0;\n",
              "  margin: 0;\n",
              "}\n",
              "\n",
              ".xr-dim-list:before {\n",
              "  content: '(';\n",
              "}\n",
              "\n",
              ".xr-dim-list:after {\n",
              "  content: ')';\n",
              "}\n",
              "\n",
              ".xr-dim-list li:not(:last-child):after {\n",
              "  content: ',';\n",
              "  padding-right: 5px;\n",
              "}\n",
              "\n",
              ".xr-has-index {\n",
              "  font-weight: bold;\n",
              "}\n",
              "\n",
              ".xr-var-list,\n",
              ".xr-var-item {\n",
              "  display: contents;\n",
              "}\n",
              "\n",
              ".xr-var-item > div,\n",
              ".xr-var-item label,\n",
              ".xr-var-item > .xr-var-name span {\n",
              "  background-color: var(--xr-background-color-row-even);\n",
              "  margin-bottom: 0;\n",
              "}\n",
              "\n",
              ".xr-var-item > .xr-var-name:hover span {\n",
              "  padding-right: 5px;\n",
              "}\n",
              "\n",
              ".xr-var-list > li:nth-child(odd) > div,\n",
              ".xr-var-list > li:nth-child(odd) > label,\n",
              ".xr-var-list > li:nth-child(odd) > .xr-var-name span {\n",
              "  background-color: var(--xr-background-color-row-odd);\n",
              "}\n",
              "\n",
              ".xr-var-name {\n",
              "  grid-column: 1;\n",
              "}\n",
              "\n",
              ".xr-var-dims {\n",
              "  grid-column: 2;\n",
              "}\n",
              "\n",
              ".xr-var-dtype {\n",
              "  grid-column: 3;\n",
              "  text-align: right;\n",
              "  color: var(--xr-font-color2);\n",
              "}\n",
              "\n",
              ".xr-var-preview {\n",
              "  grid-column: 4;\n",
              "}\n",
              "\n",
              ".xr-var-name,\n",
              ".xr-var-dims,\n",
              ".xr-var-dtype,\n",
              ".xr-preview,\n",
              ".xr-attrs dt {\n",
              "  white-space: nowrap;\n",
              "  overflow: hidden;\n",
              "  text-overflow: ellipsis;\n",
              "  padding-right: 10px;\n",
              "}\n",
              "\n",
              ".xr-var-name:hover,\n",
              ".xr-var-dims:hover,\n",
              ".xr-var-dtype:hover,\n",
              ".xr-attrs dt:hover {\n",
              "  overflow: visible;\n",
              "  width: auto;\n",
              "  z-index: 1;\n",
              "}\n",
              "\n",
              ".xr-var-attrs,\n",
              ".xr-var-data {\n",
              "  display: none;\n",
              "  background-color: var(--xr-background-color) !important;\n",
              "  padding-bottom: 5px !important;\n",
              "}\n",
              "\n",
              ".xr-var-attrs-in:checked ~ .xr-var-attrs,\n",
              ".xr-var-data-in:checked ~ .xr-var-data {\n",
              "  display: block;\n",
              "}\n",
              "\n",
              ".xr-var-data > table {\n",
              "  float: right;\n",
              "}\n",
              "\n",
              ".xr-var-name span,\n",
              ".xr-var-data,\n",
              ".xr-attrs {\n",
              "  padding-left: 25px !important;\n",
              "}\n",
              "\n",
              ".xr-attrs,\n",
              ".xr-var-attrs,\n",
              ".xr-var-data {\n",
              "  grid-column: 1 / -1;\n",
              "}\n",
              "\n",
              "dl.xr-attrs {\n",
              "  padding: 0;\n",
              "  margin: 0;\n",
              "  display: grid;\n",
              "  grid-template-columns: 125px auto;\n",
              "}\n",
              "\n",
              ".xr-attrs dt, dd {\n",
              "  padding: 0;\n",
              "  margin: 0;\n",
              "  float: left;\n",
              "  padding-right: 10px;\n",
              "  width: auto;\n",
              "}\n",
              "\n",
              ".xr-attrs dt {\n",
              "  font-weight: normal;\n",
              "  grid-column: 1;\n",
              "}\n",
              "\n",
              ".xr-attrs dt:hover span {\n",
              "  display: inline-block;\n",
              "  background: var(--xr-background-color);\n",
              "  padding-right: 10px;\n",
              "}\n",
              "\n",
              ".xr-attrs dd {\n",
              "  grid-column: 2;\n",
              "  white-space: pre-wrap;\n",
              "  word-break: break-all;\n",
              "}\n",
              "\n",
              ".xr-icon-database,\n",
              ".xr-icon-file-text2 {\n",
              "  display: inline-block;\n",
              "  vertical-align: middle;\n",
              "  width: 1em;\n",
              "  height: 1.5em !important;\n",
              "  stroke-width: 0;\n",
              "  stroke: currentColor;\n",
              "  fill: currentColor;\n",
              "}\n",
              "</style><div class='xr-wrap'><div class='xr-header'><div class='xr-obj-type'>xarray.Dataset</div></div><ul class='xr-sections'><li class='xr-section-item'><input id='section-95d51e64-8359-4695-8ed6-fe63c12ae6b1' class='xr-section-summary-in' type='checkbox' disabled ><label for='section-95d51e64-8359-4695-8ed6-fe63c12ae6b1' class='xr-section-summary'  title='Expand/collapse section'>Dimensions:</label><div class='xr-section-inline-details'><ul class='xr-dim-list'><li><span class='xr-has-index'>lat</span>: 240</li><li><span class='xr-has-index'>lon</span>: 2040</li><li><span class='xr-has-index'>time</span>: 174</li></ul></div><div class='xr-section-details'></div></li><li class='xr-section-item'><input id='section-d692da31-8748-4f0f-887e-8972a4b01893' class='xr-section-summary-in' type='checkbox'  checked><label for='section-d692da31-8748-4f0f-887e-8972a4b01893' class='xr-section-summary' >Coordinates: <span>(3)</span></label><div class='xr-section-inline-details'></div><div class='xr-section-details'><ul class='xr-var-list'><li class='xr-var-item'><div class='xr-var-name'><span class='xr-has-index'>time</span></div><div class='xr-var-dims'>(time)</div><div class='xr-var-dtype'>datetime64[ns]</div><div class='xr-var-preview xr-preview'>2002-07-04 ... 2002-12-31</div><input id='attrs-669f877b-a829-4f54-9f5b-b74d40f5fb19' class='xr-var-attrs-in' type='checkbox' ><label for='attrs-669f877b-a829-4f54-9f5b-b74d40f5fb19' title='Show/Hide attributes'><svg class='icon xr-icon-file-text2'><use xlink:href='#icon-file-text2'></use></svg></label><input id='data-260fdcb0-c114-43af-ac2b-683e17e243f7' class='xr-var-data-in' type='checkbox'><label for='data-260fdcb0-c114-43af-ac2b-683e17e243f7' title='Show/Hide data repr'><svg class='icon xr-icon-database'><use xlink:href='#icon-database'></use></svg></label><div class='xr-var-attrs'><dl class='xr-attrs'><dt><span>standard_name :</span></dt><dd>time</dd><dt><span>long_name :</span></dt><dd>time</dd><dt><span>axis :</span></dt><dd>T</dd><dt><span>_ChunkSizes :</span></dt><dd>512</dd></dl></div><pre class='xr-var-data'>array([&#x27;2002-07-04T00:00:00.000000000&#x27;, &#x27;2002-07-05T00:00:00.000000000&#x27;,\n",
              "       &#x27;2002-07-06T00:00:00.000000000&#x27;, &#x27;2002-07-07T00:00:00.000000000&#x27;,\n",
              "       &#x27;2002-07-08T00:00:00.000000000&#x27;, &#x27;2002-07-09T00:00:00.000000000&#x27;,\n",
              "       &#x27;2002-07-10T00:00:00.000000000&#x27;, &#x27;2002-07-11T00:00:00.000000000&#x27;,\n",
              "       &#x27;2002-07-12T00:00:00.000000000&#x27;, &#x27;2002-07-13T00:00:00.000000000&#x27;,\n",
              "       &#x27;2002-07-14T00:00:00.000000000&#x27;, &#x27;2002-07-15T00:00:00.000000000&#x27;,\n",
              "       &#x27;2002-07-16T00:00:00.000000000&#x27;, &#x27;2002-07-17T00:00:00.000000000&#x27;,\n",
              "       &#x27;2002-07-18T00:00:00.000000000&#x27;, &#x27;2002-07-19T00:00:00.000000000&#x27;,\n",
              "       &#x27;2002-07-20T00:00:00.000000000&#x27;, &#x27;2002-07-21T00:00:00.000000000&#x27;,\n",
              "       &#x27;2002-07-22T00:00:00.000000000&#x27;, &#x27;2002-07-23T00:00:00.000000000&#x27;,\n",
              "       &#x27;2002-07-24T00:00:00.000000000&#x27;, &#x27;2002-07-25T00:00:00.000000000&#x27;,\n",
              "       &#x27;2002-07-26T00:00:00.000000000&#x27;, &#x27;2002-07-27T00:00:00.000000000&#x27;,\n",
              "       &#x27;2002-07-28T00:00:00.000000000&#x27;, &#x27;2002-07-29T00:00:00.000000000&#x27;,\n",
              "       &#x27;2002-08-06T00:00:00.000000000&#x27;, &#x27;2002-08-07T00:00:00.000000000&#x27;,\n",
              "       &#x27;2002-08-08T00:00:00.000000000&#x27;, &#x27;2002-08-09T00:00:00.000000000&#x27;,\n",
              "       &#x27;2002-08-10T00:00:00.000000000&#x27;, &#x27;2002-08-11T00:00:00.000000000&#x27;,\n",
              "       &#x27;2002-08-12T00:00:00.000000000&#x27;, &#x27;2002-08-13T00:00:00.000000000&#x27;,\n",
              "       &#x27;2002-08-14T00:00:00.000000000&#x27;, &#x27;2002-08-15T00:00:00.000000000&#x27;,\n",
              "       &#x27;2002-08-16T00:00:00.000000000&#x27;, &#x27;2002-08-17T00:00:00.000000000&#x27;,\n",
              "       &#x27;2002-08-18T00:00:00.000000000&#x27;, &#x27;2002-08-19T00:00:00.000000000&#x27;,\n",
              "       &#x27;2002-08-20T00:00:00.000000000&#x27;, &#x27;2002-08-21T00:00:00.000000000&#x27;,\n",
              "       &#x27;2002-08-22T00:00:00.000000000&#x27;, &#x27;2002-08-23T00:00:00.000000000&#x27;,\n",
              "       &#x27;2002-08-24T00:00:00.000000000&#x27;, &#x27;2002-08-25T00:00:00.000000000&#x27;,\n",
              "       &#x27;2002-08-26T00:00:00.000000000&#x27;, &#x27;2002-08-27T00:00:00.000000000&#x27;,\n",
              "       &#x27;2002-08-28T00:00:00.000000000&#x27;, &#x27;2002-08-29T00:00:00.000000000&#x27;,\n",
              "       &#x27;2002-08-30T00:00:00.000000000&#x27;, &#x27;2002-08-31T00:00:00.000000000&#x27;,\n",
              "       &#x27;2002-09-01T00:00:00.000000000&#x27;, &#x27;2002-09-02T00:00:00.000000000&#x27;,\n",
              "       &#x27;2002-09-03T00:00:00.000000000&#x27;, &#x27;2002-09-04T00:00:00.000000000&#x27;,\n",
              "       &#x27;2002-09-05T00:00:00.000000000&#x27;, &#x27;2002-09-06T00:00:00.000000000&#x27;,\n",
              "       &#x27;2002-09-07T00:00:00.000000000&#x27;, &#x27;2002-09-08T00:00:00.000000000&#x27;,\n",
              "       &#x27;2002-09-09T00:00:00.000000000&#x27;, &#x27;2002-09-10T00:00:00.000000000&#x27;,\n",
              "       &#x27;2002-09-11T00:00:00.000000000&#x27;, &#x27;2002-09-12T00:00:00.000000000&#x27;,\n",
              "       &#x27;2002-09-13T00:00:00.000000000&#x27;, &#x27;2002-09-14T00:00:00.000000000&#x27;,\n",
              "       &#x27;2002-09-15T00:00:00.000000000&#x27;, &#x27;2002-09-16T00:00:00.000000000&#x27;,\n",
              "       &#x27;2002-09-17T00:00:00.000000000&#x27;, &#x27;2002-09-18T00:00:00.000000000&#x27;,\n",
              "       &#x27;2002-09-19T00:00:00.000000000&#x27;, &#x27;2002-09-20T00:00:00.000000000&#x27;,\n",
              "       &#x27;2002-09-21T00:00:00.000000000&#x27;, &#x27;2002-09-22T00:00:00.000000000&#x27;,\n",
              "       &#x27;2002-09-23T00:00:00.000000000&#x27;, &#x27;2002-09-24T00:00:00.000000000&#x27;,\n",
              "       &#x27;2002-09-25T00:00:00.000000000&#x27;, &#x27;2002-09-26T00:00:00.000000000&#x27;,\n",
              "       &#x27;2002-09-27T00:00:00.000000000&#x27;, &#x27;2002-09-28T00:00:00.000000000&#x27;,\n",
              "       &#x27;2002-09-29T00:00:00.000000000&#x27;, &#x27;2002-09-30T00:00:00.000000000&#x27;,\n",
              "       &#x27;2002-10-01T00:00:00.000000000&#x27;, &#x27;2002-10-02T00:00:00.000000000&#x27;,\n",
              "       &#x27;2002-10-03T00:00:00.000000000&#x27;, &#x27;2002-10-04T00:00:00.000000000&#x27;,\n",
              "       &#x27;2002-10-05T00:00:00.000000000&#x27;, &#x27;2002-10-06T00:00:00.000000000&#x27;,\n",
              "       &#x27;2002-10-07T00:00:00.000000000&#x27;, &#x27;2002-10-08T00:00:00.000000000&#x27;,\n",
              "       &#x27;2002-10-09T00:00:00.000000000&#x27;, &#x27;2002-10-10T00:00:00.000000000&#x27;,\n",
              "       &#x27;2002-10-11T00:00:00.000000000&#x27;, &#x27;2002-10-12T00:00:00.000000000&#x27;,\n",
              "       &#x27;2002-10-13T00:00:00.000000000&#x27;, &#x27;2002-10-14T00:00:00.000000000&#x27;,\n",
              "       &#x27;2002-10-15T00:00:00.000000000&#x27;, &#x27;2002-10-16T00:00:00.000000000&#x27;,\n",
              "       &#x27;2002-10-17T00:00:00.000000000&#x27;, &#x27;2002-10-18T00:00:00.000000000&#x27;,\n",
              "       &#x27;2002-10-19T00:00:00.000000000&#x27;, &#x27;2002-10-20T00:00:00.000000000&#x27;,\n",
              "       &#x27;2002-10-21T00:00:00.000000000&#x27;, &#x27;2002-10-22T00:00:00.000000000&#x27;,\n",
              "       &#x27;2002-10-23T00:00:00.000000000&#x27;, &#x27;2002-10-24T00:00:00.000000000&#x27;,\n",
              "       &#x27;2002-10-25T00:00:00.000000000&#x27;, &#x27;2002-10-26T00:00:00.000000000&#x27;,\n",
              "       &#x27;2002-10-27T00:00:00.000000000&#x27;, &#x27;2002-10-28T00:00:00.000000000&#x27;,\n",
              "       &#x27;2002-10-29T00:00:00.000000000&#x27;, &#x27;2002-10-30T00:00:00.000000000&#x27;,\n",
              "       &#x27;2002-10-31T00:00:00.000000000&#x27;, &#x27;2002-11-01T00:00:00.000000000&#x27;,\n",
              "       &#x27;2002-11-02T00:00:00.000000000&#x27;, &#x27;2002-11-03T00:00:00.000000000&#x27;,\n",
              "       &#x27;2002-11-04T00:00:00.000000000&#x27;, &#x27;2002-11-05T00:00:00.000000000&#x27;,\n",
              "       &#x27;2002-11-06T00:00:00.000000000&#x27;, &#x27;2002-11-07T00:00:00.000000000&#x27;,\n",
              "       &#x27;2002-11-08T00:00:00.000000000&#x27;, &#x27;2002-11-09T00:00:00.000000000&#x27;,\n",
              "       &#x27;2002-11-10T00:00:00.000000000&#x27;, &#x27;2002-11-11T00:00:00.000000000&#x27;,\n",
              "       &#x27;2002-11-12T00:00:00.000000000&#x27;, &#x27;2002-11-13T00:00:00.000000000&#x27;,\n",
              "       &#x27;2002-11-14T00:00:00.000000000&#x27;, &#x27;2002-11-15T00:00:00.000000000&#x27;,\n",
              "       &#x27;2002-11-16T00:00:00.000000000&#x27;, &#x27;2002-11-17T00:00:00.000000000&#x27;,\n",
              "       &#x27;2002-11-18T00:00:00.000000000&#x27;, &#x27;2002-11-19T00:00:00.000000000&#x27;,\n",
              "       &#x27;2002-11-20T00:00:00.000000000&#x27;, &#x27;2002-11-21T00:00:00.000000000&#x27;,\n",
              "       &#x27;2002-11-22T00:00:00.000000000&#x27;, &#x27;2002-11-23T00:00:00.000000000&#x27;,\n",
              "       &#x27;2002-11-24T00:00:00.000000000&#x27;, &#x27;2002-11-25T00:00:00.000000000&#x27;,\n",
              "       &#x27;2002-11-26T00:00:00.000000000&#x27;, &#x27;2002-11-27T00:00:00.000000000&#x27;,\n",
              "       &#x27;2002-11-28T00:00:00.000000000&#x27;, &#x27;2002-11-29T00:00:00.000000000&#x27;,\n",
              "       &#x27;2002-11-30T00:00:00.000000000&#x27;, &#x27;2002-12-01T00:00:00.000000000&#x27;,\n",
              "       &#x27;2002-12-02T00:00:00.000000000&#x27;, &#x27;2002-12-03T00:00:00.000000000&#x27;,\n",
              "       &#x27;2002-12-04T00:00:00.000000000&#x27;, &#x27;2002-12-05T00:00:00.000000000&#x27;,\n",
              "       &#x27;2002-12-06T00:00:00.000000000&#x27;, &#x27;2002-12-07T00:00:00.000000000&#x27;,\n",
              "       &#x27;2002-12-08T00:00:00.000000000&#x27;, &#x27;2002-12-09T00:00:00.000000000&#x27;,\n",
              "       &#x27;2002-12-10T00:00:00.000000000&#x27;, &#x27;2002-12-11T00:00:00.000000000&#x27;,\n",
              "       &#x27;2002-12-12T00:00:00.000000000&#x27;, &#x27;2002-12-13T00:00:00.000000000&#x27;,\n",
              "       &#x27;2002-12-14T00:00:00.000000000&#x27;, &#x27;2002-12-15T00:00:00.000000000&#x27;,\n",
              "       &#x27;2002-12-16T00:00:00.000000000&#x27;, &#x27;2002-12-17T00:00:00.000000000&#x27;,\n",
              "       &#x27;2002-12-18T00:00:00.000000000&#x27;, &#x27;2002-12-19T00:00:00.000000000&#x27;,\n",
              "       &#x27;2002-12-20T00:00:00.000000000&#x27;, &#x27;2002-12-21T00:00:00.000000000&#x27;,\n",
              "       &#x27;2002-12-22T00:00:00.000000000&#x27;, &#x27;2002-12-23T00:00:00.000000000&#x27;,\n",
              "       &#x27;2002-12-24T00:00:00.000000000&#x27;, &#x27;2002-12-25T00:00:00.000000000&#x27;,\n",
              "       &#x27;2002-12-26T00:00:00.000000000&#x27;, &#x27;2002-12-27T00:00:00.000000000&#x27;,\n",
              "       &#x27;2002-12-28T00:00:00.000000000&#x27;, &#x27;2002-12-29T00:00:00.000000000&#x27;,\n",
              "       &#x27;2002-12-30T00:00:00.000000000&#x27;, &#x27;2002-12-31T00:00:00.000000000&#x27;],\n",
              "      dtype=&#x27;datetime64[ns]&#x27;)</pre></li><li class='xr-var-item'><div class='xr-var-name'><span class='xr-has-index'>lon</span></div><div class='xr-var-dims'>(lon)</div><div class='xr-var-dtype'>float32</div><div class='xr-var-preview xr-preview'>120.041664 120.12501 ... 289.95834</div><input id='attrs-b558dfec-ce13-4bd8-a0fe-542ab457ca82' class='xr-var-attrs-in' type='checkbox' ><label for='attrs-b558dfec-ce13-4bd8-a0fe-542ab457ca82' title='Show/Hide attributes'><svg class='icon xr-icon-file-text2'><use xlink:href='#icon-file-text2'></use></svg></label><input id='data-3688af18-8ee1-470a-911d-6cf7d7bea93b' class='xr-var-data-in' type='checkbox'><label for='data-3688af18-8ee1-470a-911d-6cf7d7bea93b' title='Show/Hide data repr'><svg class='icon xr-icon-database'><use xlink:href='#icon-database'></use></svg></label><div class='xr-var-attrs'><dl class='xr-attrs'><dt><span>standard_name :</span></dt><dd>longitude</dd><dt><span>long_name :</span></dt><dd>longitude</dd><dt><span>units :</span></dt><dd>degrees_east</dd><dt><span>axis :</span></dt><dd>X</dd><dt><span>_ChunkSizes :</span></dt><dd>2040</dd></dl></div><pre class='xr-var-data'>array([120.041664, 120.12501 , 120.20835 , ..., 289.79166 , 289.875   ,\n",
              "       289.95834 ], dtype=float32)</pre></li><li class='xr-var-item'><div class='xr-var-name'><span class='xr-has-index'>lat</span></div><div class='xr-var-dims'>(lat)</div><div class='xr-var-dtype'>float32</div><div class='xr-var-preview xr-preview'>9.958333 9.874997 ... -9.958339</div><input id='attrs-40a20a3c-fd1e-42e3-8aab-96a53bd7760b' class='xr-var-attrs-in' type='checkbox' ><label for='attrs-40a20a3c-fd1e-42e3-8aab-96a53bd7760b' title='Show/Hide attributes'><svg class='icon xr-icon-file-text2'><use xlink:href='#icon-file-text2'></use></svg></label><input id='data-cd82f92a-b8f9-4ebf-9f24-94e6e94b1260' class='xr-var-data-in' type='checkbox'><label for='data-cd82f92a-b8f9-4ebf-9f24-94e6e94b1260' title='Show/Hide data repr'><svg class='icon xr-icon-database'><use xlink:href='#icon-database'></use></svg></label><div class='xr-var-attrs'><dl class='xr-attrs'><dt><span>standard_name :</span></dt><dd>latitude</dd><dt><span>long_name :</span></dt><dd>Latitude</dd><dt><span>units :</span></dt><dd>degrees_north</dd><dt><span>axis :</span></dt><dd>Y</dd><dt><span>_ChunkSizes :</span></dt><dd>240</dd></dl></div><pre class='xr-var-data'>array([ 9.958333,  9.874997,  9.791661, ..., -9.791667, -9.875003, -9.958339],\n",
              "      dtype=float32)</pre></li></ul></div></li><li class='xr-section-item'><input id='section-022566df-116e-4bce-9b5c-209cddace990' class='xr-section-summary-in' type='checkbox'  checked><label for='section-022566df-116e-4bce-9b5c-209cddace990' class='xr-section-summary' >Data variables: <span>(1)</span></label><div class='xr-section-inline-details'></div><div class='xr-section-details'><ul class='xr-var-list'><li class='xr-var-item'><div class='xr-var-name'><span>chl_tpca</span></div><div class='xr-var-dims'>(time, lat, lon)</div><div class='xr-var-dtype'>float32</div><div class='xr-var-preview xr-preview'>...</div><input id='attrs-2032d2eb-e2a9-4ff2-b9a2-8b50a1886b86' class='xr-var-attrs-in' type='checkbox' ><label for='attrs-2032d2eb-e2a9-4ff2-b9a2-8b50a1886b86' title='Show/Hide attributes'><svg class='icon xr-icon-file-text2'><use xlink:href='#icon-file-text2'></use></svg></label><input id='data-c4a6bee5-020f-432d-a37e-1f3a6b80079a' class='xr-var-data-in' type='checkbox'><label for='data-c4a6bee5-020f-432d-a37e-1f3a6b80079a' title='Show/Hide data repr'><svg class='icon xr-icon-database'><use xlink:href='#icon-database'></use></svg></label><div class='xr-var-attrs'><dl class='xr-attrs'><dt><span>standard_name :</span></dt><dd>mass_concentration_of_chlorophyll_a_in_sea_water</dd><dt><span>long_name :</span></dt><dd>mass_concentration_of_chlorophyll_a_in_sea_water</dd><dt><span>units :</span></dt><dd>mg m-3</dd><dt><span>_ChunkSizes :</span></dt><dd>[   1  240 2040]</dd></dl></div><pre class='xr-var-data'>[85190400 values with dtype=float32]</pre></li></ul></div></li><li class='xr-section-item'><input id='section-7b5865be-bc70-4e0c-b316-178b91318763' class='xr-section-summary-in' type='checkbox'  ><label for='section-7b5865be-bc70-4e0c-b316-178b91318763' class='xr-section-summary' >Attributes: <span>(26)</span></label><div class='xr-section-inline-details'></div><div class='xr-section-details'><dl class='xr-attrs'><dt><span>history :</span></dt><dd>TPCA applied to http://oceandata.sci.gsfc.nasa.gov</dd><dt><span>institution :</span></dt><dd>University of Tasmania - IMAS</dd><dt><span>Conventions :</span></dt><dd>CF-1.7, ACDD-1.3</dd><dt><span>creator_name :</span></dt><dd>Nicholas Pittman</dd><dt><span>creator_email :</span></dt><dd>Nic.Pittman@utas.edu.au</dd><dt><span>title :</span></dt><dd>Tropical Pacific Chlorophyll Algorithm (TPCA): Reprocessing v2019_01</dd><dt><span>summary :</span></dt><dd>TPCA MODIS-Aqua Level-3 Standard Mapped Image - Tropical Pacific</dd><dt><span>license :</span></dt><dd>http://creativecommons.org/licenses/by-nc-sa/4.0/</dd><dt><span>product_version :</span></dt><dd>2019_01</dd><dt><span>contact :</span></dt><dd>nic.pittman@utas.edu.au</dd><dt><span>organisation :</span></dt><dd>ARC Centre of Excellence for Climate Extremes</dd><dt><span>keywords :</span></dt><dd>ocean color, Chlorophyll Algorithm, 040501 Biological Oceanography, SeaWiFS, MODIS-Aqua, Equatorial Pacific</dd><dt><span>publisher_name :</span></dt><dd>CLEx data manager</dd><dt><span>publisher_email :</span></dt><dd>paola.petrelli@utas.edu.au</dd><dt><span>time_coverage_start :</span></dt><dd>1997-08-01</dd><dt><span>time_coverage_end :</span></dt><dd>2019-07-27</dd><dt><span>geospatial_lat_min :</span></dt><dd>-10.0</dd><dt><span>geospatial_lat_max :</span></dt><dd>10.0</dd><dt><span>CDO :</span></dt><dd>Climate Data Operators version 1.9.5 (http://mpimet.mpg.de/cdo)</dd><dt><span>id :</span></dt><dd>http://dx.doi.org/10.25914/5dccbd3b64bdc</dd><dt><span>references :</span></dt><dd>Pittman, Nic, 2019: Tropical Pacific Chlorophyll Algorithm (TPCA): Reprocessing v2019_01 . NCI National Research Data Collection , doi:10.25914/5dccbd3b64bdc</dd><dt><span>geospatial_lon_min :</span></dt><dd>150.0</dd><dt><span>geospatial_lon_max :</span></dt><dd>-90.0</dd><dt><span>source :</span></dt><dd>TPCA algorithm: https://github.com/nicpittman/TPCA_source_and_matchups, data: MODIS-Aqua chlorophyll a data from https://oceandata.sci.gsfc.nasa.gov/MODIS-Aqua/Mapped/Daily/9km, rrs: 443,488,547,667</dd><dt><span>date_created :</span></dt><dd>2019-08-01</dd><dt><span>DODS_EXTRA.Unlimited_Dimension :</span></dt><dd>time</dd></dl></div></li></ul></div></div>"
            ],
            "text/plain": [
              "<xarray.Dataset>\n",
              "Dimensions:   (lat: 240, lon: 2040, time: 174)\n",
              "Coordinates:\n",
              "  * time      (time) datetime64[ns] 2002-07-04 2002-07-05 ... 2002-12-31\n",
              "  * lon       (lon) float32 120.041664 120.12501 120.20835 ... 289.875 289.95834\n",
              "  * lat       (lat) float32 9.958333 9.874997 9.791661 ... -9.875003 -9.958339\n",
              "Data variables:\n",
              "    chl_tpca  (time, lat, lon) float32 ...\n",
              "Attributes:\n",
              "    history:                         TPCA applied to http://oceandata.sci.gsf...\n",
              "    institution:                     University of Tasmania - IMAS\n",
              "    Conventions:                     CF-1.7, ACDD-1.3\n",
              "    creator_name:                    Nicholas Pittman\n",
              "    creator_email:                   Nic.Pittman@utas.edu.au\n",
              "    title:                           Tropical Pacific Chlorophyll Algorithm (...\n",
              "    summary:                         TPCA MODIS-Aqua Level-3 Standard Mapped ...\n",
              "    license:                         http://creativecommons.org/licenses/by-n...\n",
              "    product_version:                 2019_01\n",
              "    contact:                         nic.pittman@utas.edu.au\n",
              "    organisation:                    ARC Centre of Excellence for Climate Ext...\n",
              "    keywords:                        ocean color, Chlorophyll Algorithm, 0405...\n",
              "    publisher_name:                  CLEx data manager\n",
              "    publisher_email:                 paola.petrelli@utas.edu.au\n",
              "    time_coverage_start:             1997-08-01\n",
              "    time_coverage_end:               2019-07-27\n",
              "    geospatial_lat_min:              -10.0\n",
              "    geospatial_lat_max:              10.0\n",
              "    CDO:                             Climate Data Operators version 1.9.5 (ht...\n",
              "    id:                              http://dx.doi.org/10.25914/5dccbd3b64bdc\n",
              "    references:                      Pittman, Nic, 2019: Tropical Pacific Chl...\n",
              "    geospatial_lon_min:              150.0\n",
              "    geospatial_lon_max:              -90.0\n",
              "    source:                          TPCA algorithm: https://github.com/nicpi...\n",
              "    date_created:                    2019-08-01\n",
              "    DODS_EXTRA.Unlimited_Dimension:  time"
            ]
          },
          "metadata": {
            "tags": []
          },
          "execution_count": 64
        }
      ]
    },
    {
      "cell_type": "code",
      "metadata": {
        "id": "XLMkZPiw0fHw",
        "outputId": "1ba02ee5-37ce-4dbb-bff4-3ee6ba0a7484",
        "colab": {
          "base_uri": "https://localhost:8080/"
        }
      },
      "source": [
        "nics_chlorophyll.nbytes/1e9 #Size in GB"
      ],
      "execution_count": 66,
      "outputs": [
        {
          "output_type": "execute_result",
          "data": {
            "text/plain": [
              "0.340772112"
            ]
          },
          "metadata": {
            "tags": []
          },
          "execution_count": 66
        }
      ]
    },
    {
      "cell_type": "code",
      "metadata": {
        "id": "Sureg4vdz2d2",
        "outputId": "5d0f9f81-f571-4e6b-d767-063236aef6c4",
        "colab": {
          "base_uri": "https://localhost:8080/",
          "height": 245
        }
      },
      "source": [
        "nics_chlorophyll.load() #This loads the dataset into memory so we can use it. Not always recommended for large datasets."
      ],
      "execution_count": 65,
      "outputs": [
        {
          "output_type": "execute_result",
          "data": {
            "text/html": [
              "<div><svg style=\"position: absolute; width: 0; height: 0; overflow: hidden\">\n",
              "<defs>\n",
              "<symbol id=\"icon-database\" viewBox=\"0 0 32 32\">\n",
              "<title>Show/Hide data repr</title>\n",
              "<path d=\"M16 0c-8.837 0-16 2.239-16 5v4c0 2.761 7.163 5 16 5s16-2.239 16-5v-4c0-2.761-7.163-5-16-5z\"></path>\n",
              "<path d=\"M16 17c-8.837 0-16-2.239-16-5v6c0 2.761 7.163 5 16 5s16-2.239 16-5v-6c0 2.761-7.163 5-16 5z\"></path>\n",
              "<path d=\"M16 26c-8.837 0-16-2.239-16-5v6c0 2.761 7.163 5 16 5s16-2.239 16-5v-6c0 2.761-7.163 5-16 5z\"></path>\n",
              "</symbol>\n",
              "<symbol id=\"icon-file-text2\" viewBox=\"0 0 32 32\">\n",
              "<title>Show/Hide attributes</title>\n",
              "<path d=\"M28.681 7.159c-0.694-0.947-1.662-2.053-2.724-3.116s-2.169-2.030-3.116-2.724c-1.612-1.182-2.393-1.319-2.841-1.319h-15.5c-1.378 0-2.5 1.121-2.5 2.5v27c0 1.378 1.122 2.5 2.5 2.5h23c1.378 0 2.5-1.122 2.5-2.5v-19.5c0-0.448-0.137-1.23-1.319-2.841zM24.543 5.457c0.959 0.959 1.712 1.825 2.268 2.543h-4.811v-4.811c0.718 0.556 1.584 1.309 2.543 2.268zM28 29.5c0 0.271-0.229 0.5-0.5 0.5h-23c-0.271 0-0.5-0.229-0.5-0.5v-27c0-0.271 0.229-0.5 0.5-0.5 0 0 15.499-0 15.5 0v7c0 0.552 0.448 1 1 1h7v19.5z\"></path>\n",
              "<path d=\"M23 26h-14c-0.552 0-1-0.448-1-1s0.448-1 1-1h14c0.552 0 1 0.448 1 1s-0.448 1-1 1z\"></path>\n",
              "<path d=\"M23 22h-14c-0.552 0-1-0.448-1-1s0.448-1 1-1h14c0.552 0 1 0.448 1 1s-0.448 1-1 1z\"></path>\n",
              "<path d=\"M23 18h-14c-0.552 0-1-0.448-1-1s0.448-1 1-1h14c0.552 0 1 0.448 1 1s-0.448 1-1 1z\"></path>\n",
              "</symbol>\n",
              "</defs>\n",
              "</svg>\n",
              "<style>/* CSS stylesheet for displaying xarray objects in jupyterlab.\n",
              " *\n",
              " */\n",
              "\n",
              ":root {\n",
              "  --xr-font-color0: var(--jp-content-font-color0, rgba(0, 0, 0, 1));\n",
              "  --xr-font-color2: var(--jp-content-font-color2, rgba(0, 0, 0, 0.54));\n",
              "  --xr-font-color3: var(--jp-content-font-color3, rgba(0, 0, 0, 0.38));\n",
              "  --xr-border-color: var(--jp-border-color2, #e0e0e0);\n",
              "  --xr-disabled-color: var(--jp-layout-color3, #bdbdbd);\n",
              "  --xr-background-color: var(--jp-layout-color0, white);\n",
              "  --xr-background-color-row-even: var(--jp-layout-color1, white);\n",
              "  --xr-background-color-row-odd: var(--jp-layout-color2, #eeeeee);\n",
              "}\n",
              "\n",
              ".xr-wrap {\n",
              "  min-width: 300px;\n",
              "  max-width: 700px;\n",
              "}\n",
              "\n",
              ".xr-header {\n",
              "  padding-top: 6px;\n",
              "  padding-bottom: 6px;\n",
              "  margin-bottom: 4px;\n",
              "  border-bottom: solid 1px var(--xr-border-color);\n",
              "}\n",
              "\n",
              ".xr-header > div,\n",
              ".xr-header > ul {\n",
              "  display: inline;\n",
              "  margin-top: 0;\n",
              "  margin-bottom: 0;\n",
              "}\n",
              "\n",
              ".xr-obj-type,\n",
              ".xr-array-name {\n",
              "  margin-left: 2px;\n",
              "  margin-right: 10px;\n",
              "}\n",
              "\n",
              ".xr-obj-type {\n",
              "  color: var(--xr-font-color2);\n",
              "}\n",
              "\n",
              ".xr-sections {\n",
              "  padding-left: 0 !important;\n",
              "  display: grid;\n",
              "  grid-template-columns: 150px auto auto 1fr 20px 20px;\n",
              "}\n",
              "\n",
              ".xr-section-item {\n",
              "  display: contents;\n",
              "}\n",
              "\n",
              ".xr-section-item input {\n",
              "  display: none;\n",
              "}\n",
              "\n",
              ".xr-section-item input + label {\n",
              "  color: var(--xr-disabled-color);\n",
              "}\n",
              "\n",
              ".xr-section-item input:enabled + label {\n",
              "  cursor: pointer;\n",
              "  color: var(--xr-font-color2);\n",
              "}\n",
              "\n",
              ".xr-section-item input:enabled + label:hover {\n",
              "  color: var(--xr-font-color0);\n",
              "}\n",
              "\n",
              ".xr-section-summary {\n",
              "  grid-column: 1;\n",
              "  color: var(--xr-font-color2);\n",
              "  font-weight: 500;\n",
              "}\n",
              "\n",
              ".xr-section-summary > span {\n",
              "  display: inline-block;\n",
              "  padding-left: 0.5em;\n",
              "}\n",
              "\n",
              ".xr-section-summary-in:disabled + label {\n",
              "  color: var(--xr-font-color2);\n",
              "}\n",
              "\n",
              ".xr-section-summary-in + label:before {\n",
              "  display: inline-block;\n",
              "  content: '►';\n",
              "  font-size: 11px;\n",
              "  width: 15px;\n",
              "  text-align: center;\n",
              "}\n",
              "\n",
              ".xr-section-summary-in:disabled + label:before {\n",
              "  color: var(--xr-disabled-color);\n",
              "}\n",
              "\n",
              ".xr-section-summary-in:checked + label:before {\n",
              "  content: '▼';\n",
              "}\n",
              "\n",
              ".xr-section-summary-in:checked + label > span {\n",
              "  display: none;\n",
              "}\n",
              "\n",
              ".xr-section-summary,\n",
              ".xr-section-inline-details {\n",
              "  padding-top: 4px;\n",
              "  padding-bottom: 4px;\n",
              "}\n",
              "\n",
              ".xr-section-inline-details {\n",
              "  grid-column: 2 / -1;\n",
              "}\n",
              "\n",
              ".xr-section-details {\n",
              "  display: none;\n",
              "  grid-column: 1 / -1;\n",
              "  margin-bottom: 5px;\n",
              "}\n",
              "\n",
              ".xr-section-summary-in:checked ~ .xr-section-details {\n",
              "  display: contents;\n",
              "}\n",
              "\n",
              ".xr-array-wrap {\n",
              "  grid-column: 1 / -1;\n",
              "  display: grid;\n",
              "  grid-template-columns: 20px auto;\n",
              "}\n",
              "\n",
              ".xr-array-wrap > label {\n",
              "  grid-column: 1;\n",
              "  vertical-align: top;\n",
              "}\n",
              "\n",
              ".xr-preview {\n",
              "  color: var(--xr-font-color3);\n",
              "}\n",
              "\n",
              ".xr-array-preview,\n",
              ".xr-array-data {\n",
              "  padding: 0 5px !important;\n",
              "  grid-column: 2;\n",
              "}\n",
              "\n",
              ".xr-array-data,\n",
              ".xr-array-in:checked ~ .xr-array-preview {\n",
              "  display: none;\n",
              "}\n",
              "\n",
              ".xr-array-in:checked ~ .xr-array-data,\n",
              ".xr-array-preview {\n",
              "  display: inline-block;\n",
              "}\n",
              "\n",
              ".xr-dim-list {\n",
              "  display: inline-block !important;\n",
              "  list-style: none;\n",
              "  padding: 0 !important;\n",
              "  margin: 0;\n",
              "}\n",
              "\n",
              ".xr-dim-list li {\n",
              "  display: inline-block;\n",
              "  padding: 0;\n",
              "  margin: 0;\n",
              "}\n",
              "\n",
              ".xr-dim-list:before {\n",
              "  content: '(';\n",
              "}\n",
              "\n",
              ".xr-dim-list:after {\n",
              "  content: ')';\n",
              "}\n",
              "\n",
              ".xr-dim-list li:not(:last-child):after {\n",
              "  content: ',';\n",
              "  padding-right: 5px;\n",
              "}\n",
              "\n",
              ".xr-has-index {\n",
              "  font-weight: bold;\n",
              "}\n",
              "\n",
              ".xr-var-list,\n",
              ".xr-var-item {\n",
              "  display: contents;\n",
              "}\n",
              "\n",
              ".xr-var-item > div,\n",
              ".xr-var-item label,\n",
              ".xr-var-item > .xr-var-name span {\n",
              "  background-color: var(--xr-background-color-row-even);\n",
              "  margin-bottom: 0;\n",
              "}\n",
              "\n",
              ".xr-var-item > .xr-var-name:hover span {\n",
              "  padding-right: 5px;\n",
              "}\n",
              "\n",
              ".xr-var-list > li:nth-child(odd) > div,\n",
              ".xr-var-list > li:nth-child(odd) > label,\n",
              ".xr-var-list > li:nth-child(odd) > .xr-var-name span {\n",
              "  background-color: var(--xr-background-color-row-odd);\n",
              "}\n",
              "\n",
              ".xr-var-name {\n",
              "  grid-column: 1;\n",
              "}\n",
              "\n",
              ".xr-var-dims {\n",
              "  grid-column: 2;\n",
              "}\n",
              "\n",
              ".xr-var-dtype {\n",
              "  grid-column: 3;\n",
              "  text-align: right;\n",
              "  color: var(--xr-font-color2);\n",
              "}\n",
              "\n",
              ".xr-var-preview {\n",
              "  grid-column: 4;\n",
              "}\n",
              "\n",
              ".xr-var-name,\n",
              ".xr-var-dims,\n",
              ".xr-var-dtype,\n",
              ".xr-preview,\n",
              ".xr-attrs dt {\n",
              "  white-space: nowrap;\n",
              "  overflow: hidden;\n",
              "  text-overflow: ellipsis;\n",
              "  padding-right: 10px;\n",
              "}\n",
              "\n",
              ".xr-var-name:hover,\n",
              ".xr-var-dims:hover,\n",
              ".xr-var-dtype:hover,\n",
              ".xr-attrs dt:hover {\n",
              "  overflow: visible;\n",
              "  width: auto;\n",
              "  z-index: 1;\n",
              "}\n",
              "\n",
              ".xr-var-attrs,\n",
              ".xr-var-data {\n",
              "  display: none;\n",
              "  background-color: var(--xr-background-color) !important;\n",
              "  padding-bottom: 5px !important;\n",
              "}\n",
              "\n",
              ".xr-var-attrs-in:checked ~ .xr-var-attrs,\n",
              ".xr-var-data-in:checked ~ .xr-var-data {\n",
              "  display: block;\n",
              "}\n",
              "\n",
              ".xr-var-data > table {\n",
              "  float: right;\n",
              "}\n",
              "\n",
              ".xr-var-name span,\n",
              ".xr-var-data,\n",
              ".xr-attrs {\n",
              "  padding-left: 25px !important;\n",
              "}\n",
              "\n",
              ".xr-attrs,\n",
              ".xr-var-attrs,\n",
              ".xr-var-data {\n",
              "  grid-column: 1 / -1;\n",
              "}\n",
              "\n",
              "dl.xr-attrs {\n",
              "  padding: 0;\n",
              "  margin: 0;\n",
              "  display: grid;\n",
              "  grid-template-columns: 125px auto;\n",
              "}\n",
              "\n",
              ".xr-attrs dt, dd {\n",
              "  padding: 0;\n",
              "  margin: 0;\n",
              "  float: left;\n",
              "  padding-right: 10px;\n",
              "  width: auto;\n",
              "}\n",
              "\n",
              ".xr-attrs dt {\n",
              "  font-weight: normal;\n",
              "  grid-column: 1;\n",
              "}\n",
              "\n",
              ".xr-attrs dt:hover span {\n",
              "  display: inline-block;\n",
              "  background: var(--xr-background-color);\n",
              "  padding-right: 10px;\n",
              "}\n",
              "\n",
              ".xr-attrs dd {\n",
              "  grid-column: 2;\n",
              "  white-space: pre-wrap;\n",
              "  word-break: break-all;\n",
              "}\n",
              "\n",
              ".xr-icon-database,\n",
              ".xr-icon-file-text2 {\n",
              "  display: inline-block;\n",
              "  vertical-align: middle;\n",
              "  width: 1em;\n",
              "  height: 1.5em !important;\n",
              "  stroke-width: 0;\n",
              "  stroke: currentColor;\n",
              "  fill: currentColor;\n",
              "}\n",
              "</style><div class='xr-wrap'><div class='xr-header'><div class='xr-obj-type'>xarray.Dataset</div></div><ul class='xr-sections'><li class='xr-section-item'><input id='section-80e161d7-fb7e-4a06-b9e3-f19df0180afb' class='xr-section-summary-in' type='checkbox' disabled ><label for='section-80e161d7-fb7e-4a06-b9e3-f19df0180afb' class='xr-section-summary'  title='Expand/collapse section'>Dimensions:</label><div class='xr-section-inline-details'><ul class='xr-dim-list'><li><span class='xr-has-index'>lat</span>: 240</li><li><span class='xr-has-index'>lon</span>: 2040</li><li><span class='xr-has-index'>time</span>: 174</li></ul></div><div class='xr-section-details'></div></li><li class='xr-section-item'><input id='section-7157642b-db16-4dfa-bc8a-0ca938db20cd' class='xr-section-summary-in' type='checkbox'  checked><label for='section-7157642b-db16-4dfa-bc8a-0ca938db20cd' class='xr-section-summary' >Coordinates: <span>(3)</span></label><div class='xr-section-inline-details'></div><div class='xr-section-details'><ul class='xr-var-list'><li class='xr-var-item'><div class='xr-var-name'><span class='xr-has-index'>time</span></div><div class='xr-var-dims'>(time)</div><div class='xr-var-dtype'>datetime64[ns]</div><div class='xr-var-preview xr-preview'>2002-07-04 ... 2002-12-31</div><input id='attrs-be348ac0-06d2-422e-b117-652804810e0c' class='xr-var-attrs-in' type='checkbox' ><label for='attrs-be348ac0-06d2-422e-b117-652804810e0c' title='Show/Hide attributes'><svg class='icon xr-icon-file-text2'><use xlink:href='#icon-file-text2'></use></svg></label><input id='data-294d5130-f4fd-4ad5-8e68-3350f45a666d' class='xr-var-data-in' type='checkbox'><label for='data-294d5130-f4fd-4ad5-8e68-3350f45a666d' title='Show/Hide data repr'><svg class='icon xr-icon-database'><use xlink:href='#icon-database'></use></svg></label><div class='xr-var-attrs'><dl class='xr-attrs'><dt><span>standard_name :</span></dt><dd>time</dd><dt><span>long_name :</span></dt><dd>time</dd><dt><span>axis :</span></dt><dd>T</dd><dt><span>_ChunkSizes :</span></dt><dd>512</dd></dl></div><pre class='xr-var-data'>array([&#x27;2002-07-04T00:00:00.000000000&#x27;, &#x27;2002-07-05T00:00:00.000000000&#x27;,\n",
              "       &#x27;2002-07-06T00:00:00.000000000&#x27;, &#x27;2002-07-07T00:00:00.000000000&#x27;,\n",
              "       &#x27;2002-07-08T00:00:00.000000000&#x27;, &#x27;2002-07-09T00:00:00.000000000&#x27;,\n",
              "       &#x27;2002-07-10T00:00:00.000000000&#x27;, &#x27;2002-07-11T00:00:00.000000000&#x27;,\n",
              "       &#x27;2002-07-12T00:00:00.000000000&#x27;, &#x27;2002-07-13T00:00:00.000000000&#x27;,\n",
              "       &#x27;2002-07-14T00:00:00.000000000&#x27;, &#x27;2002-07-15T00:00:00.000000000&#x27;,\n",
              "       &#x27;2002-07-16T00:00:00.000000000&#x27;, &#x27;2002-07-17T00:00:00.000000000&#x27;,\n",
              "       &#x27;2002-07-18T00:00:00.000000000&#x27;, &#x27;2002-07-19T00:00:00.000000000&#x27;,\n",
              "       &#x27;2002-07-20T00:00:00.000000000&#x27;, &#x27;2002-07-21T00:00:00.000000000&#x27;,\n",
              "       &#x27;2002-07-22T00:00:00.000000000&#x27;, &#x27;2002-07-23T00:00:00.000000000&#x27;,\n",
              "       &#x27;2002-07-24T00:00:00.000000000&#x27;, &#x27;2002-07-25T00:00:00.000000000&#x27;,\n",
              "       &#x27;2002-07-26T00:00:00.000000000&#x27;, &#x27;2002-07-27T00:00:00.000000000&#x27;,\n",
              "       &#x27;2002-07-28T00:00:00.000000000&#x27;, &#x27;2002-07-29T00:00:00.000000000&#x27;,\n",
              "       &#x27;2002-08-06T00:00:00.000000000&#x27;, &#x27;2002-08-07T00:00:00.000000000&#x27;,\n",
              "       &#x27;2002-08-08T00:00:00.000000000&#x27;, &#x27;2002-08-09T00:00:00.000000000&#x27;,\n",
              "       &#x27;2002-08-10T00:00:00.000000000&#x27;, &#x27;2002-08-11T00:00:00.000000000&#x27;,\n",
              "       &#x27;2002-08-12T00:00:00.000000000&#x27;, &#x27;2002-08-13T00:00:00.000000000&#x27;,\n",
              "       &#x27;2002-08-14T00:00:00.000000000&#x27;, &#x27;2002-08-15T00:00:00.000000000&#x27;,\n",
              "       &#x27;2002-08-16T00:00:00.000000000&#x27;, &#x27;2002-08-17T00:00:00.000000000&#x27;,\n",
              "       &#x27;2002-08-18T00:00:00.000000000&#x27;, &#x27;2002-08-19T00:00:00.000000000&#x27;,\n",
              "       &#x27;2002-08-20T00:00:00.000000000&#x27;, &#x27;2002-08-21T00:00:00.000000000&#x27;,\n",
              "       &#x27;2002-08-22T00:00:00.000000000&#x27;, &#x27;2002-08-23T00:00:00.000000000&#x27;,\n",
              "       &#x27;2002-08-24T00:00:00.000000000&#x27;, &#x27;2002-08-25T00:00:00.000000000&#x27;,\n",
              "       &#x27;2002-08-26T00:00:00.000000000&#x27;, &#x27;2002-08-27T00:00:00.000000000&#x27;,\n",
              "       &#x27;2002-08-28T00:00:00.000000000&#x27;, &#x27;2002-08-29T00:00:00.000000000&#x27;,\n",
              "       &#x27;2002-08-30T00:00:00.000000000&#x27;, &#x27;2002-08-31T00:00:00.000000000&#x27;,\n",
              "       &#x27;2002-09-01T00:00:00.000000000&#x27;, &#x27;2002-09-02T00:00:00.000000000&#x27;,\n",
              "       &#x27;2002-09-03T00:00:00.000000000&#x27;, &#x27;2002-09-04T00:00:00.000000000&#x27;,\n",
              "       &#x27;2002-09-05T00:00:00.000000000&#x27;, &#x27;2002-09-06T00:00:00.000000000&#x27;,\n",
              "       &#x27;2002-09-07T00:00:00.000000000&#x27;, &#x27;2002-09-08T00:00:00.000000000&#x27;,\n",
              "       &#x27;2002-09-09T00:00:00.000000000&#x27;, &#x27;2002-09-10T00:00:00.000000000&#x27;,\n",
              "       &#x27;2002-09-11T00:00:00.000000000&#x27;, &#x27;2002-09-12T00:00:00.000000000&#x27;,\n",
              "       &#x27;2002-09-13T00:00:00.000000000&#x27;, &#x27;2002-09-14T00:00:00.000000000&#x27;,\n",
              "       &#x27;2002-09-15T00:00:00.000000000&#x27;, &#x27;2002-09-16T00:00:00.000000000&#x27;,\n",
              "       &#x27;2002-09-17T00:00:00.000000000&#x27;, &#x27;2002-09-18T00:00:00.000000000&#x27;,\n",
              "       &#x27;2002-09-19T00:00:00.000000000&#x27;, &#x27;2002-09-20T00:00:00.000000000&#x27;,\n",
              "       &#x27;2002-09-21T00:00:00.000000000&#x27;, &#x27;2002-09-22T00:00:00.000000000&#x27;,\n",
              "       &#x27;2002-09-23T00:00:00.000000000&#x27;, &#x27;2002-09-24T00:00:00.000000000&#x27;,\n",
              "       &#x27;2002-09-25T00:00:00.000000000&#x27;, &#x27;2002-09-26T00:00:00.000000000&#x27;,\n",
              "       &#x27;2002-09-27T00:00:00.000000000&#x27;, &#x27;2002-09-28T00:00:00.000000000&#x27;,\n",
              "       &#x27;2002-09-29T00:00:00.000000000&#x27;, &#x27;2002-09-30T00:00:00.000000000&#x27;,\n",
              "       &#x27;2002-10-01T00:00:00.000000000&#x27;, &#x27;2002-10-02T00:00:00.000000000&#x27;,\n",
              "       &#x27;2002-10-03T00:00:00.000000000&#x27;, &#x27;2002-10-04T00:00:00.000000000&#x27;,\n",
              "       &#x27;2002-10-05T00:00:00.000000000&#x27;, &#x27;2002-10-06T00:00:00.000000000&#x27;,\n",
              "       &#x27;2002-10-07T00:00:00.000000000&#x27;, &#x27;2002-10-08T00:00:00.000000000&#x27;,\n",
              "       &#x27;2002-10-09T00:00:00.000000000&#x27;, &#x27;2002-10-10T00:00:00.000000000&#x27;,\n",
              "       &#x27;2002-10-11T00:00:00.000000000&#x27;, &#x27;2002-10-12T00:00:00.000000000&#x27;,\n",
              "       &#x27;2002-10-13T00:00:00.000000000&#x27;, &#x27;2002-10-14T00:00:00.000000000&#x27;,\n",
              "       &#x27;2002-10-15T00:00:00.000000000&#x27;, &#x27;2002-10-16T00:00:00.000000000&#x27;,\n",
              "       &#x27;2002-10-17T00:00:00.000000000&#x27;, &#x27;2002-10-18T00:00:00.000000000&#x27;,\n",
              "       &#x27;2002-10-19T00:00:00.000000000&#x27;, &#x27;2002-10-20T00:00:00.000000000&#x27;,\n",
              "       &#x27;2002-10-21T00:00:00.000000000&#x27;, &#x27;2002-10-22T00:00:00.000000000&#x27;,\n",
              "       &#x27;2002-10-23T00:00:00.000000000&#x27;, &#x27;2002-10-24T00:00:00.000000000&#x27;,\n",
              "       &#x27;2002-10-25T00:00:00.000000000&#x27;, &#x27;2002-10-26T00:00:00.000000000&#x27;,\n",
              "       &#x27;2002-10-27T00:00:00.000000000&#x27;, &#x27;2002-10-28T00:00:00.000000000&#x27;,\n",
              "       &#x27;2002-10-29T00:00:00.000000000&#x27;, &#x27;2002-10-30T00:00:00.000000000&#x27;,\n",
              "       &#x27;2002-10-31T00:00:00.000000000&#x27;, &#x27;2002-11-01T00:00:00.000000000&#x27;,\n",
              "       &#x27;2002-11-02T00:00:00.000000000&#x27;, &#x27;2002-11-03T00:00:00.000000000&#x27;,\n",
              "       &#x27;2002-11-04T00:00:00.000000000&#x27;, &#x27;2002-11-05T00:00:00.000000000&#x27;,\n",
              "       &#x27;2002-11-06T00:00:00.000000000&#x27;, &#x27;2002-11-07T00:00:00.000000000&#x27;,\n",
              "       &#x27;2002-11-08T00:00:00.000000000&#x27;, &#x27;2002-11-09T00:00:00.000000000&#x27;,\n",
              "       &#x27;2002-11-10T00:00:00.000000000&#x27;, &#x27;2002-11-11T00:00:00.000000000&#x27;,\n",
              "       &#x27;2002-11-12T00:00:00.000000000&#x27;, &#x27;2002-11-13T00:00:00.000000000&#x27;,\n",
              "       &#x27;2002-11-14T00:00:00.000000000&#x27;, &#x27;2002-11-15T00:00:00.000000000&#x27;,\n",
              "       &#x27;2002-11-16T00:00:00.000000000&#x27;, &#x27;2002-11-17T00:00:00.000000000&#x27;,\n",
              "       &#x27;2002-11-18T00:00:00.000000000&#x27;, &#x27;2002-11-19T00:00:00.000000000&#x27;,\n",
              "       &#x27;2002-11-20T00:00:00.000000000&#x27;, &#x27;2002-11-21T00:00:00.000000000&#x27;,\n",
              "       &#x27;2002-11-22T00:00:00.000000000&#x27;, &#x27;2002-11-23T00:00:00.000000000&#x27;,\n",
              "       &#x27;2002-11-24T00:00:00.000000000&#x27;, &#x27;2002-11-25T00:00:00.000000000&#x27;,\n",
              "       &#x27;2002-11-26T00:00:00.000000000&#x27;, &#x27;2002-11-27T00:00:00.000000000&#x27;,\n",
              "       &#x27;2002-11-28T00:00:00.000000000&#x27;, &#x27;2002-11-29T00:00:00.000000000&#x27;,\n",
              "       &#x27;2002-11-30T00:00:00.000000000&#x27;, &#x27;2002-12-01T00:00:00.000000000&#x27;,\n",
              "       &#x27;2002-12-02T00:00:00.000000000&#x27;, &#x27;2002-12-03T00:00:00.000000000&#x27;,\n",
              "       &#x27;2002-12-04T00:00:00.000000000&#x27;, &#x27;2002-12-05T00:00:00.000000000&#x27;,\n",
              "       &#x27;2002-12-06T00:00:00.000000000&#x27;, &#x27;2002-12-07T00:00:00.000000000&#x27;,\n",
              "       &#x27;2002-12-08T00:00:00.000000000&#x27;, &#x27;2002-12-09T00:00:00.000000000&#x27;,\n",
              "       &#x27;2002-12-10T00:00:00.000000000&#x27;, &#x27;2002-12-11T00:00:00.000000000&#x27;,\n",
              "       &#x27;2002-12-12T00:00:00.000000000&#x27;, &#x27;2002-12-13T00:00:00.000000000&#x27;,\n",
              "       &#x27;2002-12-14T00:00:00.000000000&#x27;, &#x27;2002-12-15T00:00:00.000000000&#x27;,\n",
              "       &#x27;2002-12-16T00:00:00.000000000&#x27;, &#x27;2002-12-17T00:00:00.000000000&#x27;,\n",
              "       &#x27;2002-12-18T00:00:00.000000000&#x27;, &#x27;2002-12-19T00:00:00.000000000&#x27;,\n",
              "       &#x27;2002-12-20T00:00:00.000000000&#x27;, &#x27;2002-12-21T00:00:00.000000000&#x27;,\n",
              "       &#x27;2002-12-22T00:00:00.000000000&#x27;, &#x27;2002-12-23T00:00:00.000000000&#x27;,\n",
              "       &#x27;2002-12-24T00:00:00.000000000&#x27;, &#x27;2002-12-25T00:00:00.000000000&#x27;,\n",
              "       &#x27;2002-12-26T00:00:00.000000000&#x27;, &#x27;2002-12-27T00:00:00.000000000&#x27;,\n",
              "       &#x27;2002-12-28T00:00:00.000000000&#x27;, &#x27;2002-12-29T00:00:00.000000000&#x27;,\n",
              "       &#x27;2002-12-30T00:00:00.000000000&#x27;, &#x27;2002-12-31T00:00:00.000000000&#x27;],\n",
              "      dtype=&#x27;datetime64[ns]&#x27;)</pre></li><li class='xr-var-item'><div class='xr-var-name'><span class='xr-has-index'>lon</span></div><div class='xr-var-dims'>(lon)</div><div class='xr-var-dtype'>float32</div><div class='xr-var-preview xr-preview'>120.041664 120.12501 ... 289.95834</div><input id='attrs-5ab95777-8565-45f5-beb3-34a12a2a83b1' class='xr-var-attrs-in' type='checkbox' ><label for='attrs-5ab95777-8565-45f5-beb3-34a12a2a83b1' title='Show/Hide attributes'><svg class='icon xr-icon-file-text2'><use xlink:href='#icon-file-text2'></use></svg></label><input id='data-31896af6-23c4-4050-8cd2-a1de44d2e4cd' class='xr-var-data-in' type='checkbox'><label for='data-31896af6-23c4-4050-8cd2-a1de44d2e4cd' title='Show/Hide data repr'><svg class='icon xr-icon-database'><use xlink:href='#icon-database'></use></svg></label><div class='xr-var-attrs'><dl class='xr-attrs'><dt><span>standard_name :</span></dt><dd>longitude</dd><dt><span>long_name :</span></dt><dd>longitude</dd><dt><span>units :</span></dt><dd>degrees_east</dd><dt><span>axis :</span></dt><dd>X</dd><dt><span>_ChunkSizes :</span></dt><dd>2040</dd></dl></div><pre class='xr-var-data'>array([120.041664, 120.12501 , 120.20835 , ..., 289.79166 , 289.875   ,\n",
              "       289.95834 ], dtype=float32)</pre></li><li class='xr-var-item'><div class='xr-var-name'><span class='xr-has-index'>lat</span></div><div class='xr-var-dims'>(lat)</div><div class='xr-var-dtype'>float32</div><div class='xr-var-preview xr-preview'>9.958333 9.874997 ... -9.958339</div><input id='attrs-fcfba9e2-9a5a-4264-b7c9-2f85345d2b7b' class='xr-var-attrs-in' type='checkbox' ><label for='attrs-fcfba9e2-9a5a-4264-b7c9-2f85345d2b7b' title='Show/Hide attributes'><svg class='icon xr-icon-file-text2'><use xlink:href='#icon-file-text2'></use></svg></label><input id='data-bcf7da83-8b2c-4008-88bb-aaf5567a730e' class='xr-var-data-in' type='checkbox'><label for='data-bcf7da83-8b2c-4008-88bb-aaf5567a730e' title='Show/Hide data repr'><svg class='icon xr-icon-database'><use xlink:href='#icon-database'></use></svg></label><div class='xr-var-attrs'><dl class='xr-attrs'><dt><span>standard_name :</span></dt><dd>latitude</dd><dt><span>long_name :</span></dt><dd>Latitude</dd><dt><span>units :</span></dt><dd>degrees_north</dd><dt><span>axis :</span></dt><dd>Y</dd><dt><span>_ChunkSizes :</span></dt><dd>240</dd></dl></div><pre class='xr-var-data'>array([ 9.958333,  9.874997,  9.791661, ..., -9.791667, -9.875003, -9.958339],\n",
              "      dtype=float32)</pre></li></ul></div></li><li class='xr-section-item'><input id='section-6f8c2f24-1a07-4f97-8a25-96431918897a' class='xr-section-summary-in' type='checkbox'  checked><label for='section-6f8c2f24-1a07-4f97-8a25-96431918897a' class='xr-section-summary' >Data variables: <span>(1)</span></label><div class='xr-section-inline-details'></div><div class='xr-section-details'><ul class='xr-var-list'><li class='xr-var-item'><div class='xr-var-name'><span>chl_tpca</span></div><div class='xr-var-dims'>(time, lat, lon)</div><div class='xr-var-dtype'>float32</div><div class='xr-var-preview xr-preview'>nan nan nan nan ... nan nan nan nan</div><input id='attrs-a86c3e1c-3272-4fce-81a2-9a44b16971ac' class='xr-var-attrs-in' type='checkbox' ><label for='attrs-a86c3e1c-3272-4fce-81a2-9a44b16971ac' title='Show/Hide attributes'><svg class='icon xr-icon-file-text2'><use xlink:href='#icon-file-text2'></use></svg></label><input id='data-eec9e2f7-3c2c-4824-aa5f-b515b51d1d8b' class='xr-var-data-in' type='checkbox'><label for='data-eec9e2f7-3c2c-4824-aa5f-b515b51d1d8b' title='Show/Hide data repr'><svg class='icon xr-icon-database'><use xlink:href='#icon-database'></use></svg></label><div class='xr-var-attrs'><dl class='xr-attrs'><dt><span>standard_name :</span></dt><dd>mass_concentration_of_chlorophyll_a_in_sea_water</dd><dt><span>long_name :</span></dt><dd>mass_concentration_of_chlorophyll_a_in_sea_water</dd><dt><span>units :</span></dt><dd>mg m-3</dd><dt><span>_ChunkSizes :</span></dt><dd>[   1  240 2040]</dd></dl></div><pre class='xr-var-data'>array([[[       nan,        nan,        nan, ...,        nan,\n",
              "                nan,        nan],\n",
              "        [       nan,        nan,        nan, ...,        nan,\n",
              "                nan,        nan],\n",
              "        [       nan,        nan,        nan, ...,        nan,\n",
              "                nan,        nan],\n",
              "        ...,\n",
              "        [       nan,        nan,        nan, ...,        nan,\n",
              "                nan,        nan],\n",
              "        [       nan,        nan,        nan, ...,        nan,\n",
              "                nan,        nan],\n",
              "        [       nan,        nan,        nan, ...,        nan,\n",
              "                nan,        nan]],\n",
              "\n",
              "       [[       nan,        nan,        nan, ...,        nan,\n",
              "                nan,        nan],\n",
              "        [       nan,        nan,        nan, ...,        nan,\n",
              "                nan,        nan],\n",
              "        [       nan,        nan,        nan, ...,        nan,\n",
              "                nan,        nan],\n",
              "        ...,\n",
              "        [       nan,        nan,        nan, ...,        nan,\n",
              "                nan,        nan],\n",
              "        [       nan,        nan,        nan, ...,        nan,\n",
              "                nan,        nan],\n",
              "        [       nan,        nan,        nan, ...,        nan,\n",
              "                nan,        nan]],\n",
              "\n",
              "       [[       nan,        nan,        nan, ...,        nan,\n",
              "                nan,        nan],\n",
              "        [       nan,        nan,        nan, ...,        nan,\n",
              "                nan,        nan],\n",
              "        [       nan,        nan,        nan, ...,        nan,\n",
              "                nan,        nan],\n",
              "        ...,\n",
              "        [       nan,        nan,        nan, ...,        nan,\n",
              "                nan,        nan],\n",
              "        [       nan,        nan,        nan, ...,        nan,\n",
              "                nan,        nan],\n",
              "        [       nan,        nan,        nan, ...,        nan,\n",
              "                nan,        nan]],\n",
              "\n",
              "       ...,\n",
              "\n",
              "       [[       nan,        nan,        nan, ...,        nan,\n",
              "                nan,        nan],\n",
              "        [       nan,        nan,        nan, ...,        nan,\n",
              "                nan,        nan],\n",
              "        [       nan,        nan,        nan, ...,        nan,\n",
              "                nan,        nan],\n",
              "        ...,\n",
              "        [       nan,        nan,        nan, ...,        nan,\n",
              "                nan,        nan],\n",
              "        [       nan,        nan,        nan, ...,        nan,\n",
              "                nan,        nan],\n",
              "        [       nan,        nan,        nan, ...,        nan,\n",
              "                nan,        nan]],\n",
              "\n",
              "       [[       nan,        nan,        nan, ...,        nan,\n",
              "                nan,        nan],\n",
              "        [       nan,        nan,        nan, ...,        nan,\n",
              "                nan,        nan],\n",
              "        [       nan,        nan,        nan, ...,        nan,\n",
              "                nan,        nan],\n",
              "        ...,\n",
              "        [       nan,        nan,        nan, ...,        nan,\n",
              "                nan,        nan],\n",
              "        [       nan,        nan,        nan, ...,        nan,\n",
              "                nan,        nan],\n",
              "        [       nan,        nan,        nan, ...,        nan,\n",
              "                nan,        nan]],\n",
              "\n",
              "       [[0.18799031, 0.18208537, 0.18621564, ...,        nan,\n",
              "                nan,        nan],\n",
              "        [0.17837113, 0.18989491, 0.17518382, ...,        nan,\n",
              "                nan,        nan],\n",
              "        [0.16450259, 0.17312273, 0.17350492, ...,        nan,\n",
              "                nan,        nan],\n",
              "        ...,\n",
              "        [       nan,        nan,        nan, ...,        nan,\n",
              "                nan,        nan],\n",
              "        [       nan,        nan,        nan, ...,        nan,\n",
              "                nan,        nan],\n",
              "        [       nan,        nan,        nan, ...,        nan,\n",
              "                nan,        nan]]], dtype=float32)</pre></li></ul></div></li><li class='xr-section-item'><input id='section-c220ebbc-c609-46ed-a463-1ba5d6961e1b' class='xr-section-summary-in' type='checkbox'  ><label for='section-c220ebbc-c609-46ed-a463-1ba5d6961e1b' class='xr-section-summary' >Attributes: <span>(26)</span></label><div class='xr-section-inline-details'></div><div class='xr-section-details'><dl class='xr-attrs'><dt><span>history :</span></dt><dd>TPCA applied to http://oceandata.sci.gsfc.nasa.gov</dd><dt><span>institution :</span></dt><dd>University of Tasmania - IMAS</dd><dt><span>Conventions :</span></dt><dd>CF-1.7, ACDD-1.3</dd><dt><span>creator_name :</span></dt><dd>Nicholas Pittman</dd><dt><span>creator_email :</span></dt><dd>Nic.Pittman@utas.edu.au</dd><dt><span>title :</span></dt><dd>Tropical Pacific Chlorophyll Algorithm (TPCA): Reprocessing v2019_01</dd><dt><span>summary :</span></dt><dd>TPCA MODIS-Aqua Level-3 Standard Mapped Image - Tropical Pacific</dd><dt><span>license :</span></dt><dd>http://creativecommons.org/licenses/by-nc-sa/4.0/</dd><dt><span>product_version :</span></dt><dd>2019_01</dd><dt><span>contact :</span></dt><dd>nic.pittman@utas.edu.au</dd><dt><span>organisation :</span></dt><dd>ARC Centre of Excellence for Climate Extremes</dd><dt><span>keywords :</span></dt><dd>ocean color, Chlorophyll Algorithm, 040501 Biological Oceanography, SeaWiFS, MODIS-Aqua, Equatorial Pacific</dd><dt><span>publisher_name :</span></dt><dd>CLEx data manager</dd><dt><span>publisher_email :</span></dt><dd>paola.petrelli@utas.edu.au</dd><dt><span>time_coverage_start :</span></dt><dd>1997-08-01</dd><dt><span>time_coverage_end :</span></dt><dd>2019-07-27</dd><dt><span>geospatial_lat_min :</span></dt><dd>-10.0</dd><dt><span>geospatial_lat_max :</span></dt><dd>10.0</dd><dt><span>CDO :</span></dt><dd>Climate Data Operators version 1.9.5 (http://mpimet.mpg.de/cdo)</dd><dt><span>id :</span></dt><dd>http://dx.doi.org/10.25914/5dccbd3b64bdc</dd><dt><span>references :</span></dt><dd>Pittman, Nic, 2019: Tropical Pacific Chlorophyll Algorithm (TPCA): Reprocessing v2019_01 . NCI National Research Data Collection , doi:10.25914/5dccbd3b64bdc</dd><dt><span>geospatial_lon_min :</span></dt><dd>150.0</dd><dt><span>geospatial_lon_max :</span></dt><dd>-90.0</dd><dt><span>source :</span></dt><dd>TPCA algorithm: https://github.com/nicpittman/TPCA_source_and_matchups, data: MODIS-Aqua chlorophyll a data from https://oceandata.sci.gsfc.nasa.gov/MODIS-Aqua/Mapped/Daily/9km, rrs: 443,488,547,667</dd><dt><span>date_created :</span></dt><dd>2019-08-01</dd><dt><span>DODS_EXTRA.Unlimited_Dimension :</span></dt><dd>time</dd></dl></div></li></ul></div></div>"
            ],
            "text/plain": [
              "<xarray.Dataset>\n",
              "Dimensions:   (lat: 240, lon: 2040, time: 174)\n",
              "Coordinates:\n",
              "  * time      (time) datetime64[ns] 2002-07-04 2002-07-05 ... 2002-12-31\n",
              "  * lon       (lon) float32 120.041664 120.12501 120.20835 ... 289.875 289.95834\n",
              "  * lat       (lat) float32 9.958333 9.874997 9.791661 ... -9.875003 -9.958339\n",
              "Data variables:\n",
              "    chl_tpca  (time, lat, lon) float32 nan nan nan nan nan ... nan nan nan nan\n",
              "Attributes:\n",
              "    history:                         TPCA applied to http://oceandata.sci.gsf...\n",
              "    institution:                     University of Tasmania - IMAS\n",
              "    Conventions:                     CF-1.7, ACDD-1.3\n",
              "    creator_name:                    Nicholas Pittman\n",
              "    creator_email:                   Nic.Pittman@utas.edu.au\n",
              "    title:                           Tropical Pacific Chlorophyll Algorithm (...\n",
              "    summary:                         TPCA MODIS-Aqua Level-3 Standard Mapped ...\n",
              "    license:                         http://creativecommons.org/licenses/by-n...\n",
              "    product_version:                 2019_01\n",
              "    contact:                         nic.pittman@utas.edu.au\n",
              "    organisation:                    ARC Centre of Excellence for Climate Ext...\n",
              "    keywords:                        ocean color, Chlorophyll Algorithm, 0405...\n",
              "    publisher_name:                  CLEx data manager\n",
              "    publisher_email:                 paola.petrelli@utas.edu.au\n",
              "    time_coverage_start:             1997-08-01\n",
              "    time_coverage_end:               2019-07-27\n",
              "    geospatial_lat_min:              -10.0\n",
              "    geospatial_lat_max:              10.0\n",
              "    CDO:                             Climate Data Operators version 1.9.5 (ht...\n",
              "    id:                              http://dx.doi.org/10.25914/5dccbd3b64bdc\n",
              "    references:                      Pittman, Nic, 2019: Tropical Pacific Chl...\n",
              "    geospatial_lon_min:              150.0\n",
              "    geospatial_lon_max:              -90.0\n",
              "    source:                          TPCA algorithm: https://github.com/nicpi...\n",
              "    date_created:                    2019-08-01\n",
              "    DODS_EXTRA.Unlimited_Dimension:  time"
            ]
          },
          "metadata": {
            "tags": []
          },
          "execution_count": 65
        }
      ]
    },
    {
      "cell_type": "code",
      "metadata": {
        "id": "Iak0M5qAz7Hm",
        "outputId": "0c89f0ce-82cf-472b-f32e-b0a879756289",
        "colab": {
          "base_uri": "https://localhost:8080/",
          "height": 338
        }
      },
      "source": [
        "#xarray wrapper for Matplotlib is very useful!\n",
        "nics_chlorophyll.chl_tpca.mean(dim='time').plot(vmin=0,vmax=1)\n"
      ],
      "execution_count": 74,
      "outputs": [
        {
          "output_type": "stream",
          "text": [
            "/usr/local/lib/python3.7/dist-packages/xarray/core/nanops.py:142: RuntimeWarning: Mean of empty slice\n",
            "  return np.nanmean(a, axis=axis, dtype=dtype)\n"
          ],
          "name": "stderr"
        },
        {
          "output_type": "execute_result",
          "data": {
            "text/plain": [
              "<matplotlib.collections.QuadMesh at 0x7f4a7b7a62d0>"
            ]
          },
          "metadata": {
            "tags": []
          },
          "execution_count": 74
        },
        {
          "output_type": "display_data",
          "data": {
            "image/png": "[encoded data removed]",
            "text/plain": [
              "<Figure size 432x288 with 2 Axes>"
            ]
          },
          "metadata": {
            "tags": [],
            "needs_background": "light"
          }
        }
      ]
    },
    {
      "cell_type": "code",
      "metadata": {
        "id": "cEb-4KNF1nkw",
        "outputId": "a406023d-843e-483a-b21f-f9ff68c27c63",
        "colab": {
          "base_uri": "https://localhost:8080/",
          "height": 357
        }
      },
      "source": [
        "#Or we could make a hovmoller\n",
        "nics_chlorophyll.chl_tpca.mean(dim='lon').T.plot(vmin=0,vmax=1)"
      ],
      "execution_count": 83,
      "outputs": [
        {
          "output_type": "stream",
          "text": [
            "/usr/local/lib/python3.7/dist-packages/xarray/core/nanops.py:142: RuntimeWarning: Mean of empty slice\n",
            "  return np.nanmean(a, axis=axis, dtype=dtype)\n"
          ],
          "name": "stderr"
        },
        {
          "output_type": "execute_result",
          "data": {
            "text/plain": [
              "<matplotlib.collections.QuadMesh at 0x7f4a7b48eb10>"
            ]
          },
          "metadata": {
            "tags": []
          },
          "execution_count": 83
        },
        {
          "output_type": "display_data",
          "data": {
            "image/png": "[encoded data removed]",
            "text/plain": [
              "<Figure size 432x288 with 2 Axes>"
            ]
          },
          "metadata": {
            "tags": [],
            "needs_background": "light"
          }
        }
      ]
    },
    {
      "cell_type": "code",
      "metadata": {
        "id": "M5RRLMwM11I1",
        "outputId": "315e3d21-84b0-45e9-c27e-9510ba0f4c49",
        "colab": {
          "base_uri": "https://localhost:8080/",
          "height": 317
        }
      },
      "source": [
        "#Or even just a timeseries for 2N-2S\n",
        "nics_chlorophyll.chl_tpca.sel(lat=slice(2,-2)).mean(dim=['lat','lon']).plot()"
      ],
      "execution_count": 79,
      "outputs": [
        {
          "output_type": "execute_result",
          "data": {
            "text/plain": [
              "[<matplotlib.lines.Line2D at 0x7f4a7cc238d0>]"
            ]
          },
          "metadata": {
            "tags": []
          },
          "execution_count": 79
        },
        {
          "output_type": "display_data",
          "data": {
            "image/png": "[encoded data removed]",
            "text/plain": [
              "<Figure size 432x288 with 1 Axes>"
            ]
          },
          "metadata": {
            "tags": [],
            "needs_background": "light"
          }
        }
      ]
    },
    {
      "cell_type": "code",
      "metadata": {
        "id": "WuKqcR452Ih-",
        "outputId": "55bc9282-0e60-4de1-be87-43ccf6ef57a6",
        "colab": {
          "base_uri": "https://localhost:8080/",
          "height": 353
        }
      },
      "source": [
        "#Or just the Galápagos region\n",
        "nics_chlorophyll.chl_tpca.sel(lat=slice(5,-5),lon=slice(265,280)).mean(dim=['lat','lon']).plot()"
      ],
      "execution_count": 82,
      "outputs": [
        {
          "output_type": "stream",
          "text": [
            "/usr/local/lib/python3.7/dist-packages/xarray/core/nanops.py:142: RuntimeWarning: Mean of empty slice\n",
            "  return np.nanmean(a, axis=axis, dtype=dtype)\n"
          ],
          "name": "stderr"
        },
        {
          "output_type": "execute_result",
          "data": {
            "text/plain": [
              "[<matplotlib.lines.Line2D at 0x7f4a7b50b310>]"
            ]
          },
          "metadata": {
            "tags": []
          },
          "execution_count": 82
        },
        {
          "output_type": "display_data",
          "data": {
            "image/png": "[encoded data removed]",
            "text/plain": [
              "<Figure size 432x288 with 1 Axes>"
            ]
          },
          "metadata": {
            "tags": [],
            "needs_background": "light"
          }
        }
      ]
    },
    {
      "cell_type": "code",
      "metadata": {
        "id": "GSJuurRizmNE"
      },
      "source": [
        "#An example how to load the entire timeseries. There are more elegant ways of doing this. Especially if the files are stored locally, you can use wildcard so would look more like:\n",
        "#/path/to/my/dataset/tpca_modis_aqua_*.nc   ... But we can't call the wildcard when stored remotely like in this example\n",
        "\n",
        "#Suggest not running the below example as it will probably time all of us out. \n",
        "\n",
        "#nics_chlorophyll_all= xr.open_mfdataset(\n",
        "#    [\"http://dapds00.nci.org.au/thredds/dodsC/ks32/CLEX_Data/TPCA_reprocessing/v2019_01/MODIS-Aqua/tpca_modis_aqua_2002.nc\",\n",
        "#    \"http://dapds00.nci.org.au/thredds/dodsC/ks32/CLEX_Data/TPCA_reprocessing/v2019_01/MODIS-Aqua/tpca_modis_aqua_2003.nc\",\n",
        "#    \"http://dapds00.nci.org.au/thredds/dodsC/ks32/CLEX_Data/TPCA_reprocessing/v2019_01/MODIS-Aqua/tpca_modis_aqua_2004.nc\",\n",
        "#    \"http://dapds00.nci.org.au/thredds/dodsC/ks32/CLEX_Data/TPCA_reprocessing/v2019_01/MODIS-Aqua/tpca_modis_aqua_2005.nc\",   \n",
        "#    \"http://dapds00.nci.org.au/thredds/dodsC/ks32/CLEX_Data/TPCA_reprocessing/v2019_01/MODIS-Aqua/tpca_modis_aqua_2006.nc\",\n",
        "#    \"http://dapds00.nci.org.au/thredds/dodsC/ks32/CLEX_Data/TPCA_reprocessing/v2019_01/MODIS-Aqua/tpca_modis_aqua_2007.nc\",\n",
        "#    \"http://dapds00.nci.org.au/thredds/dodsC/ks32/CLEX_Data/TPCA_reprocessing/v2019_01/MODIS-Aqua/tpca_modis_aqua_2008.nc\",\n",
        "#    \"http://dapds00.nci.org.au/thredds/dodsC/ks32/CLEX_Data/TPCA_reprocessing/v2019_01/MODIS-Aqua/tpca_modis_aqua_2009.nc\",\n",
        "#    \"http://dapds00.nci.org.au/thredds/dodsC/ks32/CLEX_Data/TPCA_reprocessing/v2019_01/MODIS-Aqua/tpca_modis_aqua_2010.nc\",\n",
        "#    \"http://dapds00.nci.org.au/thredds/dodsC/ks32/CLEX_Data/TPCA_reprocessing/v2019_01/MODIS-Aqua/tpca_modis_aqua_2011.nc\",\n",
        "#    \"http://dapds00.nci.org.au/thredds/dodsC/ks32/CLEX_Data/TPCA_reprocessing/v2019_01/MODIS-Aqua/tpca_modis_aqua_2012.nc\",\n",
        "#    \"http://dapds00.nci.org.au/thredds/dodsC/ks32/CLEX_Data/TPCA_reprocessing/v2019_01/MODIS-Aqua/tpca_modis_aqua_2013.nc\",\n",
        "#    \"http://dapds00.nci.org.au/thredds/dodsC/ks32/CLEX_Data/TPCA_reprocessing/v2019_01/MODIS-Aqua/tpca_modis_aqua_2014.nc\",\n",
        "#    \"http://dapds00.nci.org.au/thredds/dodsC/ks32/CLEX_Data/TPCA_reprocessing/v2019_01/MODIS-Aqua/tpca_modis_aqua_2015.nc\",\n",
        "#    \"http://dapds00.nci.org.au/thredds/dodsC/ks32/CLEX_Data/TPCA_reprocessing/v2019_01/MODIS-Aqua/tpca_modis_aqua_2016.nc\",\n",
        "#    \"http://dapds00.nci.org.au/thredds/dodsC/ks32/CLEX_Data/TPCA_reprocessing/v2019_01/MODIS-Aqua/tpca_modis_aqua_2017.nc\",\n",
        "#    \"http://dapds00.nci.org.au/thredds/dodsC/ks32/CLEX_Data/TPCA_reprocessing/v2019_01/MODIS-Aqua/tpca_modis_aqua_2018.nc\",\n",
        "#    \"http://dapds00.nci.org.au/thredds/dodsC/ks32/CLEX_Data/TPCA_reprocessing/v2019_01/MODIS-Aqua/tpca_modis_aqua_2019.nc\"],\n",
        "#    decode_times=True,combine='nested'\n",
        "#)"
      ],
      "execution_count": null,
      "outputs": []
    },
    {
      "cell_type": "code",
      "metadata": {
        "id": "ugiEIsiUta3v",
        "outputId": "78307cb9-8060-4013-ab23-c4903b7cb270",
        "colab": {
          "base_uri": "https://localhost:8080/",
          "height": 245
        }
      },
      "source": [
        "remote_data"
      ],
      "execution_count": 43,
      "outputs": [
        {
          "output_type": "execute_result",
          "data": {
            "text/html": [
              "<div><svg style=\"position: absolute; width: 0; height: 0; overflow: hidden\">\n",
              "<defs>\n",
              "<symbol id=\"icon-database\" viewBox=\"0 0 32 32\">\n",
              "<title>Show/Hide data repr</title>\n",
              "<path d=\"M16 0c-8.837 0-16 2.239-16 5v4c0 2.761 7.163 5 16 5s16-2.239 16-5v-4c0-2.761-7.163-5-16-5z\"></path>\n",
              "<path d=\"M16 17c-8.837 0-16-2.239-16-5v6c0 2.761 7.163 5 16 5s16-2.239 16-5v-6c0 2.761-7.163 5-16 5z\"></path>\n",
              "<path d=\"M16 26c-8.837 0-16-2.239-16-5v6c0 2.761 7.163 5 16 5s16-2.239 16-5v-6c0 2.761-7.163 5-16 5z\"></path>\n",
              "</symbol>\n",
              "<symbol id=\"icon-file-text2\" viewBox=\"0 0 32 32\">\n",
              "<title>Show/Hide attributes</title>\n",
              "<path d=\"M28.681 7.159c-0.694-0.947-1.662-2.053-2.724-3.116s-2.169-2.030-3.116-2.724c-1.612-1.182-2.393-1.319-2.841-1.319h-15.5c-1.378 0-2.5 1.121-2.5 2.5v27c0 1.378 1.122 2.5 2.5 2.5h23c1.378 0 2.5-1.122 2.5-2.5v-19.5c0-0.448-0.137-1.23-1.319-2.841zM24.543 5.457c0.959 0.959 1.712 1.825 2.268 2.543h-4.811v-4.811c0.718 0.556 1.584 1.309 2.543 2.268zM28 29.5c0 0.271-0.229 0.5-0.5 0.5h-23c-0.271 0-0.5-0.229-0.5-0.5v-27c0-0.271 0.229-0.5 0.5-0.5 0 0 15.499-0 15.5 0v7c0 0.552 0.448 1 1 1h7v19.5z\"></path>\n",
              "<path d=\"M23 26h-14c-0.552 0-1-0.448-1-1s0.448-1 1-1h14c0.552 0 1 0.448 1 1s-0.448 1-1 1z\"></path>\n",
              "<path d=\"M23 22h-14c-0.552 0-1-0.448-1-1s0.448-1 1-1h14c0.552 0 1 0.448 1 1s-0.448 1-1 1z\"></path>\n",
              "<path d=\"M23 18h-14c-0.552 0-1-0.448-1-1s0.448-1 1-1h14c0.552 0 1 0.448 1 1s-0.448 1-1 1z\"></path>\n",
              "</symbol>\n",
              "</defs>\n",
              "</svg>\n",
              "<style>/* CSS stylesheet for displaying xarray objects in jupyterlab.\n",
              " *\n",
              " */\n",
              "\n",
              ":root {\n",
              "  --xr-font-color0: var(--jp-content-font-color0, rgba(0, 0, 0, 1));\n",
              "  --xr-font-color2: var(--jp-content-font-color2, rgba(0, 0, 0, 0.54));\n",
              "  --xr-font-color3: var(--jp-content-font-color3, rgba(0, 0, 0, 0.38));\n",
              "  --xr-border-color: var(--jp-border-color2, #e0e0e0);\n",
              "  --xr-disabled-color: var(--jp-layout-color3, #bdbdbd);\n",
              "  --xr-background-color: var(--jp-layout-color0, white);\n",
              "  --xr-background-color-row-even: var(--jp-layout-color1, white);\n",
              "  --xr-background-color-row-odd: var(--jp-layout-color2, #eeeeee);\n",
              "}\n",
              "\n",
              ".xr-wrap {\n",
              "  min-width: 300px;\n",
              "  max-width: 700px;\n",
              "}\n",
              "\n",
              ".xr-header {\n",
              "  padding-top: 6px;\n",
              "  padding-bottom: 6px;\n",
              "  margin-bottom: 4px;\n",
              "  border-bottom: solid 1px var(--xr-border-color);\n",
              "}\n",
              "\n",
              ".xr-header > div,\n",
              ".xr-header > ul {\n",
              "  display: inline;\n",
              "  margin-top: 0;\n",
              "  margin-bottom: 0;\n",
              "}\n",
              "\n",
              ".xr-obj-type,\n",
              ".xr-array-name {\n",
              "  margin-left: 2px;\n",
              "  margin-right: 10px;\n",
              "}\n",
              "\n",
              ".xr-obj-type {\n",
              "  color: var(--xr-font-color2);\n",
              "}\n",
              "\n",
              ".xr-sections {\n",
              "  padding-left: 0 !important;\n",
              "  display: grid;\n",
              "  grid-template-columns: 150px auto auto 1fr 20px 20px;\n",
              "}\n",
              "\n",
              ".xr-section-item {\n",
              "  display: contents;\n",
              "}\n",
              "\n",
              ".xr-section-item input {\n",
              "  display: none;\n",
              "}\n",
              "\n",
              ".xr-section-item input + label {\n",
              "  color: var(--xr-disabled-color);\n",
              "}\n",
              "\n",
              ".xr-section-item input:enabled + label {\n",
              "  cursor: pointer;\n",
              "  color: var(--xr-font-color2);\n",
              "}\n",
              "\n",
              ".xr-section-item input:enabled + label:hover {\n",
              "  color: var(--xr-font-color0);\n",
              "}\n",
              "\n",
              ".xr-section-summary {\n",
              "  grid-column: 1;\n",
              "  color: var(--xr-font-color2);\n",
              "  font-weight: 500;\n",
              "}\n",
              "\n",
              ".xr-section-summary > span {\n",
              "  display: inline-block;\n",
              "  padding-left: 0.5em;\n",
              "}\n",
              "\n",
              ".xr-section-summary-in:disabled + label {\n",
              "  color: var(--xr-font-color2);\n",
              "}\n",
              "\n",
              ".xr-section-summary-in + label:before {\n",
              "  display: inline-block;\n",
              "  content: '►';\n",
              "  font-size: 11px;\n",
              "  width: 15px;\n",
              "  text-align: center;\n",
              "}\n",
              "\n",
              ".xr-section-summary-in:disabled + label:before {\n",
              "  color: var(--xr-disabled-color);\n",
              "}\n",
              "\n",
              ".xr-section-summary-in:checked + label:before {\n",
              "  content: '▼';\n",
              "}\n",
              "\n",
              ".xr-section-summary-in:checked + label > span {\n",
              "  display: none;\n",
              "}\n",
              "\n",
              ".xr-section-summary,\n",
              ".xr-section-inline-details {\n",
              "  padding-top: 4px;\n",
              "  padding-bottom: 4px;\n",
              "}\n",
              "\n",
              ".xr-section-inline-details {\n",
              "  grid-column: 2 / -1;\n",
              "}\n",
              "\n",
              ".xr-section-details {\n",
              "  display: none;\n",
              "  grid-column: 1 / -1;\n",
              "  margin-bottom: 5px;\n",
              "}\n",
              "\n",
              ".xr-section-summary-in:checked ~ .xr-section-details {\n",
              "  display: contents;\n",
              "}\n",
              "\n",
              ".xr-array-wrap {\n",
              "  grid-column: 1 / -1;\n",
              "  display: grid;\n",
              "  grid-template-columns: 20px auto;\n",
              "}\n",
              "\n",
              ".xr-array-wrap > label {\n",
              "  grid-column: 1;\n",
              "  vertical-align: top;\n",
              "}\n",
              "\n",
              ".xr-preview {\n",
              "  color: var(--xr-font-color3);\n",
              "}\n",
              "\n",
              ".xr-array-preview,\n",
              ".xr-array-data {\n",
              "  padding: 0 5px !important;\n",
              "  grid-column: 2;\n",
              "}\n",
              "\n",
              ".xr-array-data,\n",
              ".xr-array-in:checked ~ .xr-array-preview {\n",
              "  display: none;\n",
              "}\n",
              "\n",
              ".xr-array-in:checked ~ .xr-array-data,\n",
              ".xr-array-preview {\n",
              "  display: inline-block;\n",
              "}\n",
              "\n",
              ".xr-dim-list {\n",
              "  display: inline-block !important;\n",
              "  list-style: none;\n",
              "  padding: 0 !important;\n",
              "  margin: 0;\n",
              "}\n",
              "\n",
              ".xr-dim-list li {\n",
              "  display: inline-block;\n",
              "  padding: 0;\n",
              "  margin: 0;\n",
              "}\n",
              "\n",
              ".xr-dim-list:before {\n",
              "  content: '(';\n",
              "}\n",
              "\n",
              ".xr-dim-list:after {\n",
              "  content: ')';\n",
              "}\n",
              "\n",
              ".xr-dim-list li:not(:last-child):after {\n",
              "  content: ',';\n",
              "  padding-right: 5px;\n",
              "}\n",
              "\n",
              ".xr-has-index {\n",
              "  font-weight: bold;\n",
              "}\n",
              "\n",
              ".xr-var-list,\n",
              ".xr-var-item {\n",
              "  display: contents;\n",
              "}\n",
              "\n",
              ".xr-var-item > div,\n",
              ".xr-var-item label,\n",
              ".xr-var-item > .xr-var-name span {\n",
              "  background-color: var(--xr-background-color-row-even);\n",
              "  margin-bottom: 0;\n",
              "}\n",
              "\n",
              ".xr-var-item > .xr-var-name:hover span {\n",
              "  padding-right: 5px;\n",
              "}\n",
              "\n",
              ".xr-var-list > li:nth-child(odd) > div,\n",
              ".xr-var-list > li:nth-child(odd) > label,\n",
              ".xr-var-list > li:nth-child(odd) > .xr-var-name span {\n",
              "  background-color: var(--xr-background-color-row-odd);\n",
              "}\n",
              "\n",
              ".xr-var-name {\n",
              "  grid-column: 1;\n",
              "}\n",
              "\n",
              ".xr-var-dims {\n",
              "  grid-column: 2;\n",
              "}\n",
              "\n",
              ".xr-var-dtype {\n",
              "  grid-column: 3;\n",
              "  text-align: right;\n",
              "  color: var(--xr-font-color2);\n",
              "}\n",
              "\n",
              ".xr-var-preview {\n",
              "  grid-column: 4;\n",
              "}\n",
              "\n",
              ".xr-var-name,\n",
              ".xr-var-dims,\n",
              ".xr-var-dtype,\n",
              ".xr-preview,\n",
              ".xr-attrs dt {\n",
              "  white-space: nowrap;\n",
              "  overflow: hidden;\n",
              "  text-overflow: ellipsis;\n",
              "  padding-right: 10px;\n",
              "}\n",
              "\n",
              ".xr-var-name:hover,\n",
              ".xr-var-dims:hover,\n",
              ".xr-var-dtype:hover,\n",
              ".xr-attrs dt:hover {\n",
              "  overflow: visible;\n",
              "  width: auto;\n",
              "  z-index: 1;\n",
              "}\n",
              "\n",
              ".xr-var-attrs,\n",
              ".xr-var-data {\n",
              "  display: none;\n",
              "  background-color: var(--xr-background-color) !important;\n",
              "  padding-bottom: 5px !important;\n",
              "}\n",
              "\n",
              ".xr-var-attrs-in:checked ~ .xr-var-attrs,\n",
              ".xr-var-data-in:checked ~ .xr-var-data {\n",
              "  display: block;\n",
              "}\n",
              "\n",
              ".xr-var-data > table {\n",
              "  float: right;\n",
              "}\n",
              "\n",
              ".xr-var-name span,\n",
              ".xr-var-data,\n",
              ".xr-attrs {\n",
              "  padding-left: 25px !important;\n",
              "}\n",
              "\n",
              ".xr-attrs,\n",
              ".xr-var-attrs,\n",
              ".xr-var-data {\n",
              "  grid-column: 1 / -1;\n",
              "}\n",
              "\n",
              "dl.xr-attrs {\n",
              "  padding: 0;\n",
              "  margin: 0;\n",
              "  display: grid;\n",
              "  grid-template-columns: 125px auto;\n",
              "}\n",
              "\n",
              ".xr-attrs dt, dd {\n",
              "  padding: 0;\n",
              "  margin: 0;\n",
              "  float: left;\n",
              "  padding-right: 10px;\n",
              "  width: auto;\n",
              "}\n",
              "\n",
              ".xr-attrs dt {\n",
              "  font-weight: normal;\n",
              "  grid-column: 1;\n",
              "}\n",
              "\n",
              ".xr-attrs dt:hover span {\n",
              "  display: inline-block;\n",
              "  background: var(--xr-background-color);\n",
              "  padding-right: 10px;\n",
              "}\n",
              "\n",
              ".xr-attrs dd {\n",
              "  grid-column: 2;\n",
              "  white-space: pre-wrap;\n",
              "  word-break: break-all;\n",
              "}\n",
              "\n",
              ".xr-icon-database,\n",
              ".xr-icon-file-text2 {\n",
              "  display: inline-block;\n",
              "  vertical-align: middle;\n",
              "  width: 1em;\n",
              "  height: 1.5em !important;\n",
              "  stroke-width: 0;\n",
              "  stroke: currentColor;\n",
              "  fill: currentColor;\n",
              "}\n",
              "</style><div class='xr-wrap'><div class='xr-header'><div class='xr-obj-type'>xarray.Dataset</div></div><ul class='xr-sections'><li class='xr-section-item'><input id='section-946b6c19-1c94-4e57-a1d5-a7c32cf45816' class='xr-section-summary-in' type='checkbox' disabled ><label for='section-946b6c19-1c94-4e57-a1d5-a7c32cf45816' class='xr-section-summary'  title='Expand/collapse section'>Dimensions:</label><div class='xr-section-inline-details'><ul class='xr-dim-list'><li><span class='xr-has-index'>lat</span>: 240</li><li><span class='xr-has-index'>lon</span>: 2040</li><li><span class='xr-has-index'>time</span>: 105</li></ul></div><div class='xr-section-details'></div></li><li class='xr-section-item'><input id='section-dc9e3c46-4510-4026-8c43-d3dc377461ec' class='xr-section-summary-in' type='checkbox'  checked><label for='section-dc9e3c46-4510-4026-8c43-d3dc377461ec' class='xr-section-summary' >Coordinates: <span>(3)</span></label><div class='xr-section-inline-details'></div><div class='xr-section-details'><ul class='xr-var-list'><li class='xr-var-item'><div class='xr-var-name'><span class='xr-has-index'>time</span></div><div class='xr-var-dims'>(time)</div><div class='xr-var-dtype'>datetime64[ns]</div><div class='xr-var-preview xr-preview'>1997-09-04 ... 1997-12-31</div><input id='attrs-26cbc0c8-e649-497d-aca4-209581343774' class='xr-var-attrs-in' type='checkbox' ><label for='attrs-26cbc0c8-e649-497d-aca4-209581343774' title='Show/Hide attributes'><svg class='icon xr-icon-file-text2'><use xlink:href='#icon-file-text2'></use></svg></label><input id='data-f7eae780-9e59-425f-ae86-bd90faed4159' class='xr-var-data-in' type='checkbox'><label for='data-f7eae780-9e59-425f-ae86-bd90faed4159' title='Show/Hide data repr'><svg class='icon xr-icon-database'><use xlink:href='#icon-database'></use></svg></label><div class='xr-var-attrs'><dl class='xr-attrs'><dt><span>standard_name :</span></dt><dd>time</dd><dt><span>long_name :</span></dt><dd>time</dd><dt><span>axis :</span></dt><dd>T</dd><dt><span>_ChunkSizes :</span></dt><dd>512</dd></dl></div><pre class='xr-var-data'>array([&#x27;1997-09-04T00:00:00.000000000&#x27;, &#x27;1997-09-06T00:00:00.000000000&#x27;,\n",
              "       &#x27;1997-09-09T00:00:00.000000000&#x27;, &#x27;1997-09-10T00:00:00.000000000&#x27;,\n",
              "       &#x27;1997-09-15T00:00:00.000000000&#x27;, &#x27;1997-09-16T00:00:00.000000000&#x27;,\n",
              "       &#x27;1997-09-18T00:00:00.000000000&#x27;, &#x27;1997-09-19T00:00:00.000000000&#x27;,\n",
              "       &#x27;1997-09-20T00:00:00.000000000&#x27;, &#x27;1997-09-21T00:00:00.000000000&#x27;,\n",
              "       &#x27;1997-09-22T00:00:00.000000000&#x27;, &#x27;1997-09-23T00:00:00.000000000&#x27;,\n",
              "       &#x27;1997-09-24T00:00:00.000000000&#x27;, &#x27;1997-09-25T00:00:00.000000000&#x27;,\n",
              "       &#x27;1997-09-26T00:00:00.000000000&#x27;, &#x27;1997-09-27T00:00:00.000000000&#x27;,\n",
              "       &#x27;1997-09-28T00:00:00.000000000&#x27;, &#x27;1997-09-29T00:00:00.000000000&#x27;,\n",
              "       &#x27;1997-09-30T00:00:00.000000000&#x27;, &#x27;1997-10-01T00:00:00.000000000&#x27;,\n",
              "       &#x27;1997-10-02T00:00:00.000000000&#x27;, &#x27;1997-10-03T00:00:00.000000000&#x27;,\n",
              "       &#x27;1997-10-04T00:00:00.000000000&#x27;, &#x27;1997-10-05T00:00:00.000000000&#x27;,\n",
              "       &#x27;1997-10-06T00:00:00.000000000&#x27;, &#x27;1997-10-07T00:00:00.000000000&#x27;,\n",
              "       &#x27;1997-10-08T00:00:00.000000000&#x27;, &#x27;1997-10-09T00:00:00.000000000&#x27;,\n",
              "       &#x27;1997-10-10T00:00:00.000000000&#x27;, &#x27;1997-10-11T00:00:00.000000000&#x27;,\n",
              "       &#x27;1997-10-12T00:00:00.000000000&#x27;, &#x27;1997-10-13T00:00:00.000000000&#x27;,\n",
              "       &#x27;1997-10-19T00:00:00.000000000&#x27;, &#x27;1997-10-20T00:00:00.000000000&#x27;,\n",
              "       &#x27;1997-10-21T00:00:00.000000000&#x27;, &#x27;1997-10-22T00:00:00.000000000&#x27;,\n",
              "       &#x27;1997-10-23T00:00:00.000000000&#x27;, &#x27;1997-10-24T00:00:00.000000000&#x27;,\n",
              "       &#x27;1997-10-25T00:00:00.000000000&#x27;, &#x27;1997-10-26T00:00:00.000000000&#x27;,\n",
              "       &#x27;1997-10-27T00:00:00.000000000&#x27;, &#x27;1997-10-28T00:00:00.000000000&#x27;,\n",
              "       &#x27;1997-10-29T00:00:00.000000000&#x27;, &#x27;1997-10-30T00:00:00.000000000&#x27;,\n",
              "       &#x27;1997-10-31T00:00:00.000000000&#x27;, &#x27;1997-11-01T00:00:00.000000000&#x27;,\n",
              "       &#x27;1997-11-02T00:00:00.000000000&#x27;, &#x27;1997-11-03T00:00:00.000000000&#x27;,\n",
              "       &#x27;1997-11-04T00:00:00.000000000&#x27;, &#x27;1997-11-05T00:00:00.000000000&#x27;,\n",
              "       &#x27;1997-11-06T00:00:00.000000000&#x27;, &#x27;1997-11-07T00:00:00.000000000&#x27;,\n",
              "       &#x27;1997-11-08T00:00:00.000000000&#x27;, &#x27;1997-11-09T00:00:00.000000000&#x27;,\n",
              "       &#x27;1997-11-10T00:00:00.000000000&#x27;, &#x27;1997-11-11T00:00:00.000000000&#x27;,\n",
              "       &#x27;1997-11-12T00:00:00.000000000&#x27;, &#x27;1997-11-13T00:00:00.000000000&#x27;,\n",
              "       &#x27;1997-11-14T00:00:00.000000000&#x27;, &#x27;1997-11-15T00:00:00.000000000&#x27;,\n",
              "       &#x27;1997-11-16T00:00:00.000000000&#x27;, &#x27;1997-11-17T00:00:00.000000000&#x27;,\n",
              "       &#x27;1997-11-18T00:00:00.000000000&#x27;, &#x27;1997-11-19T00:00:00.000000000&#x27;,\n",
              "       &#x27;1997-11-20T00:00:00.000000000&#x27;, &#x27;1997-11-21T00:00:00.000000000&#x27;,\n",
              "       &#x27;1997-11-22T00:00:00.000000000&#x27;, &#x27;1997-11-23T00:00:00.000000000&#x27;,\n",
              "       &#x27;1997-11-24T00:00:00.000000000&#x27;, &#x27;1997-11-25T00:00:00.000000000&#x27;,\n",
              "       &#x27;1997-11-26T00:00:00.000000000&#x27;, &#x27;1997-11-27T00:00:00.000000000&#x27;,\n",
              "       &#x27;1997-11-28T00:00:00.000000000&#x27;, &#x27;1997-11-29T00:00:00.000000000&#x27;,\n",
              "       &#x27;1997-11-30T00:00:00.000000000&#x27;, &#x27;1997-12-01T00:00:00.000000000&#x27;,\n",
              "       &#x27;1997-12-02T00:00:00.000000000&#x27;, &#x27;1997-12-03T00:00:00.000000000&#x27;,\n",
              "       &#x27;1997-12-04T00:00:00.000000000&#x27;, &#x27;1997-12-05T00:00:00.000000000&#x27;,\n",
              "       &#x27;1997-12-06T00:00:00.000000000&#x27;, &#x27;1997-12-07T00:00:00.000000000&#x27;,\n",
              "       &#x27;1997-12-08T00:00:00.000000000&#x27;, &#x27;1997-12-09T00:00:00.000000000&#x27;,\n",
              "       &#x27;1997-12-10T00:00:00.000000000&#x27;, &#x27;1997-12-11T00:00:00.000000000&#x27;,\n",
              "       &#x27;1997-12-12T00:00:00.000000000&#x27;, &#x27;1997-12-13T00:00:00.000000000&#x27;,\n",
              "       &#x27;1997-12-14T00:00:00.000000000&#x27;, &#x27;1997-12-16T00:00:00.000000000&#x27;,\n",
              "       &#x27;1997-12-17T00:00:00.000000000&#x27;, &#x27;1997-12-18T00:00:00.000000000&#x27;,\n",
              "       &#x27;1997-12-19T00:00:00.000000000&#x27;, &#x27;1997-12-20T00:00:00.000000000&#x27;,\n",
              "       &#x27;1997-12-21T00:00:00.000000000&#x27;, &#x27;1997-12-22T00:00:00.000000000&#x27;,\n",
              "       &#x27;1997-12-23T00:00:00.000000000&#x27;, &#x27;1997-12-24T00:00:00.000000000&#x27;,\n",
              "       &#x27;1997-12-25T00:00:00.000000000&#x27;, &#x27;1997-12-26T00:00:00.000000000&#x27;,\n",
              "       &#x27;1997-12-27T00:00:00.000000000&#x27;, &#x27;1997-12-28T00:00:00.000000000&#x27;,\n",
              "       &#x27;1997-12-29T00:00:00.000000000&#x27;, &#x27;1997-12-30T00:00:00.000000000&#x27;,\n",
              "       &#x27;1997-12-31T00:00:00.000000000&#x27;], dtype=&#x27;datetime64[ns]&#x27;)</pre></li><li class='xr-var-item'><div class='xr-var-name'><span class='xr-has-index'>lon</span></div><div class='xr-var-dims'>(lon)</div><div class='xr-var-dtype'>float32</div><div class='xr-var-preview xr-preview'>120.041664 120.12501 ... 289.95834</div><input id='attrs-aad073e2-c37b-430f-8ea8-611430c60c61' class='xr-var-attrs-in' type='checkbox' ><label for='attrs-aad073e2-c37b-430f-8ea8-611430c60c61' title='Show/Hide attributes'><svg class='icon xr-icon-file-text2'><use xlink:href='#icon-file-text2'></use></svg></label><input id='data-cd5c5661-95d6-4099-9932-40afed90fef9' class='xr-var-data-in' type='checkbox'><label for='data-cd5c5661-95d6-4099-9932-40afed90fef9' title='Show/Hide data repr'><svg class='icon xr-icon-database'><use xlink:href='#icon-database'></use></svg></label><div class='xr-var-attrs'><dl class='xr-attrs'><dt><span>standard_name :</span></dt><dd>longitude</dd><dt><span>long_name :</span></dt><dd>longitude</dd><dt><span>units :</span></dt><dd>degrees_east</dd><dt><span>axis :</span></dt><dd>X</dd><dt><span>_ChunkSizes :</span></dt><dd>2040</dd></dl></div><pre class='xr-var-data'>array([120.041664, 120.12501 , 120.20835 , ..., 289.79166 , 289.875   ,\n",
              "       289.95834 ], dtype=float32)</pre></li><li class='xr-var-item'><div class='xr-var-name'><span class='xr-has-index'>lat</span></div><div class='xr-var-dims'>(lat)</div><div class='xr-var-dtype'>float32</div><div class='xr-var-preview xr-preview'>9.958333 9.874997 ... -9.958339</div><input id='attrs-b0deffcb-b375-4b12-aa01-947ed5198cea' class='xr-var-attrs-in' type='checkbox' ><label for='attrs-b0deffcb-b375-4b12-aa01-947ed5198cea' title='Show/Hide attributes'><svg class='icon xr-icon-file-text2'><use xlink:href='#icon-file-text2'></use></svg></label><input id='data-cb041f0d-014a-406c-8a90-116caf88e8d1' class='xr-var-data-in' type='checkbox'><label for='data-cb041f0d-014a-406c-8a90-116caf88e8d1' title='Show/Hide data repr'><svg class='icon xr-icon-database'><use xlink:href='#icon-database'></use></svg></label><div class='xr-var-attrs'><dl class='xr-attrs'><dt><span>standard_name :</span></dt><dd>latitude</dd><dt><span>long_name :</span></dt><dd>Latitude</dd><dt><span>units :</span></dt><dd>degrees_north</dd><dt><span>axis :</span></dt><dd>Y</dd><dt><span>_ChunkSizes :</span></dt><dd>240</dd></dl></div><pre class='xr-var-data'>array([ 9.958333,  9.874997,  9.791661, ..., -9.791667, -9.875003, -9.958339],\n",
              "      dtype=float32)</pre></li></ul></div></li><li class='xr-section-item'><input id='section-61a97a13-ef6f-4602-a2bf-1f8ccdf3e0af' class='xr-section-summary-in' type='checkbox'  checked><label for='section-61a97a13-ef6f-4602-a2bf-1f8ccdf3e0af' class='xr-section-summary' >Data variables: <span>(1)</span></label><div class='xr-section-inline-details'></div><div class='xr-section-details'><ul class='xr-var-list'><li class='xr-var-item'><div class='xr-var-name'><span>chl_tpca</span></div><div class='xr-var-dims'>(time, lat, lon)</div><div class='xr-var-dtype'>float32</div><div class='xr-var-preview xr-preview'>...</div><input id='attrs-14369f4d-b6d7-46c2-beff-7bebbd1d238d' class='xr-var-attrs-in' type='checkbox' ><label for='attrs-14369f4d-b6d7-46c2-beff-7bebbd1d238d' title='Show/Hide attributes'><svg class='icon xr-icon-file-text2'><use xlink:href='#icon-file-text2'></use></svg></label><input id='data-b9e24863-ebe8-4642-ae84-1aea22424685' class='xr-var-data-in' type='checkbox'><label for='data-b9e24863-ebe8-4642-ae84-1aea22424685' title='Show/Hide data repr'><svg class='icon xr-icon-database'><use xlink:href='#icon-database'></use></svg></label><div class='xr-var-attrs'><dl class='xr-attrs'><dt><span>standard_name :</span></dt><dd>mass_concentration_of_chlorophyll_a_in_sea_water</dd><dt><span>long_name :</span></dt><dd>mass_concentration_of_chlorophyll_a_in_sea_water</dd><dt><span>units :</span></dt><dd>mg m-3</dd><dt><span>_ChunkSizes :</span></dt><dd>[   1  240 2040]</dd></dl></div><pre class='xr-var-data'>[51408000 values with dtype=float32]</pre></li></ul></div></li><li class='xr-section-item'><input id='section-3d5e66b7-66b5-4463-8263-a9883b2c7fb3' class='xr-section-summary-in' type='checkbox'  ><label for='section-3d5e66b7-66b5-4463-8263-a9883b2c7fb3' class='xr-section-summary' >Attributes: <span>(26)</span></label><div class='xr-section-inline-details'></div><div class='xr-section-details'><dl class='xr-attrs'><dt><span>history :</span></dt><dd>TPCA applied to http://oceandata.sci.gsfc.nasa.gov</dd><dt><span>institution :</span></dt><dd>University of Tasmania - IMAS</dd><dt><span>Conventions :</span></dt><dd>CF-1.7, ACDD-1.3</dd><dt><span>creator_name :</span></dt><dd>Nicholas Pittman</dd><dt><span>creator_email :</span></dt><dd>Nic.Pittman@utas.edu.au</dd><dt><span>title :</span></dt><dd>Tropical Pacific Chlorophyll Algorithm (TPCA): Reprocessing v2019_01</dd><dt><span>summary :</span></dt><dd>TPCA SeaWiFS Level-3 Standard Mapped Image - Tropical Pacific</dd><dt><span>license :</span></dt><dd>http://creativecommons.org/licenses/by-nc-sa/4.0/</dd><dt><span>product_version :</span></dt><dd>2019_01</dd><dt><span>contact :</span></dt><dd>nic.pittman@utas.edu.au</dd><dt><span>organisation :</span></dt><dd>ARC Centre of Excellence for Climate Extremes</dd><dt><span>keywords :</span></dt><dd>ocean color, Chlorophyll Algorithm, 040501 Biological Oceanography, SeaWiFS, MODIS-Aqua, Equatorial Pacific</dd><dt><span>publisher_name :</span></dt><dd>CLEx data manager</dd><dt><span>publisher_email :</span></dt><dd>paola.petrelli@utas.edu.au</dd><dt><span>time_coverage_start :</span></dt><dd>1997-08-01</dd><dt><span>time_coverage_end :</span></dt><dd>2019-07-27</dd><dt><span>geospatial_lat_min :</span></dt><dd>-10.0</dd><dt><span>geospatial_lat_max :</span></dt><dd>10.0</dd><dt><span>CDO :</span></dt><dd>Climate Data Operators version 1.9.5 (http://mpimet.mpg.de/cdo)</dd><dt><span>id :</span></dt><dd>http://dx.doi.org/10.25914/5dccbd3b64bdc</dd><dt><span>references :</span></dt><dd>Pittman, Nic, 2019: Tropical Pacific Chlorophyll Algorithm (TPCA): Reprocessing v2019_01 . NCI National Research Data Collection , doi:10.25914/5dccbd3b64bdc</dd><dt><span>geospatial_lon_min :</span></dt><dd>150.0</dd><dt><span>geospatial_lon_max :</span></dt><dd>-90.0</dd><dt><span>source :</span></dt><dd>TPCA algorithm: https://github.com/nicpittman/TPCA_source_and_matchups, data: SeaWiFS chlorophyll a data from https://oceandata.sci.gsfc.nasa.gov/SeaWiFS/Mapped/Daily/9km, rrs: 443,490,510,555,670</dd><dt><span>date_created :</span></dt><dd>2019-08-01</dd><dt><span>DODS_EXTRA.Unlimited_Dimension :</span></dt><dd>time</dd></dl></div></li></ul></div></div>"
            ],
            "text/plain": [
              "<xarray.Dataset>\n",
              "Dimensions:   (lat: 240, lon: 2040, time: 105)\n",
              "Coordinates:\n",
              "  * time      (time) datetime64[ns] 1997-09-04 1997-09-06 ... 1997-12-31\n",
              "  * lon       (lon) float32 120.041664 120.12501 120.20835 ... 289.875 289.95834\n",
              "  * lat       (lat) float32 9.958333 9.874997 9.791661 ... -9.875003 -9.958339\n",
              "Data variables:\n",
              "    chl_tpca  (time, lat, lon) float32 ...\n",
              "Attributes:\n",
              "    history:                         TPCA applied to http://oceandata.sci.gsf...\n",
              "    institution:                     University of Tasmania - IMAS\n",
              "    Conventions:                     CF-1.7, ACDD-1.3\n",
              "    creator_name:                    Nicholas Pittman\n",
              "    creator_email:                   Nic.Pittman@utas.edu.au\n",
              "    title:                           Tropical Pacific Chlorophyll Algorithm (...\n",
              "    summary:                         TPCA SeaWiFS Level-3 Standard Mapped Ima...\n",
              "    license:                         http://creativecommons.org/licenses/by-n...\n",
              "    product_version:                 2019_01\n",
              "    contact:                         nic.pittman@utas.edu.au\n",
              "    organisation:                    ARC Centre of Excellence for Climate Ext...\n",
              "    keywords:                        ocean color, Chlorophyll Algorithm, 0405...\n",
              "    publisher_name:                  CLEx data manager\n",
              "    publisher_email:                 paola.petrelli@utas.edu.au\n",
              "    time_coverage_start:             1997-08-01\n",
              "    time_coverage_end:               2019-07-27\n",
              "    geospatial_lat_min:              -10.0\n",
              "    geospatial_lat_max:              10.0\n",
              "    CDO:                             Climate Data Operators version 1.9.5 (ht...\n",
              "    id:                              http://dx.doi.org/10.25914/5dccbd3b64bdc\n",
              "    references:                      Pittman, Nic, 2019: Tropical Pacific Chl...\n",
              "    geospatial_lon_min:              150.0\n",
              "    geospatial_lon_max:              -90.0\n",
              "    source:                          TPCA algorithm: https://github.com/nicpi...\n",
              "    date_created:                    2019-08-01\n",
              "    DODS_EXTRA.Unlimited_Dimension:  time"
            ]
          },
          "metadata": {
            "tags": []
          },
          "execution_count": 43
        }
      ]
    },
    {
      "cell_type": "markdown",
      "metadata": {
        "id": "srnYHTmJHUmp"
      },
      "source": [
        "## Part 7: Matplotlib and Advanced plotting\n",
        "Lots of good resources. I will provide a quick summary, but encourage you to watch these two videos from CLEX\n",
        "\n",
        "\n",
        "Intro: https://www.youtube.com/watch?v=5MoSx4GftK\n",
        "Advanced: https://www.youtube.com/watch?v=O3F2xrFHgKw "
      ]
    },
    {
      "cell_type": "code",
      "metadata": {
        "id": "y16IT6lXwEyi"
      },
      "source": [
        ""
      ],
      "execution_count": null,
      "outputs": []
    },
    {
      "cell_type": "markdown",
      "metadata": {
        "id": "HkzgQs5CPMfS"
      },
      "source": [
        "## Part 8: Seaborn statistical plotting"
      ]
    },
    {
      "cell_type": "code",
      "metadata": {
        "id": "FTKji5qdrZ-3"
      },
      "source": [
        ""
      ],
      "execution_count": null,
      "outputs": []
    },
    {
      "cell_type": "markdown",
      "metadata": {
        "id": "I1OKYjpzrRm0"
      },
      "source": [
        "## Part 9: Functions specifically for plotting subplots"
      ]
    },
    {
      "cell_type": "code",
      "metadata": {
        "id": "lbPhK8k1rR3z"
      },
      "source": [
        ""
      ],
      "execution_count": null,
      "outputs": []
    },
    {
      "cell_type": "markdown",
      "metadata": {
        "id": "OraZLbwkXO7x"
      },
      "source": [
        "### Part 10: Defensive programming\n",
        "Overview of testing your code and handling errors"
      ]
    },
    {
      "cell_type": "code",
      "metadata": {
        "id": "QdFTvNPFHUKw"
      },
      "source": [
        "try:\n",
        "  thisisgointofail \n",
        "except:a\n",
        "  print('This will occur because the other one did fail')  "
      ],
      "execution_count": null,
      "outputs": []
    },
    {
      "cell_type": "code",
      "metadata": {
        "id": "ji0A9C1sXtS3"
      },
      "source": [
        "assert 1==1\n",
        "assert 1==2 #But one does not equal two"
      ],
      "execution_count": null,
      "outputs": []
    },
    {
      "cell_type": "code",
      "metadata": {
        "id": "EjiycsUKXuyA"
      },
      "source": [
        ""
      ],
      "execution_count": null,
      "outputs": []
    }
  ]
}