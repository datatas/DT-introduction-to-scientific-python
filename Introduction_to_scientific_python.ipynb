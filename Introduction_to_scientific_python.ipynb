{
  "nbformat": 4,
  "nbformat_minor": 0,
  "metadata": {
    "colab": {
      "name": "Introduction_to_scientific_python.ipynb",
      "provenance": [],
      "collapsed_sections": [],
      "authorship_tag": "ABX9TyOca9ugmEF2WvndPDCCGLKC",
      "include_colab_link": true
    },
    "kernelspec": {
      "name": "python3",
      "display_name": "Python 3"
    },
    "language_info": {
      "name": "python"
    }
  },
  "cells": [
    {
      "cell_type": "markdown",
      "metadata": {
        "id": "view-in-github",
        "colab_type": "text"
      },
      "source": [
        "<a href=\"https://colab.research.google.com/github/nicpittman/DT-introduction-to-scientific-python/blob/main/Introduction_to_scientific_python.ipynb\" target=\"_parent\"><img src=\"https://colab.research.google.com/assets/colab-badge.svg\" alt=\"Open In Colab\"/></a>"
      ]
    },
    {
      "cell_type": "markdown",
      "metadata": {
        "id": "rMNQKt5xAZH1"
      },
      "source": [
        "## Introduction to Scientific Programming in Python\n",
        "#### Presented by Nic Pittman, 08/04/2021\n"
      ]
    },
    {
      "cell_type": "markdown",
      "metadata": {
        "id": "YK7h2Y6nAsVU"
      },
      "source": [
        "### Key lessons for today\n",
        "- Scientific Python packages and dependencies\n",
        "- Getting started on google colab rather than using Anaconda or Miniconda locally\n",
        "- Basic data structures\n",
        "- Introduction to Numpy\n",
        "- Introduction to Matplotlib\n",
        "- Introduction to Pandas\n",
        "- Introduction to Xarray\n",
        "- Intermediate and advanced data processing"
      ]
    },
    {
      "cell_type": "markdown",
      "metadata": {
        "id": "BTMk2M4JAUs6"
      },
      "source": [
        "# Part 1: Scientific Python Packages and Dependencies\n",
        "\n",
        "Python is open source software, that has the core libaries, and then many additional libraries available to use.\n",
        "\n",
        "We will be using Python version 3.7. It is recommended not to use version 2.x as it is depreciated.\n",
        "\n",
        "The libraries we will focus on today for scientific analysis are as below. \n",
        "\n",
        "We can use them using their conventional short names. Later, we will be able to call functions within numpy, for example, np.array()\n",
        "\n",
        "Convention says we put these imports at the top of our document"
      ]
    },
    {
      "cell_type": "code",
      "metadata": {
        "id": "3h7AxyPlm_5I"
      },
      "source": [
        "\n",
        "\n",
        "#https://numpy.org/\n",
        "import numpy as np                  #Numpy is a useful scientific package for large datasets. It is different to the core python array system.\n",
        "\n",
        "#https://pandas.pydata.org/\n",
        "import pandas as pd                 #Pandas is built on top of numpy, but uses labels, much like a table in excel. This can make it easier to access certain attributes,\n",
        "                                    #rather than remembering which dimension they are on.\n",
        "\n",
        "\n",
        "#http://xarray.pydata.org/en/stable/                                \n",
        "import xarray as xr                 #Xarray is a combination of numpy and pandas, but for n-dimensional data. It uses computational efficiencies and can load very large datasets.\n",
        "\n",
        "#https://matplotlib.org/\n",
        "import matplotlib.pyplot as plt     #Matplotlib is how we will be plotting all of our data. \n",
        "         "
      ],
      "execution_count": null,
      "outputs": []
    },
    {
      "cell_type": "markdown",
      "metadata": {
        "id": "d_mShdQmFkHr"
      },
      "source": [
        "## Part 2: Getting started on Conda\n",
        "\n",
        "I am not going to go into lots of detail about Anaconda.\n",
        "Basically, its similar to what you are running here (Google colab has something similar set up).\n",
        "You can have different environments and install different packages.\n",
        "\n",
        "Look at https://docs.anaconda.com/anaconda/install/\n",
        "Miniconda is a liteweight alternative\n",
        "\n",
        "Pangeo is a set of open source library of packages for reproducible research https://pangeo.io/"
      ]
    },
    {
      "cell_type": "markdown",
      "metadata": {
        "id": "R_WehFiR-IW6"
      },
      "source": [
        "## Part 3: Basic python data structures"
      ]
    },
    {
      "cell_type": "code",
      "metadata": {
        "id": "VXBqHj4jLQma"
      },
      "source": [
        "#First of all, you can check the help of any thing in namespace (what python can see) in iPython (interactive python used by Jupyter) by using\n",
        "?str"
      ],
      "execution_count": 84,
      "outputs": []
    },
    {
      "cell_type": "code",
      "metadata": {
        "colab": {
          "base_uri": "https://localhost:8080/"
        },
        "id": "NQH-W5LLEk5D",
        "outputId": "93e49283-7bfc-41a0-92c2-7e5938e3e642"
      },
      "source": [
        "#You do not need to define types explicitely in python as it will do it automagically, but it can sometimes help:\n",
        "print(3+1)\n",
        "print('Three'+'One')"
      ],
      "execution_count": 43,
      "outputs": [
        {
          "output_type": "stream",
          "text": [
            "4\n",
            "ThreeOne\n"
          ],
          "name": "stdout"
        }
      ]
    },
    {
      "cell_type": "code",
      "metadata": {
        "colab": {
          "base_uri": "https://localhost:8080/",
          "height": 189
        },
        "id": "m2U3jiHiE7pw",
        "outputId": "9d88af4b-5f1b-4b8a-c5ea-4259dbdccf49"
      },
      "source": [
        "#For example:\n",
        "print('Three'+1) #Oops"
      ],
      "execution_count": 44,
      "outputs": [
        {
          "output_type": "error",
          "ename": "TypeError",
          "evalue": "ignored",
          "traceback": [
            "\u001b[0;31m---------------------------------------------------------------------------\u001b[0m",
            "\u001b[0;31mTypeError\u001b[0m                                 Traceback (most recent call last)",
            "\u001b[0;32m<ipython-input-44-6efce901f1de>\u001b[0m in \u001b[0;36m<module>\u001b[0;34m()\u001b[0m\n\u001b[1;32m      1\u001b[0m \u001b[0;31m#For example:\u001b[0m\u001b[0;34m\u001b[0m\u001b[0;34m\u001b[0m\u001b[0;34m\u001b[0m\u001b[0m\n\u001b[0;32m----> 2\u001b[0;31m \u001b[0mprint\u001b[0m\u001b[0;34m(\u001b[0m\u001b[0;34m'Three'\u001b[0m\u001b[0;34m+\u001b[0m\u001b[0;36m1\u001b[0m\u001b[0;34m)\u001b[0m \u001b[0;31m#Oops\u001b[0m\u001b[0;34m\u001b[0m\u001b[0;34m\u001b[0m\u001b[0m\n\u001b[0m",
            "\u001b[0;31mTypeError\u001b[0m: can only concatenate str (not \"int\") to str"
          ]
        }
      ]
    },
    {
      "cell_type": "code",
      "metadata": {
        "colab": {
          "base_uri": "https://localhost:8080/"
        },
        "id": "yBdeVj8PE_ty",
        "outputId": "8eb66709-c2ea-41de-b718-324949a692a1"
      },
      "source": [
        "#So we need to either define them like:\n",
        "print(int('3')+1)\n",
        "#or\n",
        "print('three'+str(1))"
      ],
      "execution_count": 45,
      "outputs": [
        {
          "output_type": "stream",
          "text": [
            "4\n",
            "three1\n"
          ],
          "name": "stdout"
        }
      ]
    },
    {
      "cell_type": "markdown",
      "metadata": {
        "id": "umrF2660El3w"
      },
      "source": [
        "#### Now lets look at arrays"
      ]
    },
    {
      "cell_type": "code",
      "metadata": {
        "colab": {
          "base_uri": "https://localhost:8080/"
        },
        "id": "y6Gs2TDYDJyl",
        "outputId": "19e9c962-35c3-4e23-99c4-aa3360b816fa"
      },
      "source": [
        "my_array=['Element 1','Element 2'] \n",
        "\n",
        "#We an add new elements to the array like:\n",
        "my_array.append('Element 3')\n",
        "my_array.append('Element 4')\n",
        "print(my_array)"
      ],
      "execution_count": 46,
      "outputs": [
        {
          "output_type": "stream",
          "text": [
            "['Element 1', 'Element 2', 'Element 3', 'Element 4']\n"
          ],
          "name": "stdout"
        }
      ]
    },
    {
      "cell_type": "code",
      "metadata": {
        "colab": {
          "base_uri": "https://localhost:8080/"
        },
        "id": "rGx4yyIdDvhQ",
        "outputId": "3fcc27db-556c-42ec-9a97-0e5f490a7bee"
      },
      "source": [
        "#But remember, Python indexing starts at 0, not 1 like in other languages\n",
        "print(my_array[1])\n",
        "#so we need to do this instead:\n",
        "print(my_array[0])\n"
      ],
      "execution_count": 47,
      "outputs": [
        {
          "output_type": "stream",
          "text": [
            "Element 2\n",
            "Element 1\n"
          ],
          "name": "stdout"
        }
      ]
    },
    {
      "cell_type": "code",
      "metadata": {
        "colab": {
          "base_uri": "https://localhost:8080/"
        },
        "id": "weVEIk0eDH4H",
        "outputId": "fc9a15df-2f30-47d8-8a5d-2ea47206e786"
      },
      "source": [
        "#You can also go backwards\n",
        "print(my_array[-1])\n",
        "\n",
        "#or select a small component\n",
        "print(my_array[1:3])\n",
        "\n",
        "#or even reverse the whole thing\n",
        "print(my_array[::-1])"
      ],
      "execution_count": 48,
      "outputs": [
        {
          "output_type": "stream",
          "text": [
            "Element 4\n",
            "['Element 2', 'Element 3']\n",
            "['Element 4', 'Element 3', 'Element 2', 'Element 1']\n"
          ],
          "name": "stdout"
        }
      ]
    },
    {
      "cell_type": "code",
      "metadata": {
        "colab": {
          "base_uri": "https://localhost:8080/"
        },
        "id": "1y4JYFCZII3k",
        "outputId": "9c008522-1a27-4507-d188-01047df2d40c"
      },
      "source": [
        "#There are also python functions like this (I'm not going to talk about all of them)\n",
        "print(len(my_array)) #Can you work out what this is?\n",
        "#how about\n",
        "print(range(len(my_array)))\n",
        "#This could be useful later. "
      ],
      "execution_count": 69,
      "outputs": [
        {
          "output_type": "stream",
          "text": [
            "4\n",
            "range(0, 4)\n"
          ],
          "name": "stdout"
        }
      ]
    },
    {
      "cell_type": "markdown",
      "metadata": {
        "id": "QlMwgqKaEHYj"
      },
      "source": [
        "####We can make two dimensional arrays like:"
      ]
    },
    {
      "cell_type": "code",
      "metadata": {
        "colab": {
          "base_uri": "https://localhost:8080/"
        },
        "id": "LlK4OhULB8cr",
        "outputId": "b157f466-336c-4640-93be-f2927456a17b"
      },
      "source": [
        "my2d_array=[[1,2,3,4,5,6,7,8,9,10],[100,200,300,400,500,600,700],[1000,2000,3000,4000,5000]]\n",
        "print(my2d_array)\n",
        "#But if I only want the thousand I need to remember:\n",
        "print(my2d_array[2]) \n",
        "#or even\n",
        "print(my2d_array[2][0])"
      ],
      "execution_count": 50,
      "outputs": [
        {
          "output_type": "stream",
          "text": [
            "[[1, 2, 3, 4, 5, 6, 7, 8, 9, 10], [100, 200, 300, 400, 500, 600, 700], [1000, 2000, 3000, 4000, 5000]]\n",
            "[1000, 2000, 3000, 4000, 5000]\n",
            "1000\n"
          ],
          "name": "stdout"
        }
      ]
    },
    {
      "cell_type": "markdown",
      "metadata": {
        "id": "AbuwgMI4ESz5"
      },
      "source": [
        "#### Ok how about something that remembers something else: a dictionary"
      ]
    },
    {
      "cell_type": "code",
      "metadata": {
        "colab": {
          "base_uri": "https://localhost:8080/"
        },
        "id": "r0oiK9FQ-Vrw",
        "outputId": "d01603d0-6fc4-466c-cd74-5aca2c4f87dc"
      },
      "source": [
        "this_is_a_dictionary={'Key':5}\n",
        "print(this_is_a_dictionary)\n",
        "print(this_is_a_dictionary['Key'])"
      ],
      "execution_count": 15,
      "outputs": [
        {
          "output_type": "stream",
          "text": [
            "{'Key': 5}\n",
            "5\n"
          ],
          "name": "stdout"
        }
      ]
    },
    {
      "cell_type": "code",
      "metadata": {
        "colab": {
          "base_uri": "https://localhost:8080/"
        },
        "id": "0Wcw-RYJ-Y-I",
        "outputId": "5e28b1b3-982c-4654-927d-72f34461685b"
      },
      "source": [
        "#You can add extra keys and values like:\n",
        "this_is_a_dictionary['mynewkey'] = 'mynewvalue'\n",
        "print(this_is_a_dictionary)\n",
        "#Very useful for lookups. But there are better tools for the job"
      ],
      "execution_count": 33,
      "outputs": [
        {
          "output_type": "stream",
          "text": [
            "{'Key': 5, 'mynewkey': 'mynewvalue'}\n"
          ],
          "name": "stdout"
        }
      ]
    },
    {
      "cell_type": "markdown",
      "metadata": {
        "id": "p7TQ5bf0G_XP"
      },
      "source": [
        "#### Part 4: Numpy"
      ]
    },
    {
      "cell_type": "code",
      "metadata": {
        "colab": {
          "base_uri": "https://localhost:8080/"
        },
        "id": "G0QJ-ouNEcA3",
        "outputId": "f9be589b-9403-4934-dc15-1cefbf49550a"
      },
      "source": [
        "#Great. We understand basic python syntax and datatypes\n",
        "#How about this\n",
        "my_numpy_array=np.array([1,2,3,4,5])\n",
        "print(my_numpy_array)\n",
        "print(my_numpy_array[0])"
      ],
      "execution_count": 73,
      "outputs": [
        {
          "output_type": "stream",
          "text": [
            "[1 2 3 4 5]\n",
            "1\n"
          ],
          "name": "stdout"
        }
      ]
    },
    {
      "cell_type": "code",
      "metadata": {
        "colab": {
          "base_uri": "https://localhost:8080/",
          "height": 207
        },
        "id": "O4yb9VtpHMMy",
        "outputId": "df210433-d7b5-4c69-ea09-f3cec7e959fa"
      },
      "source": [
        "#Ok so what is different?\n",
        "#First of all you can't do this\n",
        "my_numpy_array.append([6])"
      ],
      "execution_count": 74,
      "outputs": [
        {
          "output_type": "error",
          "ename": "AttributeError",
          "evalue": "ignored",
          "traceback": [
            "\u001b[0;31m---------------------------------------------------------------------------\u001b[0m",
            "\u001b[0;31mAttributeError\u001b[0m                            Traceback (most recent call last)",
            "\u001b[0;32m<ipython-input-74-c46fe87d2766>\u001b[0m in \u001b[0;36m<module>\u001b[0;34m()\u001b[0m\n\u001b[1;32m      1\u001b[0m \u001b[0;31m#Ok so what is different?\u001b[0m\u001b[0;34m\u001b[0m\u001b[0;34m\u001b[0m\u001b[0;34m\u001b[0m\u001b[0m\n\u001b[1;32m      2\u001b[0m \u001b[0;31m#First of all you can't do this\u001b[0m\u001b[0;34m\u001b[0m\u001b[0;34m\u001b[0m\u001b[0;34m\u001b[0m\u001b[0m\n\u001b[0;32m----> 3\u001b[0;31m \u001b[0mmy_numpy_array\u001b[0m\u001b[0;34m.\u001b[0m\u001b[0mappend\u001b[0m\u001b[0;34m(\u001b[0m\u001b[0;34m[\u001b[0m\u001b[0;36m6\u001b[0m\u001b[0;34m]\u001b[0m\u001b[0;34m)\u001b[0m\u001b[0;34m\u001b[0m\u001b[0;34m\u001b[0m\u001b[0m\n\u001b[0m",
            "\u001b[0;31mAttributeError\u001b[0m: 'numpy.ndarray' object has no attribute 'append'"
          ]
        }
      ]
    },
    {
      "cell_type": "code",
      "metadata": {
        "colab": {
          "base_uri": "https://localhost:8080/"
        },
        "id": "ZwZa6WHVHX3Q",
        "outputId": "d63d07b4-ac88-486e-8ed9-43810edb184a"
      },
      "source": [
        "#Which I agree is a bit dumb. But its all about the way the data is stored. You'll need to do this instead which is a bit clunky\n",
        "my_numpy_array=np.append(my_numpy_array,6) #Dont forget = because this function only returns, not rewrite the array.\n",
        "print(my_numpy_array)"
      ],
      "execution_count": 75,
      "outputs": [
        {
          "output_type": "stream",
          "text": [
            "[1 2 3 4 5 6]\n"
          ],
          "name": "stdout"
        }
      ]
    },
    {
      "cell_type": "code",
      "metadata": {
        "colab": {
          "base_uri": "https://localhost:8080/"
        },
        "id": "fUHbhB53HgO7",
        "outputId": "27cde19c-ddab-47d6-d427-6ebeaf2016db"
      },
      "source": [
        "#but we have modifiers like\n",
        "print(my_numpy_array.shape)\n",
        "#or even:\n",
        "my_new_numpy_array=my_numpy_array.reshape(3, 2)\n",
        "print(my_new_numpy_array)\n",
        "print(my_new_numpy_array.shape)\n",
        "#They have better info so lets go here: https://numpy.org/devdocs/user/absolute_beginners.html\n",
        "\n",
        "#Numpy also has inbuilt functions like:\n",
        "print(np.arange(0,10))\n"
      ],
      "execution_count": 79,
      "outputs": [
        {
          "output_type": "stream",
          "text": [
            "(6,)\n",
            "[[1 2]\n",
            " [3 4]\n",
            " [5 6]]\n",
            "(3, 2)\n",
            "[0 1 2 3 4 5 6 7 8 9]\n"
          ],
          "name": "stdout"
        }
      ]
    },
    {
      "cell_type": "code",
      "metadata": {
        "colab": {
          "base_uri": "https://localhost:8080/"
        },
        "id": "oywGvNI2H-Jg",
        "outputId": "2edb4c94-32da-47b9-90f4-c4545060dc5e"
      },
      "source": [
        "# A cool example of why numpy really is better https://www.geeksforgeeks.org/why-numpy-is-faster-in-python/ (also https://towardsdatascience.com/how-fast-numpy-really-is-e9111df44347)\n",
        "# importing required packages\n",
        "import numpy\n",
        "import time\n",
        " \n",
        "# size of arrays and lists\n",
        "size = 1000000  \n",
        " \n",
        "# declaring lists\n",
        "list1 = range(size)\n",
        "list2 = range(size)\n",
        " \n",
        "# declaring arrays\n",
        "array1 = numpy.arange(size) \n",
        "array2 = numpy.arange(size)\n",
        " \n",
        "# list\n",
        "initialTime = time.time()\n",
        "resultantList = [(a * b) for a, b in zip(list1, list2)]\n",
        " \n",
        "# calculating execution time\n",
        "print(\"Time taken by Lists :\",\n",
        "      (time.time() - initialTime),\n",
        "      \"seconds\")\n",
        " \n",
        "# NumPy array\n",
        "initialTime = time.time()\n",
        "resultantArray = array1 * array2\n",
        " \n",
        "# calculating execution time\n",
        "print(\"Time taken by NumPy Arrays :\",\n",
        "      (time.time() - initialTime),\n",
        "      \"seconds\")\n"
      ],
      "execution_count": 82,
      "outputs": [
        {
          "output_type": "stream",
          "text": [
            "Time taken by Lists : 0.11598372459411621 seconds\n",
            "Time taken by NumPy Arrays : 0.0037221908569335938 seconds\n"
          ],
          "name": "stdout"
        }
      ]
    },
    {
      "cell_type": "markdown",
      "metadata": {
        "id": "75GoIwiLLnRj"
      },
      "source": [
        "### Part 5: Pandas, now that we know numpy is the bees knees"
      ]
    },
    {
      "cell_type": "code",
      "metadata": {
        "id": "F5x_SdNHI-7S"
      },
      "source": [
        ""
      ],
      "execution_count": 83,
      "outputs": []
    },
    {
      "cell_type": "code",
      "metadata": {
        "id": "EZlfJvB8LMJ6"
      },
      "source": [
        ""
      ],
      "execution_count": null,
      "outputs": []
    }
  ]
}